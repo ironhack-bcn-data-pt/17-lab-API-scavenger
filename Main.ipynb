{
 "cells": [
  {
   "cell_type": "markdown",
   "id": "cd9f94b0",
   "metadata": {},
   "source": [
    "# Lab 17-API-scavenger"
   ]
  },
  {
   "cell_type": "markdown",
   "id": "89750ba1",
   "metadata": {},
   "source": [
    "## Procesos iniciales"
   ]
  },
  {
   "cell_type": "markdown",
   "id": "b2542382",
   "metadata": {},
   "source": [
    "### Importamos bibliotecas"
   ]
  },
  {
   "cell_type": "code",
   "execution_count": 3,
   "id": "1e943ce0",
   "metadata": {
    "ExecuteTime": {
     "end_time": "2021-11-11T14:21:34.985923Z",
     "start_time": "2021-11-11T14:21:34.057283Z"
    }
   },
   "outputs": [],
   "source": [
    "import pandas as pd\n",
    "import requests\n",
    "import regex as re"
   ]
  },
  {
   "cell_type": "markdown",
   "id": "6165d116",
   "metadata": {},
   "source": [
    "###  Añadimos el Token localizado en otra carpeta"
   ]
  },
  {
   "cell_type": "code",
   "execution_count": 4,
   "id": "ec09a410",
   "metadata": {
    "ExecuteTime": {
     "end_time": "2021-11-11T14:21:35.775478Z",
     "start_time": "2021-11-11T14:21:35.770861Z"
    },
    "scrolled": true
   },
   "outputs": [],
   "source": [
    "import os\n"
   ]
  },
  {
   "cell_type": "code",
   "execution_count": 5,
   "id": "588997a4",
   "metadata": {
    "ExecuteTime": {
     "end_time": "2021-11-11T14:21:36.457966Z",
     "start_time": "2021-11-11T14:21:36.437495Z"
    }
   },
   "outputs": [
    {
     "data": {
      "text/plain": [
       "['.git', '.ipynb_checkpoints', 'Main.ipynb', 'README.md']"
      ]
     },
     "execution_count": 5,
     "metadata": {},
     "output_type": "execute_result"
    }
   ],
   "source": [
    "os.listdir()"
   ]
  },
  {
   "cell_type": "code",
   "execution_count": 6,
   "id": "9d71490a",
   "metadata": {
    "ExecuteTime": {
     "end_time": "2021-11-11T14:21:38.469270Z",
     "start_time": "2021-11-11T14:21:38.449296Z"
    }
   },
   "outputs": [],
   "source": [
    "os.listdir()\n",
    "os.chdir(\"/\")\n",
    "os.chdir(\"Users/irazu/Curso Ironhack/labs\")"
   ]
  },
  {
   "cell_type": "code",
   "execution_count": 7,
   "id": "894ea2c5",
   "metadata": {
    "ExecuteTime": {
     "end_time": "2021-11-11T14:21:39.507503Z",
     "start_time": "2021-11-11T14:21:39.487028Z"
    }
   },
   "outputs": [],
   "source": [
    "#Abro el archivo y selecciono unicamente el token\n",
    "with open (\"tolken.txt\",\"r\") as f:\n",
    "    lines=f.readlines()"
   ]
  },
  {
   "cell_type": "code",
   "execution_count": 8,
   "id": "d71647bf",
   "metadata": {
    "ExecuteTime": {
     "end_time": "2021-11-11T14:21:40.367236Z",
     "start_time": "2021-11-11T14:21:40.352814Z"
    }
   },
   "outputs": [],
   "source": [
    "token=str(lines)[2:-2]"
   ]
  },
  {
   "cell_type": "markdown",
   "id": "e729b7a5",
   "metadata": {},
   "source": [
    "### Compruebo que funcione"
   ]
  },
  {
   "cell_type": "code",
   "execution_count": 10,
   "id": "7ead4351",
   "metadata": {
    "ExecuteTime": {
     "end_time": "2021-11-11T14:21:58.968888Z",
     "start_time": "2021-11-11T14:21:58.951023Z"
    }
   },
   "outputs": [],
   "source": [
    "base_url=\"https://api.github.com\"\n",
    "headers = {'Authorization': 'token ' + token, 'User-Agent': 'irazus13'}"
   ]
  },
  {
   "cell_type": "code",
   "execution_count": 11,
   "id": "f6843d6d",
   "metadata": {
    "ExecuteTime": {
     "end_time": "2021-11-11T14:22:01.607665Z",
     "start_time": "2021-11-11T14:22:01.415478Z"
    }
   },
   "outputs": [],
   "source": [
    "respuesta=requests.get(base_url,headers)"
   ]
  },
  {
   "cell_type": "code",
   "execution_count": 12,
   "id": "4e42da35",
   "metadata": {
    "ExecuteTime": {
     "end_time": "2021-11-11T14:22:02.647667Z",
     "start_time": "2021-11-11T14:22:02.640027Z"
    }
   },
   "outputs": [
    {
     "data": {
      "text/plain": [
       "<Response [200]>"
      ]
     },
     "execution_count": 12,
     "metadata": {},
     "output_type": "execute_result"
    }
   ],
   "source": [
    "#Conexion correcta\n",
    "respuesta"
   ]
  },
  {
   "cell_type": "markdown",
   "id": "a9f5c404",
   "metadata": {},
   "source": [
    "## Challenges!"
   ]
  },
  {
   "cell_type": "markdown",
   "id": "1a28b977",
   "metadata": {},
   "source": [
    "### Challenge one: Fork Languages"
   ]
  },
  {
   "cell_type": "markdown",
   "id": "ce61ce31",
   "metadata": {},
   "source": [
    "You will find out how many programming languages are used among all the forks created from the main lab repo of your bootcamp. Assuming the main lab repo is ironhack-datalabs/madrid-oct-2018, you will:\n",
    "\n",
    "Obtain the full list of forks created from the main lab repo via Github API.\n",
    "\n",
    "Loop the JSON response to find out the language attribute of each fork. Use an array to store the language attributes of each fork.\n",
    "\n",
    "Hint: Each language should appear only once in your array.\n",
    "Print the language array. It should be something like:\n",
    "\n",
    "[\"Python\", \"Jupyter Notebook\", \"HTML\"]"
   ]
  },
  {
   "cell_type": "markdown",
   "id": "ca4e45bc",
   "metadata": {},
   "source": [
    "####   Obtain the full list of forks created from the main lab repo via Github API."
   ]
  },
  {
   "cell_type": "code",
   "execution_count": 22,
   "id": "ab27ae93",
   "metadata": {
    "ExecuteTime": {
     "end_time": "2021-11-09T11:42:37.028185Z",
     "start_time": "2021-11-09T11:42:37.017793Z"
    }
   },
   "outputs": [],
   "source": [
    "#Busco con la api en el usuario de ironhack \n",
    "new_url='https://api.github.com/repos/ironhack-datalabs/mad-oct-2018/forks'\n"
   ]
  },
  {
   "cell_type": "code",
   "execution_count": 23,
   "id": "4d2d1bd1",
   "metadata": {
    "ExecuteTime": {
     "end_time": "2021-11-09T11:42:38.393784Z",
     "start_time": "2021-11-09T11:42:37.729086Z"
    }
   },
   "outputs": [],
   "source": [
    "#Accedo con mi usuario y tolken y busco forks\n",
    "resp=requests.get(new_url,headers).json()"
   ]
  },
  {
   "cell_type": "code",
   "execution_count": 24,
   "id": "847fcd51",
   "metadata": {
    "ExecuteTime": {
     "end_time": "2021-11-09T11:42:39.420655Z",
     "start_time": "2021-11-09T11:42:39.408098Z"
    },
    "scrolled": true
   },
   "outputs": [
    {
     "data": {
      "text/plain": [
       "dict_keys(['id', 'node_id', 'name', 'full_name', 'private', 'owner', 'html_url', 'description', 'fork', 'url', 'forks_url', 'keys_url', 'collaborators_url', 'teams_url', 'hooks_url', 'issue_events_url', 'events_url', 'assignees_url', 'branches_url', 'tags_url', 'blobs_url', 'git_tags_url', 'git_refs_url', 'trees_url', 'statuses_url', 'languages_url', 'stargazers_url', 'contributors_url', 'subscribers_url', 'subscription_url', 'commits_url', 'git_commits_url', 'comments_url', 'issue_comment_url', 'contents_url', 'compare_url', 'merges_url', 'archive_url', 'downloads_url', 'issues_url', 'pulls_url', 'milestones_url', 'notifications_url', 'labels_url', 'releases_url', 'deployments_url', 'created_at', 'updated_at', 'pushed_at', 'git_url', 'ssh_url', 'clone_url', 'svn_url', 'homepage', 'size', 'stargazers_count', 'watchers_count', 'language', 'has_issues', 'has_projects', 'has_downloads', 'has_wiki', 'has_pages', 'forks_count', 'mirror_url', 'archived', 'disabled', 'open_issues_count', 'license', 'allow_forking', 'is_template', 'topics', 'visibility', 'forks', 'open_issues', 'watchers', 'default_branch'])"
      ]
     },
     "execution_count": 24,
     "metadata": {},
     "output_type": "execute_result"
    }
   ],
   "source": [
    "#Analizo los valores que podemos obtener \n",
    "resp[0].keys()"
   ]
  },
  {
   "cell_type": "code",
   "execution_count": 29,
   "id": "1d04f3bb",
   "metadata": {
    "ExecuteTime": {
     "end_time": "2021-11-09T11:44:50.622874Z",
     "start_time": "2021-11-09T11:44:50.605421Z"
    }
   },
   "outputs": [
    {
     "name": "stdout",
     "output_type": "stream",
     "text": [
      "[None, 'Jupyter Notebook', 'HTML']\n"
     ]
    }
   ],
   "source": [
    "#Obtener los lenguajes con un loop\n",
    "languages=[]\n",
    "for i in range(len(resp)):\n",
    "    if resp[i][\"language\"] not in languages:\n",
    "        languages.append(resp[i][\"language\"])\n",
    "print(languages)"
   ]
  },
  {
   "cell_type": "code",
   "execution_count": 28,
   "id": "922b09f9",
   "metadata": {
    "ExecuteTime": {
     "end_time": "2021-11-09T11:44:22.972584Z",
     "start_time": "2021-11-09T11:44:22.941346Z"
    }
   },
   "outputs": [],
   "source": [
    "#Mas facil a traves de un dataframe con todos los datos\n",
    "df=pd.DataFrame(resp)"
   ]
  },
  {
   "cell_type": "code",
   "execution_count": 35,
   "id": "212b7d94",
   "metadata": {
    "ExecuteTime": {
     "end_time": "2021-11-09T11:47:01.853125Z",
     "start_time": "2021-11-09T11:47:01.842470Z"
    },
    "scrolled": false
   },
   "outputs": [
    {
     "data": {
      "text/plain": [
       "Index(['id', 'node_id', 'name', 'full_name', 'private', 'owner', 'html_url',\n",
       "       'description', 'fork', 'url', 'forks_url', 'keys_url',\n",
       "       'collaborators_url', 'teams_url', 'hooks_url', 'issue_events_url',\n",
       "       'events_url', 'assignees_url', 'branches_url', 'tags_url', 'blobs_url',\n",
       "       'git_tags_url', 'git_refs_url', 'trees_url', 'statuses_url',\n",
       "       'languages_url', 'stargazers_url', 'contributors_url',\n",
       "       'subscribers_url', 'subscription_url', 'commits_url', 'git_commits_url',\n",
       "       'comments_url', 'issue_comment_url', 'contents_url', 'compare_url',\n",
       "       'merges_url', 'archive_url', 'downloads_url', 'issues_url', 'pulls_url',\n",
       "       'milestones_url', 'notifications_url', 'labels_url', 'releases_url',\n",
       "       'deployments_url', 'created_at', 'updated_at', 'pushed_at', 'git_url',\n",
       "       'ssh_url', 'clone_url', 'svn_url', 'homepage', 'size',\n",
       "       'stargazers_count', 'watchers_count', 'language', 'has_issues',\n",
       "       'has_projects', 'has_downloads', 'has_wiki', 'has_pages', 'forks_count',\n",
       "       'mirror_url', 'archived', 'disabled', 'open_issues_count', 'license',\n",
       "       'allow_forking', 'is_template', 'topics', 'visibility', 'forks',\n",
       "       'open_issues', 'watchers', 'default_branch'],\n",
       "      dtype='object')"
      ]
     },
     "execution_count": 35,
     "metadata": {},
     "output_type": "execute_result"
    }
   ],
   "source": [
    "#Buscamos la columna lenguage y forks\n",
    "df.columns"
   ]
  },
  {
   "cell_type": "code",
   "execution_count": 37,
   "id": "ca4b88de",
   "metadata": {
    "ExecuteTime": {
     "end_time": "2021-11-09T11:47:16.930480Z",
     "start_time": "2021-11-09T11:47:16.914055Z"
    }
   },
   "outputs": [
    {
     "data": {
      "text/html": [
       "<div>\n",
       "<style scoped>\n",
       "    .dataframe tbody tr th:only-of-type {\n",
       "        vertical-align: middle;\n",
       "    }\n",
       "\n",
       "    .dataframe tbody tr th {\n",
       "        vertical-align: top;\n",
       "    }\n",
       "\n",
       "    .dataframe thead th {\n",
       "        text-align: right;\n",
       "    }\n",
       "</style>\n",
       "<table border=\"1\" class=\"dataframe\">\n",
       "  <thead>\n",
       "    <tr style=\"text-align: right;\">\n",
       "      <th></th>\n",
       "      <th>name</th>\n",
       "      <th>fork</th>\n",
       "      <th>forks_count</th>\n",
       "      <th>forks</th>\n",
       "      <th>language</th>\n",
       "    </tr>\n",
       "  </thead>\n",
       "  <tbody>\n",
       "    <tr>\n",
       "      <th>0</th>\n",
       "      <td>mad-oct-2018</td>\n",
       "      <td>True</td>\n",
       "      <td>0</td>\n",
       "      <td>0</td>\n",
       "      <td>None</td>\n",
       "    </tr>\n",
       "    <tr>\n",
       "      <th>1</th>\n",
       "      <td>mad-oct-2018</td>\n",
       "      <td>True</td>\n",
       "      <td>0</td>\n",
       "      <td>0</td>\n",
       "      <td>None</td>\n",
       "    </tr>\n",
       "    <tr>\n",
       "      <th>2</th>\n",
       "      <td>mad-oct-2018</td>\n",
       "      <td>True</td>\n",
       "      <td>0</td>\n",
       "      <td>0</td>\n",
       "      <td>None</td>\n",
       "    </tr>\n",
       "    <tr>\n",
       "      <th>3</th>\n",
       "      <td>mad-oct-2018</td>\n",
       "      <td>True</td>\n",
       "      <td>0</td>\n",
       "      <td>0</td>\n",
       "      <td>None</td>\n",
       "    </tr>\n",
       "    <tr>\n",
       "      <th>4</th>\n",
       "      <td>mad-oct-2018</td>\n",
       "      <td>True</td>\n",
       "      <td>0</td>\n",
       "      <td>0</td>\n",
       "      <td>None</td>\n",
       "    </tr>\n",
       "    <tr>\n",
       "      <th>5</th>\n",
       "      <td>mad-oct-2018</td>\n",
       "      <td>True</td>\n",
       "      <td>0</td>\n",
       "      <td>0</td>\n",
       "      <td>Jupyter Notebook</td>\n",
       "    </tr>\n",
       "    <tr>\n",
       "      <th>6</th>\n",
       "      <td>mad-oct-2018</td>\n",
       "      <td>True</td>\n",
       "      <td>0</td>\n",
       "      <td>0</td>\n",
       "      <td>Jupyter Notebook</td>\n",
       "    </tr>\n",
       "    <tr>\n",
       "      <th>7</th>\n",
       "      <td>mad-oct-2018</td>\n",
       "      <td>True</td>\n",
       "      <td>0</td>\n",
       "      <td>0</td>\n",
       "      <td>Jupyter Notebook</td>\n",
       "    </tr>\n",
       "    <tr>\n",
       "      <th>8</th>\n",
       "      <td>datamad0119</td>\n",
       "      <td>True</td>\n",
       "      <td>0</td>\n",
       "      <td>0</td>\n",
       "      <td>Jupyter Notebook</td>\n",
       "    </tr>\n",
       "    <tr>\n",
       "      <th>9</th>\n",
       "      <td>madrid-oct-2018</td>\n",
       "      <td>True</td>\n",
       "      <td>1</td>\n",
       "      <td>1</td>\n",
       "      <td>Jupyter Notebook</td>\n",
       "    </tr>\n",
       "    <tr>\n",
       "      <th>10</th>\n",
       "      <td>madrid-oct-2018</td>\n",
       "      <td>True</td>\n",
       "      <td>0</td>\n",
       "      <td>0</td>\n",
       "      <td>HTML</td>\n",
       "    </tr>\n",
       "    <tr>\n",
       "      <th>11</th>\n",
       "      <td>Ironhack-oct-2018</td>\n",
       "      <td>True</td>\n",
       "      <td>0</td>\n",
       "      <td>0</td>\n",
       "      <td>Jupyter Notebook</td>\n",
       "    </tr>\n",
       "    <tr>\n",
       "      <th>12</th>\n",
       "      <td>madrid-oct-2018</td>\n",
       "      <td>True</td>\n",
       "      <td>0</td>\n",
       "      <td>0</td>\n",
       "      <td>Jupyter Notebook</td>\n",
       "    </tr>\n",
       "    <tr>\n",
       "      <th>13</th>\n",
       "      <td>madrid-oct-2018</td>\n",
       "      <td>True</td>\n",
       "      <td>0</td>\n",
       "      <td>0</td>\n",
       "      <td>Jupyter Notebook</td>\n",
       "    </tr>\n",
       "    <tr>\n",
       "      <th>14</th>\n",
       "      <td>madrid-oct-2018</td>\n",
       "      <td>True</td>\n",
       "      <td>0</td>\n",
       "      <td>0</td>\n",
       "      <td>Jupyter Notebook</td>\n",
       "    </tr>\n",
       "    <tr>\n",
       "      <th>15</th>\n",
       "      <td>madrid-oct-2018</td>\n",
       "      <td>True</td>\n",
       "      <td>0</td>\n",
       "      <td>0</td>\n",
       "      <td>Jupyter Notebook</td>\n",
       "    </tr>\n",
       "    <tr>\n",
       "      <th>16</th>\n",
       "      <td>madrid-oct-2018</td>\n",
       "      <td>True</td>\n",
       "      <td>0</td>\n",
       "      <td>0</td>\n",
       "      <td>Jupyter Notebook</td>\n",
       "    </tr>\n",
       "    <tr>\n",
       "      <th>17</th>\n",
       "      <td>madrid-oct-2018</td>\n",
       "      <td>True</td>\n",
       "      <td>0</td>\n",
       "      <td>0</td>\n",
       "      <td>Jupyter Notebook</td>\n",
       "    </tr>\n",
       "  </tbody>\n",
       "</table>\n",
       "</div>"
      ],
      "text/plain": [
       "                 name  fork  forks_count  forks          language\n",
       "0        mad-oct-2018  True            0      0              None\n",
       "1        mad-oct-2018  True            0      0              None\n",
       "2        mad-oct-2018  True            0      0              None\n",
       "3        mad-oct-2018  True            0      0              None\n",
       "4        mad-oct-2018  True            0      0              None\n",
       "5        mad-oct-2018  True            0      0  Jupyter Notebook\n",
       "6        mad-oct-2018  True            0      0  Jupyter Notebook\n",
       "7        mad-oct-2018  True            0      0  Jupyter Notebook\n",
       "8         datamad0119  True            0      0  Jupyter Notebook\n",
       "9     madrid-oct-2018  True            1      1  Jupyter Notebook\n",
       "10    madrid-oct-2018  True            0      0              HTML\n",
       "11  Ironhack-oct-2018  True            0      0  Jupyter Notebook\n",
       "12    madrid-oct-2018  True            0      0  Jupyter Notebook\n",
       "13    madrid-oct-2018  True            0      0  Jupyter Notebook\n",
       "14    madrid-oct-2018  True            0      0  Jupyter Notebook\n",
       "15    madrid-oct-2018  True            0      0  Jupyter Notebook\n",
       "16    madrid-oct-2018  True            0      0  Jupyter Notebook\n",
       "17    madrid-oct-2018  True            0      0  Jupyter Notebook"
      ]
     },
     "execution_count": 37,
     "metadata": {},
     "output_type": "execute_result"
    }
   ],
   "source": [
    "#sacamos el nombre del repo, los forks y el lenguaje\n",
    "df[[\"name\",\"fork\",\"forks_count\",\"forks\",\"language\"]]"
   ]
  },
  {
   "cell_type": "code",
   "execution_count": 39,
   "id": "b8fedaef",
   "metadata": {
    "ExecuteTime": {
     "end_time": "2021-11-09T11:48:52.411375Z",
     "start_time": "2021-11-09T11:48:52.405355Z"
    }
   },
   "outputs": [
    {
     "data": {
      "text/plain": [
       "array([None, 'Jupyter Notebook', 'HTML'], dtype=object)"
      ]
     },
     "execution_count": 39,
     "metadata": {},
     "output_type": "execute_result"
    }
   ],
   "source": [
    "# el array de language\n",
    "df.language.unique()"
   ]
  },
  {
   "cell_type": "markdown",
   "id": "92197ea5",
   "metadata": {},
   "source": [
    "###   Challenge 2: Count Commits"
   ]
  },
  {
   "cell_type": "markdown",
   "id": "2db36838",
   "metadata": {},
   "source": [
    "Count how many commits were made in the past week.\n",
    "\n",
    "Obtain all the commits made in the past week via API, which is a JSON array that contains multiple commit objects.\n",
    "\n",
    "Count how many commit objects are contained in the array."
   ]
  },
  {
   "cell_type": "code",
   "execution_count": 43,
   "id": "89c1215b",
   "metadata": {
    "ExecuteTime": {
     "end_time": "2021-11-09T11:53:27.410488Z",
     "start_time": "2021-11-09T11:53:27.394218Z"
    }
   },
   "outputs": [
    {
     "data": {
      "text/html": [
       "<div>\n",
       "<style scoped>\n",
       "    .dataframe tbody tr th:only-of-type {\n",
       "        vertical-align: middle;\n",
       "    }\n",
       "\n",
       "    .dataframe tbody tr th {\n",
       "        vertical-align: top;\n",
       "    }\n",
       "\n",
       "    .dataframe thead th {\n",
       "        text-align: right;\n",
       "    }\n",
       "</style>\n",
       "<table border=\"1\" class=\"dataframe\">\n",
       "  <thead>\n",
       "    <tr style=\"text-align: right;\">\n",
       "      <th></th>\n",
       "      <th>name</th>\n",
       "      <th>commits_url</th>\n",
       "      <th>git_commits_url</th>\n",
       "      <th>updated_at</th>\n",
       "    </tr>\n",
       "  </thead>\n",
       "  <tbody>\n",
       "    <tr>\n",
       "      <th>0</th>\n",
       "      <td>mad-oct-2018</td>\n",
       "      <td>https://api.github.com/repos/TheIronhidex/mad-...</td>\n",
       "      <td>https://api.github.com/repos/TheIronhidex/mad-...</td>\n",
       "      <td>2021-10-26T11:01:49Z</td>\n",
       "    </tr>\n",
       "    <tr>\n",
       "      <th>1</th>\n",
       "      <td>mad-oct-2018</td>\n",
       "      <td>https://api.github.com/repos/techols/mad-oct-2...</td>\n",
       "      <td>https://api.github.com/repos/techols/mad-oct-2...</td>\n",
       "      <td>2021-10-13T17:04:43Z</td>\n",
       "    </tr>\n",
       "    <tr>\n",
       "      <th>2</th>\n",
       "      <td>mad-oct-2018</td>\n",
       "      <td>https://api.github.com/repos/luisbang/mad-oct-...</td>\n",
       "      <td>https://api.github.com/repos/luisbang/mad-oct-...</td>\n",
       "      <td>2021-04-12T20:51:52Z</td>\n",
       "    </tr>\n",
       "    <tr>\n",
       "      <th>3</th>\n",
       "      <td>mad-oct-2018</td>\n",
       "      <td>https://api.github.com/repos/Forastierii/mad-o...</td>\n",
       "      <td>https://api.github.com/repos/Forastierii/mad-o...</td>\n",
       "      <td>2021-02-02T14:07:19Z</td>\n",
       "    </tr>\n",
       "    <tr>\n",
       "      <th>4</th>\n",
       "      <td>mad-oct-2018</td>\n",
       "      <td>https://api.github.com/repos/ToniPons97/mad-oc...</td>\n",
       "      <td>https://api.github.com/repos/ToniPons97/mad-oc...</td>\n",
       "      <td>2019-11-06T18:44:52Z</td>\n",
       "    </tr>\n",
       "    <tr>\n",
       "      <th>5</th>\n",
       "      <td>mad-oct-2018</td>\n",
       "      <td>https://api.github.com/repos/rsennes/mad-oct-2...</td>\n",
       "      <td>https://api.github.com/repos/rsennes/mad-oct-2...</td>\n",
       "      <td>2019-08-24T03:04:04Z</td>\n",
       "    </tr>\n",
       "    <tr>\n",
       "      <th>6</th>\n",
       "      <td>mad-oct-2018</td>\n",
       "      <td>https://api.github.com/repos/gggfaria/mad-oct-...</td>\n",
       "      <td>https://api.github.com/repos/gggfaria/mad-oct-...</td>\n",
       "      <td>2019-08-02T00:46:54Z</td>\n",
       "    </tr>\n",
       "    <tr>\n",
       "      <th>7</th>\n",
       "      <td>mad-oct-2018</td>\n",
       "      <td>https://api.github.com/repos/nancyulric/mad-oc...</td>\n",
       "      <td>https://api.github.com/repos/nancyulric/mad-oc...</td>\n",
       "      <td>2019-07-22T17:41:13Z</td>\n",
       "    </tr>\n",
       "    <tr>\n",
       "      <th>8</th>\n",
       "      <td>datamad0119</td>\n",
       "      <td>https://api.github.com/repos/lmartinezruizit/d...</td>\n",
       "      <td>https://api.github.com/repos/lmartinezruizit/d...</td>\n",
       "      <td>2019-01-22T13:42:33Z</td>\n",
       "    </tr>\n",
       "    <tr>\n",
       "      <th>9</th>\n",
       "      <td>madrid-oct-2018</td>\n",
       "      <td>https://api.github.com/repos/eye8/madrid-oct-2...</td>\n",
       "      <td>https://api.github.com/repos/eye8/madrid-oct-2...</td>\n",
       "      <td>2018-12-19T22:40:32Z</td>\n",
       "    </tr>\n",
       "    <tr>\n",
       "      <th>10</th>\n",
       "      <td>madrid-oct-2018</td>\n",
       "      <td>https://api.github.com/repos/ArieHassan/madrid...</td>\n",
       "      <td>https://api.github.com/repos/ArieHassan/madrid...</td>\n",
       "      <td>2018-10-31T11:39:38Z</td>\n",
       "    </tr>\n",
       "    <tr>\n",
       "      <th>11</th>\n",
       "      <td>Ironhack-oct-2018</td>\n",
       "      <td>https://api.github.com/repos/cmvalma/Ironhack-...</td>\n",
       "      <td>https://api.github.com/repos/cmvalma/Ironhack-...</td>\n",
       "      <td>2021-08-23T12:27:55Z</td>\n",
       "    </tr>\n",
       "    <tr>\n",
       "      <th>12</th>\n",
       "      <td>madrid-oct-2018</td>\n",
       "      <td>https://api.github.com/repos/criraca/madrid-oc...</td>\n",
       "      <td>https://api.github.com/repos/criraca/madrid-oc...</td>\n",
       "      <td>2018-12-05T14:18:02Z</td>\n",
       "    </tr>\n",
       "    <tr>\n",
       "      <th>13</th>\n",
       "      <td>madrid-oct-2018</td>\n",
       "      <td>https://api.github.com/repos/AlbertoCastellano...</td>\n",
       "      <td>https://api.github.com/repos/AlbertoCastellano...</td>\n",
       "      <td>2018-12-03T14:18:22Z</td>\n",
       "    </tr>\n",
       "    <tr>\n",
       "      <th>14</th>\n",
       "      <td>madrid-oct-2018</td>\n",
       "      <td>https://api.github.com/repos/elenajpp/madrid-o...</td>\n",
       "      <td>https://api.github.com/repos/elenajpp/madrid-o...</td>\n",
       "      <td>2018-12-05T15:59:58Z</td>\n",
       "    </tr>\n",
       "    <tr>\n",
       "      <th>15</th>\n",
       "      <td>madrid-oct-2018</td>\n",
       "      <td>https://api.github.com/repos/miriammg/madrid-o...</td>\n",
       "      <td>https://api.github.com/repos/miriammg/madrid-o...</td>\n",
       "      <td>2018-12-07T09:57:15Z</td>\n",
       "    </tr>\n",
       "    <tr>\n",
       "      <th>16</th>\n",
       "      <td>madrid-oct-2018</td>\n",
       "      <td>https://api.github.com/repos/albertogcmr/madri...</td>\n",
       "      <td>https://api.github.com/repos/albertogcmr/madri...</td>\n",
       "      <td>2019-01-18T09:34:32Z</td>\n",
       "    </tr>\n",
       "    <tr>\n",
       "      <th>17</th>\n",
       "      <td>madrid-oct-2018</td>\n",
       "      <td>https://api.github.com/repos/marisfont/madrid-...</td>\n",
       "      <td>https://api.github.com/repos/marisfont/madrid-...</td>\n",
       "      <td>2018-12-04T17:31:47Z</td>\n",
       "    </tr>\n",
       "  </tbody>\n",
       "</table>\n",
       "</div>"
      ],
      "text/plain": [
       "                 name                                        commits_url  \\\n",
       "0        mad-oct-2018  https://api.github.com/repos/TheIronhidex/mad-...   \n",
       "1        mad-oct-2018  https://api.github.com/repos/techols/mad-oct-2...   \n",
       "2        mad-oct-2018  https://api.github.com/repos/luisbang/mad-oct-...   \n",
       "3        mad-oct-2018  https://api.github.com/repos/Forastierii/mad-o...   \n",
       "4        mad-oct-2018  https://api.github.com/repos/ToniPons97/mad-oc...   \n",
       "5        mad-oct-2018  https://api.github.com/repos/rsennes/mad-oct-2...   \n",
       "6        mad-oct-2018  https://api.github.com/repos/gggfaria/mad-oct-...   \n",
       "7        mad-oct-2018  https://api.github.com/repos/nancyulric/mad-oc...   \n",
       "8         datamad0119  https://api.github.com/repos/lmartinezruizit/d...   \n",
       "9     madrid-oct-2018  https://api.github.com/repos/eye8/madrid-oct-2...   \n",
       "10    madrid-oct-2018  https://api.github.com/repos/ArieHassan/madrid...   \n",
       "11  Ironhack-oct-2018  https://api.github.com/repos/cmvalma/Ironhack-...   \n",
       "12    madrid-oct-2018  https://api.github.com/repos/criraca/madrid-oc...   \n",
       "13    madrid-oct-2018  https://api.github.com/repos/AlbertoCastellano...   \n",
       "14    madrid-oct-2018  https://api.github.com/repos/elenajpp/madrid-o...   \n",
       "15    madrid-oct-2018  https://api.github.com/repos/miriammg/madrid-o...   \n",
       "16    madrid-oct-2018  https://api.github.com/repos/albertogcmr/madri...   \n",
       "17    madrid-oct-2018  https://api.github.com/repos/marisfont/madrid-...   \n",
       "\n",
       "                                      git_commits_url            updated_at  \n",
       "0   https://api.github.com/repos/TheIronhidex/mad-...  2021-10-26T11:01:49Z  \n",
       "1   https://api.github.com/repos/techols/mad-oct-2...  2021-10-13T17:04:43Z  \n",
       "2   https://api.github.com/repos/luisbang/mad-oct-...  2021-04-12T20:51:52Z  \n",
       "3   https://api.github.com/repos/Forastierii/mad-o...  2021-02-02T14:07:19Z  \n",
       "4   https://api.github.com/repos/ToniPons97/mad-oc...  2019-11-06T18:44:52Z  \n",
       "5   https://api.github.com/repos/rsennes/mad-oct-2...  2019-08-24T03:04:04Z  \n",
       "6   https://api.github.com/repos/gggfaria/mad-oct-...  2019-08-02T00:46:54Z  \n",
       "7   https://api.github.com/repos/nancyulric/mad-oc...  2019-07-22T17:41:13Z  \n",
       "8   https://api.github.com/repos/lmartinezruizit/d...  2019-01-22T13:42:33Z  \n",
       "9   https://api.github.com/repos/eye8/madrid-oct-2...  2018-12-19T22:40:32Z  \n",
       "10  https://api.github.com/repos/ArieHassan/madrid...  2018-10-31T11:39:38Z  \n",
       "11  https://api.github.com/repos/cmvalma/Ironhack-...  2021-08-23T12:27:55Z  \n",
       "12  https://api.github.com/repos/criraca/madrid-oc...  2018-12-05T14:18:02Z  \n",
       "13  https://api.github.com/repos/AlbertoCastellano...  2018-12-03T14:18:22Z  \n",
       "14  https://api.github.com/repos/elenajpp/madrid-o...  2018-12-05T15:59:58Z  \n",
       "15  https://api.github.com/repos/miriammg/madrid-o...  2018-12-07T09:57:15Z  \n",
       "16  https://api.github.com/repos/albertogcmr/madri...  2019-01-18T09:34:32Z  \n",
       "17  https://api.github.com/repos/marisfont/madrid-...  2018-12-04T17:31:47Z  "
      ]
     },
     "execution_count": 43,
     "metadata": {},
     "output_type": "execute_result"
    }
   ],
   "source": [
    "#Analizo las columnas nombre y commits, como la ultima semana no ha habido movimiento decido buscar los commits de nuestro Ironhack\n",
    "df[[\"name\",\"commits_url\",\"git_commits_url\",\"updated_at\"]]"
   ]
  },
  {
   "cell_type": "code",
   "execution_count": 48,
   "id": "38c97ff3",
   "metadata": {
    "ExecuteTime": {
     "end_time": "2021-11-09T12:02:05.153495Z",
     "start_time": "2021-11-09T12:02:04.524031Z"
    }
   },
   "outputs": [],
   "source": [
    "#Gracias a StarkOverflow.com por la direccion exacta\n",
    "_#probar con commits activity\n",
    "url_commit='https://api.github.com/users/ironhack-bcn-data-pt/events/public'\n",
    "resp2=requests.get(url_commit,headers).json()"
   ]
  },
  {
   "cell_type": "code",
   "execution_count": 153,
   "id": "0a8eda71",
   "metadata": {
    "ExecuteTime": {
     "end_time": "2021-11-09T18:07:30.777225Z",
     "start_time": "2021-11-09T18:07:30.359662Z"
    }
   },
   "outputs": [],
   "source": [
    "#con since se puede filtrar directamente, tambien se puede pasar como parametro.\n",
    "url_commit='https://api.github.com/repos/ironhack-datalabs/mad-oct-2018/commits?since=2019-03-01'\n",
    "resp3=requests.get(url_commit,headers).json()"
   ]
  },
  {
   "cell_type": "code",
   "execution_count": 154,
   "id": "c575b4d4",
   "metadata": {
    "ExecuteTime": {
     "end_time": "2021-11-09T18:07:31.599385Z",
     "start_time": "2021-11-09T18:07:31.580979Z"
    }
   },
   "outputs": [
    {
     "data": {
      "text/plain": [
       "dict_keys(['sha', 'node_id', 'commit', 'url', 'html_url', 'comments_url', 'author', 'committer', 'parents'])"
      ]
     },
     "execution_count": 154,
     "metadata": {},
     "output_type": "execute_result"
    }
   ],
   "source": [
    "resp3[0].keys()"
   ]
  },
  {
   "cell_type": "code",
   "execution_count": 155,
   "id": "6a74fed1",
   "metadata": {
    "ExecuteTime": {
     "end_time": "2021-11-09T18:07:32.189479Z",
     "start_time": "2021-11-09T18:07:32.160973Z"
    }
   },
   "outputs": [],
   "source": [
    "df3=pd.json_normalize(resp3)"
   ]
  },
  {
   "cell_type": "code",
   "execution_count": 156,
   "id": "74e1e1b0",
   "metadata": {
    "ExecuteTime": {
     "end_time": "2021-11-09T18:07:33.121213Z",
     "start_time": "2021-11-09T18:07:33.111492Z"
    },
    "scrolled": true
   },
   "outputs": [
    {
     "data": {
      "text/plain": [
       "0    2019-08-19T11:11:36Z\n",
       "1    2019-03-07T15:49:16Z\n",
       "2    2019-03-07T15:38:52Z\n",
       "Name: commit.author.date, dtype: object"
      ]
     },
     "execution_count": 156,
     "metadata": {},
     "output_type": "execute_result"
    }
   ],
   "source": [
    "df3[\"commit.author.date\"]"
   ]
  },
  {
   "cell_type": "code",
   "execution_count": 64,
   "id": "54060a58",
   "metadata": {
    "ExecuteTime": {
     "end_time": "2021-11-09T12:07:57.974522Z",
     "start_time": "2021-11-09T12:07:57.967465Z"
    },
    "scrolled": false
   },
   "outputs": [
    {
     "data": {
      "text/plain": [
       "dict_keys(['id', 'type', 'actor', 'repo', 'payload', 'public', 'created_at', 'org'])"
      ]
     },
     "execution_count": 64,
     "metadata": {},
     "output_type": "execute_result"
    }
   ],
   "source": [
    "resp2[0].keys()"
   ]
  },
  {
   "cell_type": "code",
   "execution_count": 63,
   "id": "fffef55c",
   "metadata": {
    "ExecuteTime": {
     "end_time": "2021-11-09T12:07:41.329668Z",
     "start_time": "2021-11-09T12:07:41.308797Z"
    },
    "scrolled": false
   },
   "outputs": [
    {
     "name": "stdout",
     "output_type": "stream",
     "text": [
      "PullRequestEvent\n",
      "PullRequestEvent\n",
      "PullRequestEvent\n",
      "PullRequestEvent\n",
      "PullRequestEvent\n",
      "PullRequestEvent\n",
      "PullRequestEvent\n",
      "PullRequestEvent\n",
      "ForkEvent\n",
      "ForkEvent\n",
      "ForkEvent\n",
      "PullRequestEvent\n",
      "IssuesEvent\n",
      "IssueCommentEvent\n",
      "IssueCommentEvent\n",
      "IssueCommentEvent\n",
      "IssueCommentEvent\n",
      "PullRequestEvent\n",
      "ForkEvent\n",
      "ForkEvent\n",
      "ForkEvent\n",
      "ForkEvent\n",
      "PullRequestEvent\n",
      "ForkEvent\n",
      "PullRequestEvent\n",
      "PullRequestEvent\n",
      "ForkEvent\n",
      "ForkEvent\n",
      "ForkEvent\n",
      "ForkEvent\n"
     ]
    }
   ],
   "source": [
    "#En pullrequestsevent la cantidad de commits! en el resto no\n",
    "#Vamos a ver que tipo de eventos hay\n",
    "for i in range(len(resp2)):\n",
    "    print(resp2[i][\"type\"])"
   ]
  },
  {
   "cell_type": "code",
   "execution_count": 65,
   "id": "56a9f24a",
   "metadata": {
    "ExecuteTime": {
     "end_time": "2021-11-09T12:08:07.770584Z",
     "start_time": "2021-11-09T12:08:07.760718Z"
    }
   },
   "outputs": [],
   "source": [
    "#creo una lista donde solo estan los pullrequests \n",
    "lista_indice_pull=[]\n",
    "for i in range(len(resp2)):\n",
    "    if(resp2[i][\"type\"])==\"PullRequestEvent\":\n",
    "        lista_indice_pull.append(resp2[i])"
   ]
  },
  {
   "cell_type": "code",
   "execution_count": 74,
   "id": "05976a46",
   "metadata": {
    "ExecuteTime": {
     "end_time": "2021-11-09T12:10:07.112635Z",
     "start_time": "2021-11-09T12:10:07.056669Z"
    }
   },
   "outputs": [],
   "source": [
    "#Creo un df con los contenidos de estos pull haggo dos para ver la diferencia entre el normalize y el normal\n",
    "df2=pd.json_normalize(lista_indice_pull)"
   ]
  },
  {
   "cell_type": "code",
   "execution_count": 236,
   "id": "72b66b3a",
   "metadata": {
    "ExecuteTime": {
     "end_time": "2021-11-07T10:06:51.994420Z",
     "start_time": "2021-11-07T10:06:51.987136Z"
    }
   },
   "outputs": [
    {
     "data": {
      "text/plain": [
       "dict_keys(['action', 'number', 'pull_request'])"
      ]
     },
     "execution_count": 236,
     "metadata": {},
     "output_type": "execute_result"
    }
   ],
   "source": [
    "#Tengo que localizar la fecha y el numero de commits\n",
    "resp2[2][\"payload\"].keys()"
   ]
  },
  {
   "cell_type": "code",
   "execution_count": 142,
   "id": "32c45c5a",
   "metadata": {
    "ExecuteTime": {
     "end_time": "2021-11-09T17:48:45.618543Z",
     "start_time": "2021-11-09T17:48:45.579289Z"
    }
   },
   "outputs": [
    {
     "data": {
      "text/plain": [
       "{'id': '18792747387',\n",
       " 'type': 'PullRequestEvent',\n",
       " 'actor': {'id': 84683711,\n",
       "  'login': 'nestormiranda97',\n",
       "  'display_login': 'nestormiranda97',\n",
       "  'gravatar_id': '',\n",
       "  'url': 'https://api.github.com/users/nestormiranda97',\n",
       "  'avatar_url': 'https://avatars.githubusercontent.com/u/84683711?'},\n",
       " 'repo': {'id': 280233489,\n",
       "  'name': 'ironhack-bcn-data-pt/PR02-project-pandas',\n",
       "  'url': 'https://api.github.com/repos/ironhack-bcn-data-pt/PR02-project-pandas'},\n",
       " 'payload': {'action': 'opened',\n",
       "  'number': 27,\n",
       "  'pull_request': {'url': 'https://api.github.com/repos/ironhack-bcn-data-pt/PR02-project-pandas/pulls/27',\n",
       "   'id': 775840657,\n",
       "   'node_id': 'PR_kwDOELQGEc4uPmOR',\n",
       "   'html_url': 'https://github.com/ironhack-bcn-data-pt/PR02-project-pandas/pull/27',\n",
       "   'diff_url': 'https://github.com/ironhack-bcn-data-pt/PR02-project-pandas/pull/27.diff',\n",
       "   'patch_url': 'https://github.com/ironhack-bcn-data-pt/PR02-project-pandas/pull/27.patch',\n",
       "   'issue_url': 'https://api.github.com/repos/ironhack-bcn-data-pt/PR02-project-pandas/issues/27',\n",
       "   'number': 27,\n",
       "   'state': 'open',\n",
       "   'locked': False,\n",
       "   'title': 'Nestor Project 02',\n",
       "   'user': {'login': 'nestormiranda97',\n",
       "    'id': 84683711,\n",
       "    'node_id': 'MDQ6VXNlcjg0NjgzNzEx',\n",
       "    'avatar_url': 'https://avatars.githubusercontent.com/u/84683711?v=4',\n",
       "    'gravatar_id': '',\n",
       "    'url': 'https://api.github.com/users/nestormiranda97',\n",
       "    'html_url': 'https://github.com/nestormiranda97',\n",
       "    'followers_url': 'https://api.github.com/users/nestormiranda97/followers',\n",
       "    'following_url': 'https://api.github.com/users/nestormiranda97/following{/other_user}',\n",
       "    'gists_url': 'https://api.github.com/users/nestormiranda97/gists{/gist_id}',\n",
       "    'starred_url': 'https://api.github.com/users/nestormiranda97/starred{/owner}{/repo}',\n",
       "    'subscriptions_url': 'https://api.github.com/users/nestormiranda97/subscriptions',\n",
       "    'organizations_url': 'https://api.github.com/users/nestormiranda97/orgs',\n",
       "    'repos_url': 'https://api.github.com/users/nestormiranda97/repos',\n",
       "    'events_url': 'https://api.github.com/users/nestormiranda97/events{/privacy}',\n",
       "    'received_events_url': 'https://api.github.com/users/nestormiranda97/received_events',\n",
       "    'type': 'User',\n",
       "    'site_admin': False},\n",
       "   'body': None,\n",
       "   'created_at': '2021-11-08T18:33:03Z',\n",
       "   'updated_at': '2021-11-08T18:33:03Z',\n",
       "   'closed_at': None,\n",
       "   'merged_at': None,\n",
       "   'merge_commit_sha': None,\n",
       "   'assignee': None,\n",
       "   'assignees': [],\n",
       "   'requested_reviewers': [],\n",
       "   'requested_teams': [],\n",
       "   'labels': [],\n",
       "   'milestone': None,\n",
       "   'draft': False,\n",
       "   'commits_url': 'https://api.github.com/repos/ironhack-bcn-data-pt/PR02-project-pandas/pulls/27/commits',\n",
       "   'review_comments_url': 'https://api.github.com/repos/ironhack-bcn-data-pt/PR02-project-pandas/pulls/27/comments',\n",
       "   'review_comment_url': 'https://api.github.com/repos/ironhack-bcn-data-pt/PR02-project-pandas/pulls/comments{/number}',\n",
       "   'comments_url': 'https://api.github.com/repos/ironhack-bcn-data-pt/PR02-project-pandas/issues/27/comments',\n",
       "   'statuses_url': 'https://api.github.com/repos/ironhack-bcn-data-pt/PR02-project-pandas/statuses/72c1ecb1958c97ef90317fe1bc108f9e6dba9920',\n",
       "   'head': {'label': 'nestormiranda97:master',\n",
       "    'ref': 'master',\n",
       "    'sha': '72c1ecb1958c97ef90317fe1bc108f9e6dba9920',\n",
       "    'user': {'login': 'nestormiranda97',\n",
       "     'id': 84683711,\n",
       "     'node_id': 'MDQ6VXNlcjg0NjgzNzEx',\n",
       "     'avatar_url': 'https://avatars.githubusercontent.com/u/84683711?v=4',\n",
       "     'gravatar_id': '',\n",
       "     'url': 'https://api.github.com/users/nestormiranda97',\n",
       "     'html_url': 'https://github.com/nestormiranda97',\n",
       "     'followers_url': 'https://api.github.com/users/nestormiranda97/followers',\n",
       "     'following_url': 'https://api.github.com/users/nestormiranda97/following{/other_user}',\n",
       "     'gists_url': 'https://api.github.com/users/nestormiranda97/gists{/gist_id}',\n",
       "     'starred_url': 'https://api.github.com/users/nestormiranda97/starred{/owner}{/repo}',\n",
       "     'subscriptions_url': 'https://api.github.com/users/nestormiranda97/subscriptions',\n",
       "     'organizations_url': 'https://api.github.com/users/nestormiranda97/orgs',\n",
       "     'repos_url': 'https://api.github.com/users/nestormiranda97/repos',\n",
       "     'events_url': 'https://api.github.com/users/nestormiranda97/events{/privacy}',\n",
       "     'received_events_url': 'https://api.github.com/users/nestormiranda97/received_events',\n",
       "     'type': 'User',\n",
       "     'site_admin': False},\n",
       "    'repo': {'id': 422317933,\n",
       "     'node_id': 'R_kgDOGSwPbQ',\n",
       "     'name': 'PR02-project-pandas',\n",
       "     'full_name': 'nestormiranda97/PR02-project-pandas',\n",
       "     'private': False,\n",
       "     'owner': {'login': 'nestormiranda97',\n",
       "      'id': 84683711,\n",
       "      'node_id': 'MDQ6VXNlcjg0NjgzNzEx',\n",
       "      'avatar_url': 'https://avatars.githubusercontent.com/u/84683711?v=4',\n",
       "      'gravatar_id': '',\n",
       "      'url': 'https://api.github.com/users/nestormiranda97',\n",
       "      'html_url': 'https://github.com/nestormiranda97',\n",
       "      'followers_url': 'https://api.github.com/users/nestormiranda97/followers',\n",
       "      'following_url': 'https://api.github.com/users/nestormiranda97/following{/other_user}',\n",
       "      'gists_url': 'https://api.github.com/users/nestormiranda97/gists{/gist_id}',\n",
       "      'starred_url': 'https://api.github.com/users/nestormiranda97/starred{/owner}{/repo}',\n",
       "      'subscriptions_url': 'https://api.github.com/users/nestormiranda97/subscriptions',\n",
       "      'organizations_url': 'https://api.github.com/users/nestormiranda97/orgs',\n",
       "      'repos_url': 'https://api.github.com/users/nestormiranda97/repos',\n",
       "      'events_url': 'https://api.github.com/users/nestormiranda97/events{/privacy}',\n",
       "      'received_events_url': 'https://api.github.com/users/nestormiranda97/received_events',\n",
       "      'type': 'User',\n",
       "      'site_admin': False},\n",
       "     'html_url': 'https://github.com/nestormiranda97/PR02-project-pandas',\n",
       "     'description': None,\n",
       "     'fork': True,\n",
       "     'url': 'https://api.github.com/repos/nestormiranda97/PR02-project-pandas',\n",
       "     'forks_url': 'https://api.github.com/repos/nestormiranda97/PR02-project-pandas/forks',\n",
       "     'keys_url': 'https://api.github.com/repos/nestormiranda97/PR02-project-pandas/keys{/key_id}',\n",
       "     'collaborators_url': 'https://api.github.com/repos/nestormiranda97/PR02-project-pandas/collaborators{/collaborator}',\n",
       "     'teams_url': 'https://api.github.com/repos/nestormiranda97/PR02-project-pandas/teams',\n",
       "     'hooks_url': 'https://api.github.com/repos/nestormiranda97/PR02-project-pandas/hooks',\n",
       "     'issue_events_url': 'https://api.github.com/repos/nestormiranda97/PR02-project-pandas/issues/events{/number}',\n",
       "     'events_url': 'https://api.github.com/repos/nestormiranda97/PR02-project-pandas/events',\n",
       "     'assignees_url': 'https://api.github.com/repos/nestormiranda97/PR02-project-pandas/assignees{/user}',\n",
       "     'branches_url': 'https://api.github.com/repos/nestormiranda97/PR02-project-pandas/branches{/branch}',\n",
       "     'tags_url': 'https://api.github.com/repos/nestormiranda97/PR02-project-pandas/tags',\n",
       "     'blobs_url': 'https://api.github.com/repos/nestormiranda97/PR02-project-pandas/git/blobs{/sha}',\n",
       "     'git_tags_url': 'https://api.github.com/repos/nestormiranda97/PR02-project-pandas/git/tags{/sha}',\n",
       "     'git_refs_url': 'https://api.github.com/repos/nestormiranda97/PR02-project-pandas/git/refs{/sha}',\n",
       "     'trees_url': 'https://api.github.com/repos/nestormiranda97/PR02-project-pandas/git/trees{/sha}',\n",
       "     'statuses_url': 'https://api.github.com/repos/nestormiranda97/PR02-project-pandas/statuses/{sha}',\n",
       "     'languages_url': 'https://api.github.com/repos/nestormiranda97/PR02-project-pandas/languages',\n",
       "     'stargazers_url': 'https://api.github.com/repos/nestormiranda97/PR02-project-pandas/stargazers',\n",
       "     'contributors_url': 'https://api.github.com/repos/nestormiranda97/PR02-project-pandas/contributors',\n",
       "     'subscribers_url': 'https://api.github.com/repos/nestormiranda97/PR02-project-pandas/subscribers',\n",
       "     'subscription_url': 'https://api.github.com/repos/nestormiranda97/PR02-project-pandas/subscription',\n",
       "     'commits_url': 'https://api.github.com/repos/nestormiranda97/PR02-project-pandas/commits{/sha}',\n",
       "     'git_commits_url': 'https://api.github.com/repos/nestormiranda97/PR02-project-pandas/git/commits{/sha}',\n",
       "     'comments_url': 'https://api.github.com/repos/nestormiranda97/PR02-project-pandas/comments{/number}',\n",
       "     'issue_comment_url': 'https://api.github.com/repos/nestormiranda97/PR02-project-pandas/issues/comments{/number}',\n",
       "     'contents_url': 'https://api.github.com/repos/nestormiranda97/PR02-project-pandas/contents/{+path}',\n",
       "     'compare_url': 'https://api.github.com/repos/nestormiranda97/PR02-project-pandas/compare/{base}...{head}',\n",
       "     'merges_url': 'https://api.github.com/repos/nestormiranda97/PR02-project-pandas/merges',\n",
       "     'archive_url': 'https://api.github.com/repos/nestormiranda97/PR02-project-pandas/{archive_format}{/ref}',\n",
       "     'downloads_url': 'https://api.github.com/repos/nestormiranda97/PR02-project-pandas/downloads',\n",
       "     'issues_url': 'https://api.github.com/repos/nestormiranda97/PR02-project-pandas/issues{/number}',\n",
       "     'pulls_url': 'https://api.github.com/repos/nestormiranda97/PR02-project-pandas/pulls{/number}',\n",
       "     'milestones_url': 'https://api.github.com/repos/nestormiranda97/PR02-project-pandas/milestones{/number}',\n",
       "     'notifications_url': 'https://api.github.com/repos/nestormiranda97/PR02-project-pandas/notifications{?since,all,participating}',\n",
       "     'labels_url': 'https://api.github.com/repos/nestormiranda97/PR02-project-pandas/labels{/name}',\n",
       "     'releases_url': 'https://api.github.com/repos/nestormiranda97/PR02-project-pandas/releases{/id}',\n",
       "     'deployments_url': 'https://api.github.com/repos/nestormiranda97/PR02-project-pandas/deployments',\n",
       "     'created_at': '2021-10-28T18:41:06Z',\n",
       "     'updated_at': '2021-11-08T18:32:46Z',\n",
       "     'pushed_at': '2021-11-08T18:32:44Z',\n",
       "     'git_url': 'git://github.com/nestormiranda97/PR02-project-pandas.git',\n",
       "     'ssh_url': 'git@github.com:nestormiranda97/PR02-project-pandas.git',\n",
       "     'clone_url': 'https://github.com/nestormiranda97/PR02-project-pandas.git',\n",
       "     'svn_url': 'https://github.com/nestormiranda97/PR02-project-pandas',\n",
       "     'homepage': None,\n",
       "     'size': 2,\n",
       "     'stargazers_count': 0,\n",
       "     'watchers_count': 0,\n",
       "     'language': 'Jupyter Notebook',\n",
       "     'has_issues': False,\n",
       "     'has_projects': True,\n",
       "     'has_downloads': True,\n",
       "     'has_wiki': True,\n",
       "     'has_pages': False,\n",
       "     'forks_count': 0,\n",
       "     'mirror_url': None,\n",
       "     'archived': False,\n",
       "     'disabled': False,\n",
       "     'open_issues_count': 0,\n",
       "     'license': None,\n",
       "     'allow_forking': True,\n",
       "     'is_template': False,\n",
       "     'topics': [],\n",
       "     'visibility': 'public',\n",
       "     'forks': 0,\n",
       "     'open_issues': 0,\n",
       "     'watchers': 0,\n",
       "     'default_branch': 'master'}},\n",
       "   'base': {'label': 'ironhack-bcn-data-pt:master',\n",
       "    'ref': 'master',\n",
       "    'sha': '711f0a24f0dd405377e7d68c2f3b0aaf39352abd',\n",
       "    'user': {'login': 'ironhack-bcn-data-pt',\n",
       "     'id': 66796164,\n",
       "     'node_id': 'MDEyOk9yZ2FuaXphdGlvbjY2Nzk2MTY0',\n",
       "     'avatar_url': 'https://avatars.githubusercontent.com/u/66796164?v=4',\n",
       "     'gravatar_id': '',\n",
       "     'url': 'https://api.github.com/users/ironhack-bcn-data-pt',\n",
       "     'html_url': 'https://github.com/ironhack-bcn-data-pt',\n",
       "     'followers_url': 'https://api.github.com/users/ironhack-bcn-data-pt/followers',\n",
       "     'following_url': 'https://api.github.com/users/ironhack-bcn-data-pt/following{/other_user}',\n",
       "     'gists_url': 'https://api.github.com/users/ironhack-bcn-data-pt/gists{/gist_id}',\n",
       "     'starred_url': 'https://api.github.com/users/ironhack-bcn-data-pt/starred{/owner}{/repo}',\n",
       "     'subscriptions_url': 'https://api.github.com/users/ironhack-bcn-data-pt/subscriptions',\n",
       "     'organizations_url': 'https://api.github.com/users/ironhack-bcn-data-pt/orgs',\n",
       "     'repos_url': 'https://api.github.com/users/ironhack-bcn-data-pt/repos',\n",
       "     'events_url': 'https://api.github.com/users/ironhack-bcn-data-pt/events{/privacy}',\n",
       "     'received_events_url': 'https://api.github.com/users/ironhack-bcn-data-pt/received_events',\n",
       "     'type': 'Organization',\n",
       "     'site_admin': False},\n",
       "    'repo': {'id': 280233489,\n",
       "     'node_id': 'MDEwOlJlcG9zaXRvcnkyODAyMzM0ODk=',\n",
       "     'name': 'PR02-project-pandas',\n",
       "     'full_name': 'ironhack-bcn-data-pt/PR02-project-pandas',\n",
       "     'private': False,\n",
       "     'owner': {'login': 'ironhack-bcn-data-pt',\n",
       "      'id': 66796164,\n",
       "      'node_id': 'MDEyOk9yZ2FuaXphdGlvbjY2Nzk2MTY0',\n",
       "      'avatar_url': 'https://avatars.githubusercontent.com/u/66796164?v=4',\n",
       "      'gravatar_id': '',\n",
       "      'url': 'https://api.github.com/users/ironhack-bcn-data-pt',\n",
       "      'html_url': 'https://github.com/ironhack-bcn-data-pt',\n",
       "      'followers_url': 'https://api.github.com/users/ironhack-bcn-data-pt/followers',\n",
       "      'following_url': 'https://api.github.com/users/ironhack-bcn-data-pt/following{/other_user}',\n",
       "      'gists_url': 'https://api.github.com/users/ironhack-bcn-data-pt/gists{/gist_id}',\n",
       "      'starred_url': 'https://api.github.com/users/ironhack-bcn-data-pt/starred{/owner}{/repo}',\n",
       "      'subscriptions_url': 'https://api.github.com/users/ironhack-bcn-data-pt/subscriptions',\n",
       "      'organizations_url': 'https://api.github.com/users/ironhack-bcn-data-pt/orgs',\n",
       "      'repos_url': 'https://api.github.com/users/ironhack-bcn-data-pt/repos',\n",
       "      'events_url': 'https://api.github.com/users/ironhack-bcn-data-pt/events{/privacy}',\n",
       "      'received_events_url': 'https://api.github.com/users/ironhack-bcn-data-pt/received_events',\n",
       "      'type': 'Organization',\n",
       "      'site_admin': False},\n",
       "     'html_url': 'https://github.com/ironhack-bcn-data-pt/PR02-project-pandas',\n",
       "     'description': None,\n",
       "     'fork': True,\n",
       "     'url': 'https://api.github.com/repos/ironhack-bcn-data-pt/PR02-project-pandas',\n",
       "     'forks_url': 'https://api.github.com/repos/ironhack-bcn-data-pt/PR02-project-pandas/forks',\n",
       "     'keys_url': 'https://api.github.com/repos/ironhack-bcn-data-pt/PR02-project-pandas/keys{/key_id}',\n",
       "     'collaborators_url': 'https://api.github.com/repos/ironhack-bcn-data-pt/PR02-project-pandas/collaborators{/collaborator}',\n",
       "     'teams_url': 'https://api.github.com/repos/ironhack-bcn-data-pt/PR02-project-pandas/teams',\n",
       "     'hooks_url': 'https://api.github.com/repos/ironhack-bcn-data-pt/PR02-project-pandas/hooks',\n",
       "     'issue_events_url': 'https://api.github.com/repos/ironhack-bcn-data-pt/PR02-project-pandas/issues/events{/number}',\n",
       "     'events_url': 'https://api.github.com/repos/ironhack-bcn-data-pt/PR02-project-pandas/events',\n",
       "     'assignees_url': 'https://api.github.com/repos/ironhack-bcn-data-pt/PR02-project-pandas/assignees{/user}',\n",
       "     'branches_url': 'https://api.github.com/repos/ironhack-bcn-data-pt/PR02-project-pandas/branches{/branch}',\n",
       "     'tags_url': 'https://api.github.com/repos/ironhack-bcn-data-pt/PR02-project-pandas/tags',\n",
       "     'blobs_url': 'https://api.github.com/repos/ironhack-bcn-data-pt/PR02-project-pandas/git/blobs{/sha}',\n",
       "     'git_tags_url': 'https://api.github.com/repos/ironhack-bcn-data-pt/PR02-project-pandas/git/tags{/sha}',\n",
       "     'git_refs_url': 'https://api.github.com/repos/ironhack-bcn-data-pt/PR02-project-pandas/git/refs{/sha}',\n",
       "     'trees_url': 'https://api.github.com/repos/ironhack-bcn-data-pt/PR02-project-pandas/git/trees{/sha}',\n",
       "     'statuses_url': 'https://api.github.com/repos/ironhack-bcn-data-pt/PR02-project-pandas/statuses/{sha}',\n",
       "     'languages_url': 'https://api.github.com/repos/ironhack-bcn-data-pt/PR02-project-pandas/languages',\n",
       "     'stargazers_url': 'https://api.github.com/repos/ironhack-bcn-data-pt/PR02-project-pandas/stargazers',\n",
       "     'contributors_url': 'https://api.github.com/repos/ironhack-bcn-data-pt/PR02-project-pandas/contributors',\n",
       "     'subscribers_url': 'https://api.github.com/repos/ironhack-bcn-data-pt/PR02-project-pandas/subscribers',\n",
       "     'subscription_url': 'https://api.github.com/repos/ironhack-bcn-data-pt/PR02-project-pandas/subscription',\n",
       "     'commits_url': 'https://api.github.com/repos/ironhack-bcn-data-pt/PR02-project-pandas/commits{/sha}',\n",
       "     'git_commits_url': 'https://api.github.com/repos/ironhack-bcn-data-pt/PR02-project-pandas/git/commits{/sha}',\n",
       "     'comments_url': 'https://api.github.com/repos/ironhack-bcn-data-pt/PR02-project-pandas/comments{/number}',\n",
       "     'issue_comment_url': 'https://api.github.com/repos/ironhack-bcn-data-pt/PR02-project-pandas/issues/comments{/number}',\n",
       "     'contents_url': 'https://api.github.com/repos/ironhack-bcn-data-pt/PR02-project-pandas/contents/{+path}',\n",
       "     'compare_url': 'https://api.github.com/repos/ironhack-bcn-data-pt/PR02-project-pandas/compare/{base}...{head}',\n",
       "     'merges_url': 'https://api.github.com/repos/ironhack-bcn-data-pt/PR02-project-pandas/merges',\n",
       "     'archive_url': 'https://api.github.com/repos/ironhack-bcn-data-pt/PR02-project-pandas/{archive_format}{/ref}',\n",
       "     'downloads_url': 'https://api.github.com/repos/ironhack-bcn-data-pt/PR02-project-pandas/downloads',\n",
       "     'issues_url': 'https://api.github.com/repos/ironhack-bcn-data-pt/PR02-project-pandas/issues{/number}',\n",
       "     'pulls_url': 'https://api.github.com/repos/ironhack-bcn-data-pt/PR02-project-pandas/pulls{/number}',\n",
       "     'milestones_url': 'https://api.github.com/repos/ironhack-bcn-data-pt/PR02-project-pandas/milestones{/number}',\n",
       "     'notifications_url': 'https://api.github.com/repos/ironhack-bcn-data-pt/PR02-project-pandas/notifications{?since,all,participating}',\n",
       "     'labels_url': 'https://api.github.com/repos/ironhack-bcn-data-pt/PR02-project-pandas/labels{/name}',\n",
       "     'releases_url': 'https://api.github.com/repos/ironhack-bcn-data-pt/PR02-project-pandas/releases{/id}',\n",
       "     'deployments_url': 'https://api.github.com/repos/ironhack-bcn-data-pt/PR02-project-pandas/deployments',\n",
       "     'created_at': '2020-07-16T18:53:27Z',\n",
       "     'updated_at': '2021-10-28T18:37:43Z',\n",
       "     'pushed_at': '2021-11-06T14:04:03Z',\n",
       "     'git_url': 'git://github.com/ironhack-bcn-data-pt/PR02-project-pandas.git',\n",
       "     'ssh_url': 'git@github.com:ironhack-bcn-data-pt/PR02-project-pandas.git',\n",
       "     'clone_url': 'https://github.com/ironhack-bcn-data-pt/PR02-project-pandas.git',\n",
       "     'svn_url': 'https://github.com/ironhack-bcn-data-pt/PR02-project-pandas',\n",
       "     'homepage': None,\n",
       "     'size': 102,\n",
       "     'stargazers_count': 0,\n",
       "     'watchers_count': 0,\n",
       "     'language': None,\n",
       "     'has_issues': False,\n",
       "     'has_projects': True,\n",
       "     'has_downloads': True,\n",
       "     'has_wiki': True,\n",
       "     'has_pages': False,\n",
       "     'forks_count': 30,\n",
       "     'mirror_url': None,\n",
       "     'archived': False,\n",
       "     'disabled': False,\n",
       "     'open_issues_count': 7,\n",
       "     'license': None,\n",
       "     'allow_forking': True,\n",
       "     'is_template': False,\n",
       "     'topics': [],\n",
       "     'visibility': 'public',\n",
       "     'forks': 30,\n",
       "     'open_issues': 7,\n",
       "     'watchers': 0,\n",
       "     'default_branch': 'master'}},\n",
       "   '_links': {'self': {'href': 'https://api.github.com/repos/ironhack-bcn-data-pt/PR02-project-pandas/pulls/27'},\n",
       "    'html': {'href': 'https://github.com/ironhack-bcn-data-pt/PR02-project-pandas/pull/27'},\n",
       "    'issue': {'href': 'https://api.github.com/repos/ironhack-bcn-data-pt/PR02-project-pandas/issues/27'},\n",
       "    'comments': {'href': 'https://api.github.com/repos/ironhack-bcn-data-pt/PR02-project-pandas/issues/27/comments'},\n",
       "    'review_comments': {'href': 'https://api.github.com/repos/ironhack-bcn-data-pt/PR02-project-pandas/pulls/27/comments'},\n",
       "    'review_comment': {'href': 'https://api.github.com/repos/ironhack-bcn-data-pt/PR02-project-pandas/pulls/comments{/number}'},\n",
       "    'commits': {'href': 'https://api.github.com/repos/ironhack-bcn-data-pt/PR02-project-pandas/pulls/27/commits'},\n",
       "    'statuses': {'href': 'https://api.github.com/repos/ironhack-bcn-data-pt/PR02-project-pandas/statuses/72c1ecb1958c97ef90317fe1bc108f9e6dba9920'}},\n",
       "   'author_association': 'NONE',\n",
       "   'auto_merge': None,\n",
       "   'active_lock_reason': None,\n",
       "   'merged': False,\n",
       "   'mergeable': None,\n",
       "   'rebaseable': None,\n",
       "   'mergeable_state': 'unknown',\n",
       "   'merged_by': None,\n",
       "   'comments': 0,\n",
       "   'review_comments': 0,\n",
       "   'maintainer_can_modify': True,\n",
       "   'commits': 3,\n",
       "   'additions': 8197,\n",
       "   'deletions': 0,\n",
       "   'changed_files': 3}},\n",
       " 'public': True,\n",
       " 'created_at': '2021-11-08T18:33:04Z',\n",
       " 'org': {'id': 66796164,\n",
       "  'login': 'ironhack-bcn-data-pt',\n",
       "  'gravatar_id': '',\n",
       "  'url': 'https://api.github.com/orgs/ironhack-bcn-data-pt',\n",
       "  'avatar_url': 'https://avatars.githubusercontent.com/u/66796164?'}}"
      ]
     },
     "execution_count": 142,
     "metadata": {},
     "output_type": "execute_result"
    }
   ],
   "source": [
    "resp2[2]"
   ]
  },
  {
   "cell_type": "code",
   "execution_count": 68,
   "id": "028c2bc4",
   "metadata": {
    "ExecuteTime": {
     "end_time": "2021-11-09T12:09:04.998911Z",
     "start_time": "2021-11-09T12:09:04.987452Z"
    }
   },
   "outputs": [],
   "source": [
    "#Encuentro que la cantidad de commits y el updated estan en payload y al haber normalizado el json le cambia el nombre\n",
    "commits=df2[[\"actor.login\",\"repo.name\",\"payload.pull_request.updated_at\",\"payload.pull_request.commits\"]]"
   ]
  },
  {
   "cell_type": "code",
   "execution_count": 143,
   "id": "e5f2bac8",
   "metadata": {
    "ExecuteTime": {
     "end_time": "2021-11-09T17:48:55.888788Z",
     "start_time": "2021-11-09T17:48:55.862923Z"
    }
   },
   "outputs": [
    {
     "data": {
      "text/html": [
       "<div>\n",
       "<style scoped>\n",
       "    .dataframe tbody tr th:only-of-type {\n",
       "        vertical-align: middle;\n",
       "    }\n",
       "\n",
       "    .dataframe tbody tr th {\n",
       "        vertical-align: top;\n",
       "    }\n",
       "\n",
       "    .dataframe thead th {\n",
       "        text-align: right;\n",
       "    }\n",
       "</style>\n",
       "<table border=\"1\" class=\"dataframe\">\n",
       "  <thead>\n",
       "    <tr style=\"text-align: right;\">\n",
       "      <th></th>\n",
       "      <th>persona</th>\n",
       "      <th>repo</th>\n",
       "      <th>fecha_update</th>\n",
       "      <th>cantidad_commits</th>\n",
       "    </tr>\n",
       "  </thead>\n",
       "  <tbody>\n",
       "    <tr>\n",
       "      <th>0</th>\n",
       "      <td>nestormiranda97</td>\n",
       "      <td>ironhack-bcn-data-pt/11-lab-numpy</td>\n",
       "      <td>2021-11-08</td>\n",
       "      <td>1</td>\n",
       "    </tr>\n",
       "    <tr>\n",
       "      <th>1</th>\n",
       "      <td>victorbeltranjimenez</td>\n",
       "      <td>ironhack-bcn-data-pt/16-lab-rss-feeds</td>\n",
       "      <td>2021-11-08</td>\n",
       "      <td>1</td>\n",
       "    </tr>\n",
       "    <tr>\n",
       "      <th>2</th>\n",
       "      <td>nestormiranda97</td>\n",
       "      <td>ironhack-bcn-data-pt/PR02-project-pandas</td>\n",
       "      <td>2021-11-08</td>\n",
       "      <td>3</td>\n",
       "    </tr>\n",
       "    <tr>\n",
       "      <th>3</th>\n",
       "      <td>GerardDD</td>\n",
       "      <td>ironhack-bcn-data-pt/17-lab-API-scavenger</td>\n",
       "      <td>2021-11-07</td>\n",
       "      <td>2</td>\n",
       "    </tr>\n",
       "    <tr>\n",
       "      <th>4</th>\n",
       "      <td>11Adrianaa</td>\n",
       "      <td>ironhack-bcn-data-pt/11-lab-numpy</td>\n",
       "      <td>2021-11-07</td>\n",
       "      <td>1</td>\n",
       "    </tr>\n",
       "    <tr>\n",
       "      <th>5</th>\n",
       "      <td>11Adrianaa</td>\n",
       "      <td>ironhack-bcn-data-pt/10-lab-advanced-regex</td>\n",
       "      <td>2021-11-07</td>\n",
       "      <td>1</td>\n",
       "    </tr>\n",
       "    <tr>\n",
       "      <th>6</th>\n",
       "      <td>victorbeltranjimenez</td>\n",
       "      <td>ironhack-bcn-data-pt/13-lab-pandas-data-cleaning</td>\n",
       "      <td>2021-11-07</td>\n",
       "      <td>1</td>\n",
       "    </tr>\n",
       "    <tr>\n",
       "      <th>7</th>\n",
       "      <td>victorbeltranjimenez</td>\n",
       "      <td>ironhack-bcn-data-pt/14-lab-df-calculation-and...</td>\n",
       "      <td>2021-11-07</td>\n",
       "      <td>1</td>\n",
       "    </tr>\n",
       "    <tr>\n",
       "      <th>8</th>\n",
       "      <td>oriolbaguena</td>\n",
       "      <td>ironhack-bcn-data-pt/PR02-project-pandas</td>\n",
       "      <td>2021-11-06</td>\n",
       "      <td>3</td>\n",
       "    </tr>\n",
       "    <tr>\n",
       "      <th>9</th>\n",
       "      <td>GerardDD</td>\n",
       "      <td>ironhack-bcn-data-pt/PR02-project-pandas</td>\n",
       "      <td>2021-11-06</td>\n",
       "      <td>8</td>\n",
       "    </tr>\n",
       "    <tr>\n",
       "      <th>10</th>\n",
       "      <td>ks-voron</td>\n",
       "      <td>ironhack-bcn-data-pt/PR02-project-pandas</td>\n",
       "      <td>2021-11-05</td>\n",
       "      <td>1</td>\n",
       "    </tr>\n",
       "    <tr>\n",
       "      <th>11</th>\n",
       "      <td>nathygonzalez</td>\n",
       "      <td>ironhack-bcn-data-pt/PR02-project-pandas</td>\n",
       "      <td>2021-11-05</td>\n",
       "      <td>1</td>\n",
       "    </tr>\n",
       "    <tr>\n",
       "      <th>12</th>\n",
       "      <td>cmromero</td>\n",
       "      <td>ironhack-bcn-data-pt/PR02-project-pandas</td>\n",
       "      <td>2021-11-04</td>\n",
       "      <td>1</td>\n",
       "    </tr>\n",
       "  </tbody>\n",
       "</table>\n",
       "</div>"
      ],
      "text/plain": [
       "                 persona                                               repo  \\\n",
       "0        nestormiranda97                  ironhack-bcn-data-pt/11-lab-numpy   \n",
       "1   victorbeltranjimenez              ironhack-bcn-data-pt/16-lab-rss-feeds   \n",
       "2        nestormiranda97           ironhack-bcn-data-pt/PR02-project-pandas   \n",
       "3               GerardDD          ironhack-bcn-data-pt/17-lab-API-scavenger   \n",
       "4             11Adrianaa                  ironhack-bcn-data-pt/11-lab-numpy   \n",
       "5             11Adrianaa         ironhack-bcn-data-pt/10-lab-advanced-regex   \n",
       "6   victorbeltranjimenez   ironhack-bcn-data-pt/13-lab-pandas-data-cleaning   \n",
       "7   victorbeltranjimenez  ironhack-bcn-data-pt/14-lab-df-calculation-and...   \n",
       "8           oriolbaguena           ironhack-bcn-data-pt/PR02-project-pandas   \n",
       "9               GerardDD           ironhack-bcn-data-pt/PR02-project-pandas   \n",
       "10              ks-voron           ironhack-bcn-data-pt/PR02-project-pandas   \n",
       "11         nathygonzalez           ironhack-bcn-data-pt/PR02-project-pandas   \n",
       "12              cmromero           ironhack-bcn-data-pt/PR02-project-pandas   \n",
       "\n",
       "   fecha_update  cantidad_commits  \n",
       "0    2021-11-08                 1  \n",
       "1    2021-11-08                 1  \n",
       "2    2021-11-08                 3  \n",
       "3    2021-11-07                 2  \n",
       "4    2021-11-07                 1  \n",
       "5    2021-11-07                 1  \n",
       "6    2021-11-07                 1  \n",
       "7    2021-11-07                 1  \n",
       "8    2021-11-06                 3  \n",
       "9    2021-11-06                 8  \n",
       "10   2021-11-05                 1  \n",
       "11   2021-11-05                 1  \n",
       "12   2021-11-04                 1  "
      ]
     },
     "execution_count": 143,
     "metadata": {},
     "output_type": "execute_result"
    }
   ],
   "source": [
    "commits"
   ]
  },
  {
   "cell_type": "code",
   "execution_count": 69,
   "id": "4a639a3f",
   "metadata": {
    "ExecuteTime": {
     "end_time": "2021-11-09T12:09:07.860702Z",
     "start_time": "2021-11-09T12:09:07.832405Z"
    },
    "scrolled": true
   },
   "outputs": [
    {
     "name": "stderr",
     "output_type": "stream",
     "text": [
      "C:\\Users\\irazu\\anaconda3\\lib\\site-packages\\pandas\\core\\frame.py:4441: SettingWithCopyWarning: \n",
      "A value is trying to be set on a copy of a slice from a DataFrame\n",
      "\n",
      "See the caveats in the documentation: https://pandas.pydata.org/pandas-docs/stable/user_guide/indexing.html#returning-a-view-versus-a-copy\n",
      "  return super().rename(\n"
     ]
    }
   ],
   "source": [
    "#cambio los nombres\n",
    "commits.rename(columns={\"actor.login\":\"persona\",\"repo.name\":\"repo\",\"payload.pull_request.updated_at\":\"fecha_update\",\n",
    "                        \"payload.pull_request.commits\":\"cantidad_commits\"},inplace=True)"
   ]
  },
  {
   "cell_type": "code",
   "execution_count": 71,
   "id": "d0796b17",
   "metadata": {
    "ExecuteTime": {
     "end_time": "2021-11-09T12:09:29.115237Z",
     "start_time": "2021-11-09T12:09:29.096820Z"
    }
   },
   "outputs": [
    {
     "name": "stderr",
     "output_type": "stream",
     "text": [
      "<ipython-input-71-85b11d32a165>:2: SettingWithCopyWarning: \n",
      "A value is trying to be set on a copy of a slice from a DataFrame.\n",
      "Try using .loc[row_indexer,col_indexer] = value instead\n",
      "\n",
      "See the caveats in the documentation: https://pandas.pydata.org/pandas-docs/stable/user_guide/indexing.html#returning-a-view-versus-a-copy\n",
      "  commits[\"fecha_update\"]=commits[\"fecha_update\"].apply(lambda x:x[0:10])\n"
     ]
    }
   ],
   "source": [
    "#cambio las fechas a año-mes-dia\n",
    "commits[\"fecha_update\"]=commits[\"fecha_update\"].apply(lambda x:x[0:10])"
   ]
  },
  {
   "cell_type": "code",
   "execution_count": 72,
   "id": "0ba651d0",
   "metadata": {
    "ExecuteTime": {
     "end_time": "2021-11-09T12:09:31.204350Z",
     "start_time": "2021-11-09T12:09:31.192301Z"
    }
   },
   "outputs": [
    {
     "data": {
      "text/html": [
       "<div>\n",
       "<style scoped>\n",
       "    .dataframe tbody tr th:only-of-type {\n",
       "        vertical-align: middle;\n",
       "    }\n",
       "\n",
       "    .dataframe tbody tr th {\n",
       "        vertical-align: top;\n",
       "    }\n",
       "\n",
       "    .dataframe thead th {\n",
       "        text-align: right;\n",
       "    }\n",
       "</style>\n",
       "<table border=\"1\" class=\"dataframe\">\n",
       "  <thead>\n",
       "    <tr style=\"text-align: right;\">\n",
       "      <th></th>\n",
       "      <th>persona</th>\n",
       "      <th>repo</th>\n",
       "      <th>fecha_update</th>\n",
       "      <th>cantidad_commits</th>\n",
       "    </tr>\n",
       "  </thead>\n",
       "  <tbody>\n",
       "    <tr>\n",
       "      <th>0</th>\n",
       "      <td>nestormiranda97</td>\n",
       "      <td>ironhack-bcn-data-pt/11-lab-numpy</td>\n",
       "      <td>2021-11-08</td>\n",
       "      <td>1</td>\n",
       "    </tr>\n",
       "    <tr>\n",
       "      <th>1</th>\n",
       "      <td>victorbeltranjimenez</td>\n",
       "      <td>ironhack-bcn-data-pt/16-lab-rss-feeds</td>\n",
       "      <td>2021-11-08</td>\n",
       "      <td>1</td>\n",
       "    </tr>\n",
       "    <tr>\n",
       "      <th>2</th>\n",
       "      <td>nestormiranda97</td>\n",
       "      <td>ironhack-bcn-data-pt/PR02-project-pandas</td>\n",
       "      <td>2021-11-08</td>\n",
       "      <td>3</td>\n",
       "    </tr>\n",
       "    <tr>\n",
       "      <th>3</th>\n",
       "      <td>GerardDD</td>\n",
       "      <td>ironhack-bcn-data-pt/17-lab-API-scavenger</td>\n",
       "      <td>2021-11-07</td>\n",
       "      <td>2</td>\n",
       "    </tr>\n",
       "    <tr>\n",
       "      <th>4</th>\n",
       "      <td>11Adrianaa</td>\n",
       "      <td>ironhack-bcn-data-pt/11-lab-numpy</td>\n",
       "      <td>2021-11-07</td>\n",
       "      <td>1</td>\n",
       "    </tr>\n",
       "    <tr>\n",
       "      <th>5</th>\n",
       "      <td>11Adrianaa</td>\n",
       "      <td>ironhack-bcn-data-pt/10-lab-advanced-regex</td>\n",
       "      <td>2021-11-07</td>\n",
       "      <td>1</td>\n",
       "    </tr>\n",
       "    <tr>\n",
       "      <th>6</th>\n",
       "      <td>victorbeltranjimenez</td>\n",
       "      <td>ironhack-bcn-data-pt/13-lab-pandas-data-cleaning</td>\n",
       "      <td>2021-11-07</td>\n",
       "      <td>1</td>\n",
       "    </tr>\n",
       "    <tr>\n",
       "      <th>7</th>\n",
       "      <td>victorbeltranjimenez</td>\n",
       "      <td>ironhack-bcn-data-pt/14-lab-df-calculation-and...</td>\n",
       "      <td>2021-11-07</td>\n",
       "      <td>1</td>\n",
       "    </tr>\n",
       "    <tr>\n",
       "      <th>8</th>\n",
       "      <td>oriolbaguena</td>\n",
       "      <td>ironhack-bcn-data-pt/PR02-project-pandas</td>\n",
       "      <td>2021-11-06</td>\n",
       "      <td>3</td>\n",
       "    </tr>\n",
       "    <tr>\n",
       "      <th>9</th>\n",
       "      <td>GerardDD</td>\n",
       "      <td>ironhack-bcn-data-pt/PR02-project-pandas</td>\n",
       "      <td>2021-11-06</td>\n",
       "      <td>8</td>\n",
       "    </tr>\n",
       "    <tr>\n",
       "      <th>10</th>\n",
       "      <td>ks-voron</td>\n",
       "      <td>ironhack-bcn-data-pt/PR02-project-pandas</td>\n",
       "      <td>2021-11-05</td>\n",
       "      <td>1</td>\n",
       "    </tr>\n",
       "    <tr>\n",
       "      <th>11</th>\n",
       "      <td>nathygonzalez</td>\n",
       "      <td>ironhack-bcn-data-pt/PR02-project-pandas</td>\n",
       "      <td>2021-11-05</td>\n",
       "      <td>1</td>\n",
       "    </tr>\n",
       "    <tr>\n",
       "      <th>12</th>\n",
       "      <td>cmromero</td>\n",
       "      <td>ironhack-bcn-data-pt/PR02-project-pandas</td>\n",
       "      <td>2021-11-04</td>\n",
       "      <td>1</td>\n",
       "    </tr>\n",
       "  </tbody>\n",
       "</table>\n",
       "</div>"
      ],
      "text/plain": [
       "                 persona                                               repo  \\\n",
       "0        nestormiranda97                  ironhack-bcn-data-pt/11-lab-numpy   \n",
       "1   victorbeltranjimenez              ironhack-bcn-data-pt/16-lab-rss-feeds   \n",
       "2        nestormiranda97           ironhack-bcn-data-pt/PR02-project-pandas   \n",
       "3               GerardDD          ironhack-bcn-data-pt/17-lab-API-scavenger   \n",
       "4             11Adrianaa                  ironhack-bcn-data-pt/11-lab-numpy   \n",
       "5             11Adrianaa         ironhack-bcn-data-pt/10-lab-advanced-regex   \n",
       "6   victorbeltranjimenez   ironhack-bcn-data-pt/13-lab-pandas-data-cleaning   \n",
       "7   victorbeltranjimenez  ironhack-bcn-data-pt/14-lab-df-calculation-and...   \n",
       "8           oriolbaguena           ironhack-bcn-data-pt/PR02-project-pandas   \n",
       "9               GerardDD           ironhack-bcn-data-pt/PR02-project-pandas   \n",
       "10              ks-voron           ironhack-bcn-data-pt/PR02-project-pandas   \n",
       "11         nathygonzalez           ironhack-bcn-data-pt/PR02-project-pandas   \n",
       "12              cmromero           ironhack-bcn-data-pt/PR02-project-pandas   \n",
       "\n",
       "   fecha_update  cantidad_commits  \n",
       "0    2021-11-08                 1  \n",
       "1    2021-11-08                 1  \n",
       "2    2021-11-08                 3  \n",
       "3    2021-11-07                 2  \n",
       "4    2021-11-07                 1  \n",
       "5    2021-11-07                 1  \n",
       "6    2021-11-07                 1  \n",
       "7    2021-11-07                 1  \n",
       "8    2021-11-06                 3  \n",
       "9    2021-11-06                 8  \n",
       "10   2021-11-05                 1  \n",
       "11   2021-11-05                 1  \n",
       "12   2021-11-04                 1  "
      ]
     },
     "execution_count": 72,
     "metadata": {},
     "output_type": "execute_result"
    }
   ],
   "source": [
    "#Observamos que todos los commits son de los ultimos 4 dias\n",
    "commits"
   ]
  },
  {
   "cell_type": "code",
   "execution_count": 73,
   "id": "625cf213",
   "metadata": {
    "ExecuteTime": {
     "end_time": "2021-11-09T12:09:50.678934Z",
     "start_time": "2021-11-09T12:09:50.659912Z"
    }
   },
   "outputs": [
    {
     "name": "stdout",
     "output_type": "stream",
     "text": [
      "El total de commits fue de 25\n"
     ]
    }
   ],
   "source": [
    "#Contamos todos los commits\n",
    "commits_counts=commits[\"cantidad_commits\"].sum()\n",
    "print(f'El total de commits fue de {commits_counts}' )"
   ]
  },
  {
   "cell_type": "markdown",
   "id": "cb6b0123",
   "metadata": {},
   "source": [
    "###  Challenge 3: Hidden Cold Joke"
   ]
  },
  {
   "cell_type": "markdown",
   "id": "1c2d52f4",
   "metadata": {},
   "source": [
    "Using Python, call Github API to find out the cold joke contained in the 24 secret files in the following repo:\n",
    "\n",
    "https://github.com/ironhack-datalabs/scavenger\n",
    "\n",
    "The filenames of the secret files contain .scavengerhunt and they are scattered in different directories of this repo. The secret files are named from .0001.scavengerhunt to .0024.scavengerhunt. They are scattered randomly throughout this repo. You need to search for these files by calling the Github API, not searching the local files on your computer.\n",
    "\n",
    "After you find out the secrete files:\n",
    "\n",
    "Sort the filenames ascendingly.\n",
    "\n",
    "Read the content of each secret files into an array of strings.\n",
    "\n",
    "Concatenate the strings in the array separating each two with a whitespace.\n",
    "\n",
    "Print out the joke."
   ]
  },
  {
   "cell_type": "code",
   "execution_count": 75,
   "id": "0a1ecccb",
   "metadata": {
    "ExecuteTime": {
     "end_time": "2021-11-09T12:10:48.894975Z",
     "start_time": "2021-11-09T12:10:48.888885Z"
    }
   },
   "outputs": [],
   "source": [
    "#No me salia en la primera pagina, asi que he introducido manualmente el page=2\n",
    "n_url=\"https://api.github.com/users/ironhack-datalabs/repos?page=2\""
   ]
  },
  {
   "cell_type": "code",
   "execution_count": 76,
   "id": "108132d4",
   "metadata": {
    "ExecuteTime": {
     "end_time": "2021-11-09T12:10:51.145915Z",
     "start_time": "2021-11-09T12:10:50.646133Z"
    }
   },
   "outputs": [],
   "source": [
    "joke=requests.get(n_url,headers).json()"
   ]
  },
  {
   "cell_type": "code",
   "execution_count": 77,
   "id": "f85ad791",
   "metadata": {
    "ExecuteTime": {
     "end_time": "2021-11-09T12:10:53.568476Z",
     "start_time": "2021-11-09T12:10:53.530722Z"
    }
   },
   "outputs": [
    {
     "data": {
      "text/plain": [
       "[{'id': 213641170,\n",
       "  'node_id': 'MDEwOlJlcG9zaXRvcnkyMTM2NDExNzA=',\n",
       "  'name': 'dataV2-labs',\n",
       "  'full_name': 'ironhack-datalabs/dataV2-labs',\n",
       "  'private': False,\n",
       "  'owner': {'login': 'ironhack-datalabs',\n",
       "   'id': 44225188,\n",
       "   'node_id': 'MDEyOk9yZ2FuaXphdGlvbjQ0MjI1MTg4',\n",
       "   'avatar_url': 'https://avatars.githubusercontent.com/u/44225188?v=4',\n",
       "   'gravatar_id': '',\n",
       "   'url': 'https://api.github.com/users/ironhack-datalabs',\n",
       "   'html_url': 'https://github.com/ironhack-datalabs',\n",
       "   'followers_url': 'https://api.github.com/users/ironhack-datalabs/followers',\n",
       "   'following_url': 'https://api.github.com/users/ironhack-datalabs/following{/other_user}',\n",
       "   'gists_url': 'https://api.github.com/users/ironhack-datalabs/gists{/gist_id}',\n",
       "   'starred_url': 'https://api.github.com/users/ironhack-datalabs/starred{/owner}{/repo}',\n",
       "   'subscriptions_url': 'https://api.github.com/users/ironhack-datalabs/subscriptions',\n",
       "   'organizations_url': 'https://api.github.com/users/ironhack-datalabs/orgs',\n",
       "   'repos_url': 'https://api.github.com/users/ironhack-datalabs/repos',\n",
       "   'events_url': 'https://api.github.com/users/ironhack-datalabs/events{/privacy}',\n",
       "   'received_events_url': 'https://api.github.com/users/ironhack-datalabs/received_events',\n",
       "   'type': 'Organization',\n",
       "   'site_admin': False},\n",
       "  'html_url': 'https://github.com/ironhack-datalabs/dataV2-labs',\n",
       "  'description': None,\n",
       "  'fork': False,\n",
       "  'url': 'https://api.github.com/repos/ironhack-datalabs/dataV2-labs',\n",
       "  'forks_url': 'https://api.github.com/repos/ironhack-datalabs/dataV2-labs/forks',\n",
       "  'keys_url': 'https://api.github.com/repos/ironhack-datalabs/dataV2-labs/keys{/key_id}',\n",
       "  'collaborators_url': 'https://api.github.com/repos/ironhack-datalabs/dataV2-labs/collaborators{/collaborator}',\n",
       "  'teams_url': 'https://api.github.com/repos/ironhack-datalabs/dataV2-labs/teams',\n",
       "  'hooks_url': 'https://api.github.com/repos/ironhack-datalabs/dataV2-labs/hooks',\n",
       "  'issue_events_url': 'https://api.github.com/repos/ironhack-datalabs/dataV2-labs/issues/events{/number}',\n",
       "  'events_url': 'https://api.github.com/repos/ironhack-datalabs/dataV2-labs/events',\n",
       "  'assignees_url': 'https://api.github.com/repos/ironhack-datalabs/dataV2-labs/assignees{/user}',\n",
       "  'branches_url': 'https://api.github.com/repos/ironhack-datalabs/dataV2-labs/branches{/branch}',\n",
       "  'tags_url': 'https://api.github.com/repos/ironhack-datalabs/dataV2-labs/tags',\n",
       "  'blobs_url': 'https://api.github.com/repos/ironhack-datalabs/dataV2-labs/git/blobs{/sha}',\n",
       "  'git_tags_url': 'https://api.github.com/repos/ironhack-datalabs/dataV2-labs/git/tags{/sha}',\n",
       "  'git_refs_url': 'https://api.github.com/repos/ironhack-datalabs/dataV2-labs/git/refs{/sha}',\n",
       "  'trees_url': 'https://api.github.com/repos/ironhack-datalabs/dataV2-labs/git/trees{/sha}',\n",
       "  'statuses_url': 'https://api.github.com/repos/ironhack-datalabs/dataV2-labs/statuses/{sha}',\n",
       "  'languages_url': 'https://api.github.com/repos/ironhack-datalabs/dataV2-labs/languages',\n",
       "  'stargazers_url': 'https://api.github.com/repos/ironhack-datalabs/dataV2-labs/stargazers',\n",
       "  'contributors_url': 'https://api.github.com/repos/ironhack-datalabs/dataV2-labs/contributors',\n",
       "  'subscribers_url': 'https://api.github.com/repos/ironhack-datalabs/dataV2-labs/subscribers',\n",
       "  'subscription_url': 'https://api.github.com/repos/ironhack-datalabs/dataV2-labs/subscription',\n",
       "  'commits_url': 'https://api.github.com/repos/ironhack-datalabs/dataV2-labs/commits{/sha}',\n",
       "  'git_commits_url': 'https://api.github.com/repos/ironhack-datalabs/dataV2-labs/git/commits{/sha}',\n",
       "  'comments_url': 'https://api.github.com/repos/ironhack-datalabs/dataV2-labs/comments{/number}',\n",
       "  'issue_comment_url': 'https://api.github.com/repos/ironhack-datalabs/dataV2-labs/issues/comments{/number}',\n",
       "  'contents_url': 'https://api.github.com/repos/ironhack-datalabs/dataV2-labs/contents/{+path}',\n",
       "  'compare_url': 'https://api.github.com/repos/ironhack-datalabs/dataV2-labs/compare/{base}...{head}',\n",
       "  'merges_url': 'https://api.github.com/repos/ironhack-datalabs/dataV2-labs/merges',\n",
       "  'archive_url': 'https://api.github.com/repos/ironhack-datalabs/dataV2-labs/{archive_format}{/ref}',\n",
       "  'downloads_url': 'https://api.github.com/repos/ironhack-datalabs/dataV2-labs/downloads',\n",
       "  'issues_url': 'https://api.github.com/repos/ironhack-datalabs/dataV2-labs/issues{/number}',\n",
       "  'pulls_url': 'https://api.github.com/repos/ironhack-datalabs/dataV2-labs/pulls{/number}',\n",
       "  'milestones_url': 'https://api.github.com/repos/ironhack-datalabs/dataV2-labs/milestones{/number}',\n",
       "  'notifications_url': 'https://api.github.com/repos/ironhack-datalabs/dataV2-labs/notifications{?since,all,participating}',\n",
       "  'labels_url': 'https://api.github.com/repos/ironhack-datalabs/dataV2-labs/labels{/name}',\n",
       "  'releases_url': 'https://api.github.com/repos/ironhack-datalabs/dataV2-labs/releases{/id}',\n",
       "  'deployments_url': 'https://api.github.com/repos/ironhack-datalabs/dataV2-labs/deployments',\n",
       "  'created_at': '2019-10-08T12:51:14Z',\n",
       "  'updated_at': '2021-04-06T08:37:46Z',\n",
       "  'pushed_at': '2021-10-19T19:25:28Z',\n",
       "  'git_url': 'git://github.com/ironhack-datalabs/dataV2-labs.git',\n",
       "  'ssh_url': 'git@github.com:ironhack-datalabs/dataV2-labs.git',\n",
       "  'clone_url': 'https://github.com/ironhack-datalabs/dataV2-labs.git',\n",
       "  'svn_url': 'https://github.com/ironhack-datalabs/dataV2-labs',\n",
       "  'homepage': None,\n",
       "  'size': 31438,\n",
       "  'stargazers_count': 5,\n",
       "  'watchers_count': 5,\n",
       "  'language': 'Jupyter Notebook',\n",
       "  'has_issues': True,\n",
       "  'has_projects': True,\n",
       "  'has_downloads': True,\n",
       "  'has_wiki': True,\n",
       "  'has_pages': False,\n",
       "  'forks_count': 216,\n",
       "  'mirror_url': None,\n",
       "  'archived': False,\n",
       "  'disabled': False,\n",
       "  'open_issues_count': 41,\n",
       "  'license': None,\n",
       "  'allow_forking': True,\n",
       "  'is_template': False,\n",
       "  'topics': [],\n",
       "  'visibility': 'public',\n",
       "  'forks': 216,\n",
       "  'open_issues': 41,\n",
       "  'watchers': 5,\n",
       "  'default_branch': 'master'},\n",
       " {'id': 221513875,\n",
       "  'node_id': 'MDEwOlJlcG9zaXRvcnkyMjE1MTM4NzU=',\n",
       "  'name': 'lab-advance-querying-mongo',\n",
       "  'full_name': 'ironhack-datalabs/lab-advance-querying-mongo',\n",
       "  'private': False,\n",
       "  'owner': {'login': 'ironhack-datalabs',\n",
       "   'id': 44225188,\n",
       "   'node_id': 'MDEyOk9yZ2FuaXphdGlvbjQ0MjI1MTg4',\n",
       "   'avatar_url': 'https://avatars.githubusercontent.com/u/44225188?v=4',\n",
       "   'gravatar_id': '',\n",
       "   'url': 'https://api.github.com/users/ironhack-datalabs',\n",
       "   'html_url': 'https://github.com/ironhack-datalabs',\n",
       "   'followers_url': 'https://api.github.com/users/ironhack-datalabs/followers',\n",
       "   'following_url': 'https://api.github.com/users/ironhack-datalabs/following{/other_user}',\n",
       "   'gists_url': 'https://api.github.com/users/ironhack-datalabs/gists{/gist_id}',\n",
       "   'starred_url': 'https://api.github.com/users/ironhack-datalabs/starred{/owner}{/repo}',\n",
       "   'subscriptions_url': 'https://api.github.com/users/ironhack-datalabs/subscriptions',\n",
       "   'organizations_url': 'https://api.github.com/users/ironhack-datalabs/orgs',\n",
       "   'repos_url': 'https://api.github.com/users/ironhack-datalabs/repos',\n",
       "   'events_url': 'https://api.github.com/users/ironhack-datalabs/events{/privacy}',\n",
       "   'received_events_url': 'https://api.github.com/users/ironhack-datalabs/received_events',\n",
       "   'type': 'Organization',\n",
       "   'site_admin': False},\n",
       "  'html_url': 'https://github.com/ironhack-datalabs/lab-advance-querying-mongo',\n",
       "  'description': None,\n",
       "  'fork': True,\n",
       "  'url': 'https://api.github.com/repos/ironhack-datalabs/lab-advance-querying-mongo',\n",
       "  'forks_url': 'https://api.github.com/repos/ironhack-datalabs/lab-advance-querying-mongo/forks',\n",
       "  'keys_url': 'https://api.github.com/repos/ironhack-datalabs/lab-advance-querying-mongo/keys{/key_id}',\n",
       "  'collaborators_url': 'https://api.github.com/repos/ironhack-datalabs/lab-advance-querying-mongo/collaborators{/collaborator}',\n",
       "  'teams_url': 'https://api.github.com/repos/ironhack-datalabs/lab-advance-querying-mongo/teams',\n",
       "  'hooks_url': 'https://api.github.com/repos/ironhack-datalabs/lab-advance-querying-mongo/hooks',\n",
       "  'issue_events_url': 'https://api.github.com/repos/ironhack-datalabs/lab-advance-querying-mongo/issues/events{/number}',\n",
       "  'events_url': 'https://api.github.com/repos/ironhack-datalabs/lab-advance-querying-mongo/events',\n",
       "  'assignees_url': 'https://api.github.com/repos/ironhack-datalabs/lab-advance-querying-mongo/assignees{/user}',\n",
       "  'branches_url': 'https://api.github.com/repos/ironhack-datalabs/lab-advance-querying-mongo/branches{/branch}',\n",
       "  'tags_url': 'https://api.github.com/repos/ironhack-datalabs/lab-advance-querying-mongo/tags',\n",
       "  'blobs_url': 'https://api.github.com/repos/ironhack-datalabs/lab-advance-querying-mongo/git/blobs{/sha}',\n",
       "  'git_tags_url': 'https://api.github.com/repos/ironhack-datalabs/lab-advance-querying-mongo/git/tags{/sha}',\n",
       "  'git_refs_url': 'https://api.github.com/repos/ironhack-datalabs/lab-advance-querying-mongo/git/refs{/sha}',\n",
       "  'trees_url': 'https://api.github.com/repos/ironhack-datalabs/lab-advance-querying-mongo/git/trees{/sha}',\n",
       "  'statuses_url': 'https://api.github.com/repos/ironhack-datalabs/lab-advance-querying-mongo/statuses/{sha}',\n",
       "  'languages_url': 'https://api.github.com/repos/ironhack-datalabs/lab-advance-querying-mongo/languages',\n",
       "  'stargazers_url': 'https://api.github.com/repos/ironhack-datalabs/lab-advance-querying-mongo/stargazers',\n",
       "  'contributors_url': 'https://api.github.com/repos/ironhack-datalabs/lab-advance-querying-mongo/contributors',\n",
       "  'subscribers_url': 'https://api.github.com/repos/ironhack-datalabs/lab-advance-querying-mongo/subscribers',\n",
       "  'subscription_url': 'https://api.github.com/repos/ironhack-datalabs/lab-advance-querying-mongo/subscription',\n",
       "  'commits_url': 'https://api.github.com/repos/ironhack-datalabs/lab-advance-querying-mongo/commits{/sha}',\n",
       "  'git_commits_url': 'https://api.github.com/repos/ironhack-datalabs/lab-advance-querying-mongo/git/commits{/sha}',\n",
       "  'comments_url': 'https://api.github.com/repos/ironhack-datalabs/lab-advance-querying-mongo/comments{/number}',\n",
       "  'issue_comment_url': 'https://api.github.com/repos/ironhack-datalabs/lab-advance-querying-mongo/issues/comments{/number}',\n",
       "  'contents_url': 'https://api.github.com/repos/ironhack-datalabs/lab-advance-querying-mongo/contents/{+path}',\n",
       "  'compare_url': 'https://api.github.com/repos/ironhack-datalabs/lab-advance-querying-mongo/compare/{base}...{head}',\n",
       "  'merges_url': 'https://api.github.com/repos/ironhack-datalabs/lab-advance-querying-mongo/merges',\n",
       "  'archive_url': 'https://api.github.com/repos/ironhack-datalabs/lab-advance-querying-mongo/{archive_format}{/ref}',\n",
       "  'downloads_url': 'https://api.github.com/repos/ironhack-datalabs/lab-advance-querying-mongo/downloads',\n",
       "  'issues_url': 'https://api.github.com/repos/ironhack-datalabs/lab-advance-querying-mongo/issues{/number}',\n",
       "  'pulls_url': 'https://api.github.com/repos/ironhack-datalabs/lab-advance-querying-mongo/pulls{/number}',\n",
       "  'milestones_url': 'https://api.github.com/repos/ironhack-datalabs/lab-advance-querying-mongo/milestones{/number}',\n",
       "  'notifications_url': 'https://api.github.com/repos/ironhack-datalabs/lab-advance-querying-mongo/notifications{?since,all,participating}',\n",
       "  'labels_url': 'https://api.github.com/repos/ironhack-datalabs/lab-advance-querying-mongo/labels{/name}',\n",
       "  'releases_url': 'https://api.github.com/repos/ironhack-datalabs/lab-advance-querying-mongo/releases{/id}',\n",
       "  'deployments_url': 'https://api.github.com/repos/ironhack-datalabs/lab-advance-querying-mongo/deployments',\n",
       "  'created_at': '2019-11-13T17:20:18Z',\n",
       "  'updated_at': '2019-11-13T17:20:20Z',\n",
       "  'pushed_at': '2019-11-15T11:15:40Z',\n",
       "  'git_url': 'git://github.com/ironhack-datalabs/lab-advance-querying-mongo.git',\n",
       "  'ssh_url': 'git@github.com:ironhack-datalabs/lab-advance-querying-mongo.git',\n",
       "  'clone_url': 'https://github.com/ironhack-datalabs/lab-advance-querying-mongo.git',\n",
       "  'svn_url': 'https://github.com/ironhack-datalabs/lab-advance-querying-mongo',\n",
       "  'homepage': None,\n",
       "  'size': 15131,\n",
       "  'stargazers_count': 0,\n",
       "  'watchers_count': 0,\n",
       "  'language': None,\n",
       "  'has_issues': False,\n",
       "  'has_projects': True,\n",
       "  'has_downloads': True,\n",
       "  'has_wiki': True,\n",
       "  'has_pages': False,\n",
       "  'forks_count': 28,\n",
       "  'mirror_url': None,\n",
       "  'archived': False,\n",
       "  'disabled': False,\n",
       "  'open_issues_count': 0,\n",
       "  'license': None,\n",
       "  'allow_forking': True,\n",
       "  'is_template': False,\n",
       "  'topics': [],\n",
       "  'visibility': 'public',\n",
       "  'forks': 28,\n",
       "  'open_issues': 0,\n",
       "  'watchers': 0,\n",
       "  'default_branch': 'master'},\n",
       " {'id': 168491511,\n",
       "  'node_id': 'MDEwOlJlcG9zaXRvcnkxNjg0OTE1MTE=',\n",
       "  'name': 'lab-data-vikings',\n",
       "  'full_name': 'ironhack-datalabs/lab-data-vikings',\n",
       "  'private': False,\n",
       "  'owner': {'login': 'ironhack-datalabs',\n",
       "   'id': 44225188,\n",
       "   'node_id': 'MDEyOk9yZ2FuaXphdGlvbjQ0MjI1MTg4',\n",
       "   'avatar_url': 'https://avatars.githubusercontent.com/u/44225188?v=4',\n",
       "   'gravatar_id': '',\n",
       "   'url': 'https://api.github.com/users/ironhack-datalabs',\n",
       "   'html_url': 'https://github.com/ironhack-datalabs',\n",
       "   'followers_url': 'https://api.github.com/users/ironhack-datalabs/followers',\n",
       "   'following_url': 'https://api.github.com/users/ironhack-datalabs/following{/other_user}',\n",
       "   'gists_url': 'https://api.github.com/users/ironhack-datalabs/gists{/gist_id}',\n",
       "   'starred_url': 'https://api.github.com/users/ironhack-datalabs/starred{/owner}{/repo}',\n",
       "   'subscriptions_url': 'https://api.github.com/users/ironhack-datalabs/subscriptions',\n",
       "   'organizations_url': 'https://api.github.com/users/ironhack-datalabs/orgs',\n",
       "   'repos_url': 'https://api.github.com/users/ironhack-datalabs/repos',\n",
       "   'events_url': 'https://api.github.com/users/ironhack-datalabs/events{/privacy}',\n",
       "   'received_events_url': 'https://api.github.com/users/ironhack-datalabs/received_events',\n",
       "   'type': 'Organization',\n",
       "   'site_admin': False},\n",
       "  'html_url': 'https://github.com/ironhack-datalabs/lab-data-vikings',\n",
       "  'description': 'Vikings are ported to python. YAY!!',\n",
       "  'fork': False,\n",
       "  'url': 'https://api.github.com/repos/ironhack-datalabs/lab-data-vikings',\n",
       "  'forks_url': 'https://api.github.com/repos/ironhack-datalabs/lab-data-vikings/forks',\n",
       "  'keys_url': 'https://api.github.com/repos/ironhack-datalabs/lab-data-vikings/keys{/key_id}',\n",
       "  'collaborators_url': 'https://api.github.com/repos/ironhack-datalabs/lab-data-vikings/collaborators{/collaborator}',\n",
       "  'teams_url': 'https://api.github.com/repos/ironhack-datalabs/lab-data-vikings/teams',\n",
       "  'hooks_url': 'https://api.github.com/repos/ironhack-datalabs/lab-data-vikings/hooks',\n",
       "  'issue_events_url': 'https://api.github.com/repos/ironhack-datalabs/lab-data-vikings/issues/events{/number}',\n",
       "  'events_url': 'https://api.github.com/repos/ironhack-datalabs/lab-data-vikings/events',\n",
       "  'assignees_url': 'https://api.github.com/repos/ironhack-datalabs/lab-data-vikings/assignees{/user}',\n",
       "  'branches_url': 'https://api.github.com/repos/ironhack-datalabs/lab-data-vikings/branches{/branch}',\n",
       "  'tags_url': 'https://api.github.com/repos/ironhack-datalabs/lab-data-vikings/tags',\n",
       "  'blobs_url': 'https://api.github.com/repos/ironhack-datalabs/lab-data-vikings/git/blobs{/sha}',\n",
       "  'git_tags_url': 'https://api.github.com/repos/ironhack-datalabs/lab-data-vikings/git/tags{/sha}',\n",
       "  'git_refs_url': 'https://api.github.com/repos/ironhack-datalabs/lab-data-vikings/git/refs{/sha}',\n",
       "  'trees_url': 'https://api.github.com/repos/ironhack-datalabs/lab-data-vikings/git/trees{/sha}',\n",
       "  'statuses_url': 'https://api.github.com/repos/ironhack-datalabs/lab-data-vikings/statuses/{sha}',\n",
       "  'languages_url': 'https://api.github.com/repos/ironhack-datalabs/lab-data-vikings/languages',\n",
       "  'stargazers_url': 'https://api.github.com/repos/ironhack-datalabs/lab-data-vikings/stargazers',\n",
       "  'contributors_url': 'https://api.github.com/repos/ironhack-datalabs/lab-data-vikings/contributors',\n",
       "  'subscribers_url': 'https://api.github.com/repos/ironhack-datalabs/lab-data-vikings/subscribers',\n",
       "  'subscription_url': 'https://api.github.com/repos/ironhack-datalabs/lab-data-vikings/subscription',\n",
       "  'commits_url': 'https://api.github.com/repos/ironhack-datalabs/lab-data-vikings/commits{/sha}',\n",
       "  'git_commits_url': 'https://api.github.com/repos/ironhack-datalabs/lab-data-vikings/git/commits{/sha}',\n",
       "  'comments_url': 'https://api.github.com/repos/ironhack-datalabs/lab-data-vikings/comments{/number}',\n",
       "  'issue_comment_url': 'https://api.github.com/repos/ironhack-datalabs/lab-data-vikings/issues/comments{/number}',\n",
       "  'contents_url': 'https://api.github.com/repos/ironhack-datalabs/lab-data-vikings/contents/{+path}',\n",
       "  'compare_url': 'https://api.github.com/repos/ironhack-datalabs/lab-data-vikings/compare/{base}...{head}',\n",
       "  'merges_url': 'https://api.github.com/repos/ironhack-datalabs/lab-data-vikings/merges',\n",
       "  'archive_url': 'https://api.github.com/repos/ironhack-datalabs/lab-data-vikings/{archive_format}{/ref}',\n",
       "  'downloads_url': 'https://api.github.com/repos/ironhack-datalabs/lab-data-vikings/downloads',\n",
       "  'issues_url': 'https://api.github.com/repos/ironhack-datalabs/lab-data-vikings/issues{/number}',\n",
       "  'pulls_url': 'https://api.github.com/repos/ironhack-datalabs/lab-data-vikings/pulls{/number}',\n",
       "  'milestones_url': 'https://api.github.com/repos/ironhack-datalabs/lab-data-vikings/milestones{/number}',\n",
       "  'notifications_url': 'https://api.github.com/repos/ironhack-datalabs/lab-data-vikings/notifications{?since,all,participating}',\n",
       "  'labels_url': 'https://api.github.com/repos/ironhack-datalabs/lab-data-vikings/labels{/name}',\n",
       "  'releases_url': 'https://api.github.com/repos/ironhack-datalabs/lab-data-vikings/releases{/id}',\n",
       "  'deployments_url': 'https://api.github.com/repos/ironhack-datalabs/lab-data-vikings/deployments',\n",
       "  'created_at': '2019-01-31T08:39:39Z',\n",
       "  'updated_at': '2021-07-04T00:57:20Z',\n",
       "  'pushed_at': '2020-06-08T08:17:20Z',\n",
       "  'git_url': 'git://github.com/ironhack-datalabs/lab-data-vikings.git',\n",
       "  'ssh_url': 'git@github.com:ironhack-datalabs/lab-data-vikings.git',\n",
       "  'clone_url': 'https://github.com/ironhack-datalabs/lab-data-vikings.git',\n",
       "  'svn_url': 'https://github.com/ironhack-datalabs/lab-data-vikings',\n",
       "  'homepage': None,\n",
       "  'size': 21,\n",
       "  'stargazers_count': 4,\n",
       "  'watchers_count': 4,\n",
       "  'language': 'Python',\n",
       "  'has_issues': True,\n",
       "  'has_projects': True,\n",
       "  'has_downloads': True,\n",
       "  'has_wiki': True,\n",
       "  'has_pages': False,\n",
       "  'forks_count': 138,\n",
       "  'mirror_url': None,\n",
       "  'archived': False,\n",
       "  'disabled': False,\n",
       "  'open_issues_count': 17,\n",
       "  'license': None,\n",
       "  'allow_forking': True,\n",
       "  'is_template': False,\n",
       "  'topics': [],\n",
       "  'visibility': 'public',\n",
       "  'forks': 138,\n",
       "  'open_issues': 17,\n",
       "  'watchers': 4,\n",
       "  'default_branch': 'master'},\n",
       " {'id': 153418878,\n",
       "  'node_id': 'MDEwOlJlcG9zaXRvcnkxNTM0MTg4Nzg=',\n",
       "  'name': 'lab-erd',\n",
       "  'full_name': 'ironhack-datalabs/lab-erd',\n",
       "  'private': False,\n",
       "  'owner': {'login': 'ironhack-datalabs',\n",
       "   'id': 44225188,\n",
       "   'node_id': 'MDEyOk9yZ2FuaXphdGlvbjQ0MjI1MTg4',\n",
       "   'avatar_url': 'https://avatars.githubusercontent.com/u/44225188?v=4',\n",
       "   'gravatar_id': '',\n",
       "   'url': 'https://api.github.com/users/ironhack-datalabs',\n",
       "   'html_url': 'https://github.com/ironhack-datalabs',\n",
       "   'followers_url': 'https://api.github.com/users/ironhack-datalabs/followers',\n",
       "   'following_url': 'https://api.github.com/users/ironhack-datalabs/following{/other_user}',\n",
       "   'gists_url': 'https://api.github.com/users/ironhack-datalabs/gists{/gist_id}',\n",
       "   'starred_url': 'https://api.github.com/users/ironhack-datalabs/starred{/owner}{/repo}',\n",
       "   'subscriptions_url': 'https://api.github.com/users/ironhack-datalabs/subscriptions',\n",
       "   'organizations_url': 'https://api.github.com/users/ironhack-datalabs/orgs',\n",
       "   'repos_url': 'https://api.github.com/users/ironhack-datalabs/repos',\n",
       "   'events_url': 'https://api.github.com/users/ironhack-datalabs/events{/privacy}',\n",
       "   'received_events_url': 'https://api.github.com/users/ironhack-datalabs/received_events',\n",
       "   'type': 'Organization',\n",
       "   'site_admin': False},\n",
       "  'html_url': 'https://github.com/ironhack-datalabs/lab-erd',\n",
       "  'description': None,\n",
       "  'fork': False,\n",
       "  'url': 'https://api.github.com/repos/ironhack-datalabs/lab-erd',\n",
       "  'forks_url': 'https://api.github.com/repos/ironhack-datalabs/lab-erd/forks',\n",
       "  'keys_url': 'https://api.github.com/repos/ironhack-datalabs/lab-erd/keys{/key_id}',\n",
       "  'collaborators_url': 'https://api.github.com/repos/ironhack-datalabs/lab-erd/collaborators{/collaborator}',\n",
       "  'teams_url': 'https://api.github.com/repos/ironhack-datalabs/lab-erd/teams',\n",
       "  'hooks_url': 'https://api.github.com/repos/ironhack-datalabs/lab-erd/hooks',\n",
       "  'issue_events_url': 'https://api.github.com/repos/ironhack-datalabs/lab-erd/issues/events{/number}',\n",
       "  'events_url': 'https://api.github.com/repos/ironhack-datalabs/lab-erd/events',\n",
       "  'assignees_url': 'https://api.github.com/repos/ironhack-datalabs/lab-erd/assignees{/user}',\n",
       "  'branches_url': 'https://api.github.com/repos/ironhack-datalabs/lab-erd/branches{/branch}',\n",
       "  'tags_url': 'https://api.github.com/repos/ironhack-datalabs/lab-erd/tags',\n",
       "  'blobs_url': 'https://api.github.com/repos/ironhack-datalabs/lab-erd/git/blobs{/sha}',\n",
       "  'git_tags_url': 'https://api.github.com/repos/ironhack-datalabs/lab-erd/git/tags{/sha}',\n",
       "  'git_refs_url': 'https://api.github.com/repos/ironhack-datalabs/lab-erd/git/refs{/sha}',\n",
       "  'trees_url': 'https://api.github.com/repos/ironhack-datalabs/lab-erd/git/trees{/sha}',\n",
       "  'statuses_url': 'https://api.github.com/repos/ironhack-datalabs/lab-erd/statuses/{sha}',\n",
       "  'languages_url': 'https://api.github.com/repos/ironhack-datalabs/lab-erd/languages',\n",
       "  'stargazers_url': 'https://api.github.com/repos/ironhack-datalabs/lab-erd/stargazers',\n",
       "  'contributors_url': 'https://api.github.com/repos/ironhack-datalabs/lab-erd/contributors',\n",
       "  'subscribers_url': 'https://api.github.com/repos/ironhack-datalabs/lab-erd/subscribers',\n",
       "  'subscription_url': 'https://api.github.com/repos/ironhack-datalabs/lab-erd/subscription',\n",
       "  'commits_url': 'https://api.github.com/repos/ironhack-datalabs/lab-erd/commits{/sha}',\n",
       "  'git_commits_url': 'https://api.github.com/repos/ironhack-datalabs/lab-erd/git/commits{/sha}',\n",
       "  'comments_url': 'https://api.github.com/repos/ironhack-datalabs/lab-erd/comments{/number}',\n",
       "  'issue_comment_url': 'https://api.github.com/repos/ironhack-datalabs/lab-erd/issues/comments{/number}',\n",
       "  'contents_url': 'https://api.github.com/repos/ironhack-datalabs/lab-erd/contents/{+path}',\n",
       "  'compare_url': 'https://api.github.com/repos/ironhack-datalabs/lab-erd/compare/{base}...{head}',\n",
       "  'merges_url': 'https://api.github.com/repos/ironhack-datalabs/lab-erd/merges',\n",
       "  'archive_url': 'https://api.github.com/repos/ironhack-datalabs/lab-erd/{archive_format}{/ref}',\n",
       "  'downloads_url': 'https://api.github.com/repos/ironhack-datalabs/lab-erd/downloads',\n",
       "  'issues_url': 'https://api.github.com/repos/ironhack-datalabs/lab-erd/issues{/number}',\n",
       "  'pulls_url': 'https://api.github.com/repos/ironhack-datalabs/lab-erd/pulls{/number}',\n",
       "  'milestones_url': 'https://api.github.com/repos/ironhack-datalabs/lab-erd/milestones{/number}',\n",
       "  'notifications_url': 'https://api.github.com/repos/ironhack-datalabs/lab-erd/notifications{?since,all,participating}',\n",
       "  'labels_url': 'https://api.github.com/repos/ironhack-datalabs/lab-erd/labels{/name}',\n",
       "  'releases_url': 'https://api.github.com/repos/ironhack-datalabs/lab-erd/releases{/id}',\n",
       "  'deployments_url': 'https://api.github.com/repos/ironhack-datalabs/lab-erd/deployments',\n",
       "  'created_at': '2018-10-17T08:03:42Z',\n",
       "  'updated_at': '2018-10-17T11:31:43Z',\n",
       "  'pushed_at': '2018-10-22T22:08:38Z',\n",
       "  'git_url': 'git://github.com/ironhack-datalabs/lab-erd.git',\n",
       "  'ssh_url': 'git@github.com:ironhack-datalabs/lab-erd.git',\n",
       "  'clone_url': 'https://github.com/ironhack-datalabs/lab-erd.git',\n",
       "  'svn_url': 'https://github.com/ironhack-datalabs/lab-erd',\n",
       "  'homepage': None,\n",
       "  'size': 182,\n",
       "  'stargazers_count': 0,\n",
       "  'watchers_count': 0,\n",
       "  'language': None,\n",
       "  'has_issues': True,\n",
       "  'has_projects': True,\n",
       "  'has_downloads': True,\n",
       "  'has_wiki': True,\n",
       "  'has_pages': False,\n",
       "  'forks_count': 11,\n",
       "  'mirror_url': None,\n",
       "  'archived': False,\n",
       "  'disabled': False,\n",
       "  'open_issues_count': 0,\n",
       "  'license': None,\n",
       "  'allow_forking': True,\n",
       "  'is_template': False,\n",
       "  'topics': [],\n",
       "  'visibility': 'public',\n",
       "  'forks': 11,\n",
       "  'open_issues': 0,\n",
       "  'watchers': 0,\n",
       "  'default_branch': 'master'},\n",
       " {'id': 153646057,\n",
       "  'node_id': 'MDEwOlJlcG9zaXRvcnkxNTM2NDYwNTc=',\n",
       "  'name': 'lab-mysql',\n",
       "  'full_name': 'ironhack-datalabs/lab-mysql',\n",
       "  'private': False,\n",
       "  'owner': {'login': 'ironhack-datalabs',\n",
       "   'id': 44225188,\n",
       "   'node_id': 'MDEyOk9yZ2FuaXphdGlvbjQ0MjI1MTg4',\n",
       "   'avatar_url': 'https://avatars.githubusercontent.com/u/44225188?v=4',\n",
       "   'gravatar_id': '',\n",
       "   'url': 'https://api.github.com/users/ironhack-datalabs',\n",
       "   'html_url': 'https://github.com/ironhack-datalabs',\n",
       "   'followers_url': 'https://api.github.com/users/ironhack-datalabs/followers',\n",
       "   'following_url': 'https://api.github.com/users/ironhack-datalabs/following{/other_user}',\n",
       "   'gists_url': 'https://api.github.com/users/ironhack-datalabs/gists{/gist_id}',\n",
       "   'starred_url': 'https://api.github.com/users/ironhack-datalabs/starred{/owner}{/repo}',\n",
       "   'subscriptions_url': 'https://api.github.com/users/ironhack-datalabs/subscriptions',\n",
       "   'organizations_url': 'https://api.github.com/users/ironhack-datalabs/orgs',\n",
       "   'repos_url': 'https://api.github.com/users/ironhack-datalabs/repos',\n",
       "   'events_url': 'https://api.github.com/users/ironhack-datalabs/events{/privacy}',\n",
       "   'received_events_url': 'https://api.github.com/users/ironhack-datalabs/received_events',\n",
       "   'type': 'Organization',\n",
       "   'site_admin': False},\n",
       "  'html_url': 'https://github.com/ironhack-datalabs/lab-mysql',\n",
       "  'description': None,\n",
       "  'fork': False,\n",
       "  'url': 'https://api.github.com/repos/ironhack-datalabs/lab-mysql',\n",
       "  'forks_url': 'https://api.github.com/repos/ironhack-datalabs/lab-mysql/forks',\n",
       "  'keys_url': 'https://api.github.com/repos/ironhack-datalabs/lab-mysql/keys{/key_id}',\n",
       "  'collaborators_url': 'https://api.github.com/repos/ironhack-datalabs/lab-mysql/collaborators{/collaborator}',\n",
       "  'teams_url': 'https://api.github.com/repos/ironhack-datalabs/lab-mysql/teams',\n",
       "  'hooks_url': 'https://api.github.com/repos/ironhack-datalabs/lab-mysql/hooks',\n",
       "  'issue_events_url': 'https://api.github.com/repos/ironhack-datalabs/lab-mysql/issues/events{/number}',\n",
       "  'events_url': 'https://api.github.com/repos/ironhack-datalabs/lab-mysql/events',\n",
       "  'assignees_url': 'https://api.github.com/repos/ironhack-datalabs/lab-mysql/assignees{/user}',\n",
       "  'branches_url': 'https://api.github.com/repos/ironhack-datalabs/lab-mysql/branches{/branch}',\n",
       "  'tags_url': 'https://api.github.com/repos/ironhack-datalabs/lab-mysql/tags',\n",
       "  'blobs_url': 'https://api.github.com/repos/ironhack-datalabs/lab-mysql/git/blobs{/sha}',\n",
       "  'git_tags_url': 'https://api.github.com/repos/ironhack-datalabs/lab-mysql/git/tags{/sha}',\n",
       "  'git_refs_url': 'https://api.github.com/repos/ironhack-datalabs/lab-mysql/git/refs{/sha}',\n",
       "  'trees_url': 'https://api.github.com/repos/ironhack-datalabs/lab-mysql/git/trees{/sha}',\n",
       "  'statuses_url': 'https://api.github.com/repos/ironhack-datalabs/lab-mysql/statuses/{sha}',\n",
       "  'languages_url': 'https://api.github.com/repos/ironhack-datalabs/lab-mysql/languages',\n",
       "  'stargazers_url': 'https://api.github.com/repos/ironhack-datalabs/lab-mysql/stargazers',\n",
       "  'contributors_url': 'https://api.github.com/repos/ironhack-datalabs/lab-mysql/contributors',\n",
       "  'subscribers_url': 'https://api.github.com/repos/ironhack-datalabs/lab-mysql/subscribers',\n",
       "  'subscription_url': 'https://api.github.com/repos/ironhack-datalabs/lab-mysql/subscription',\n",
       "  'commits_url': 'https://api.github.com/repos/ironhack-datalabs/lab-mysql/commits{/sha}',\n",
       "  'git_commits_url': 'https://api.github.com/repos/ironhack-datalabs/lab-mysql/git/commits{/sha}',\n",
       "  'comments_url': 'https://api.github.com/repos/ironhack-datalabs/lab-mysql/comments{/number}',\n",
       "  'issue_comment_url': 'https://api.github.com/repos/ironhack-datalabs/lab-mysql/issues/comments{/number}',\n",
       "  'contents_url': 'https://api.github.com/repos/ironhack-datalabs/lab-mysql/contents/{+path}',\n",
       "  'compare_url': 'https://api.github.com/repos/ironhack-datalabs/lab-mysql/compare/{base}...{head}',\n",
       "  'merges_url': 'https://api.github.com/repos/ironhack-datalabs/lab-mysql/merges',\n",
       "  'archive_url': 'https://api.github.com/repos/ironhack-datalabs/lab-mysql/{archive_format}{/ref}',\n",
       "  'downloads_url': 'https://api.github.com/repos/ironhack-datalabs/lab-mysql/downloads',\n",
       "  'issues_url': 'https://api.github.com/repos/ironhack-datalabs/lab-mysql/issues{/number}',\n",
       "  'pulls_url': 'https://api.github.com/repos/ironhack-datalabs/lab-mysql/pulls{/number}',\n",
       "  'milestones_url': 'https://api.github.com/repos/ironhack-datalabs/lab-mysql/milestones{/number}',\n",
       "  'notifications_url': 'https://api.github.com/repos/ironhack-datalabs/lab-mysql/notifications{?since,all,participating}',\n",
       "  'labels_url': 'https://api.github.com/repos/ironhack-datalabs/lab-mysql/labels{/name}',\n",
       "  'releases_url': 'https://api.github.com/repos/ironhack-datalabs/lab-mysql/releases{/id}',\n",
       "  'deployments_url': 'https://api.github.com/repos/ironhack-datalabs/lab-mysql/deployments',\n",
       "  'created_at': '2018-10-18T15:24:37Z',\n",
       "  'updated_at': '2018-10-18T16:49:58Z',\n",
       "  'pushed_at': '2018-10-22T10:13:25Z',\n",
       "  'git_url': 'git://github.com/ironhack-datalabs/lab-mysql.git',\n",
       "  'ssh_url': 'git@github.com:ironhack-datalabs/lab-mysql.git',\n",
       "  'clone_url': 'https://github.com/ironhack-datalabs/lab-mysql.git',\n",
       "  'svn_url': 'https://github.com/ironhack-datalabs/lab-mysql',\n",
       "  'homepage': None,\n",
       "  'size': 8,\n",
       "  'stargazers_count': 0,\n",
       "  'watchers_count': 0,\n",
       "  'language': None,\n",
       "  'has_issues': True,\n",
       "  'has_projects': True,\n",
       "  'has_downloads': True,\n",
       "  'has_wiki': True,\n",
       "  'has_pages': False,\n",
       "  'forks_count': 7,\n",
       "  'mirror_url': None,\n",
       "  'archived': False,\n",
       "  'disabled': False,\n",
       "  'open_issues_count': 0,\n",
       "  'license': None,\n",
       "  'allow_forking': True,\n",
       "  'is_template': False,\n",
       "  'topics': [],\n",
       "  'visibility': 'public',\n",
       "  'forks': 7,\n",
       "  'open_issues': 0,\n",
       "  'watchers': 0,\n",
       "  'default_branch': 'master'},\n",
       " {'id': 153720804,\n",
       "  'node_id': 'MDEwOlJlcG9zaXRvcnkxNTM3MjA4MDQ=',\n",
       "  'name': 'mad-oct-2018',\n",
       "  'full_name': 'ironhack-datalabs/mad-oct-2018',\n",
       "  'private': False,\n",
       "  'owner': {'login': 'ironhack-datalabs',\n",
       "   'id': 44225188,\n",
       "   'node_id': 'MDEyOk9yZ2FuaXphdGlvbjQ0MjI1MTg4',\n",
       "   'avatar_url': 'https://avatars.githubusercontent.com/u/44225188?v=4',\n",
       "   'gravatar_id': '',\n",
       "   'url': 'https://api.github.com/users/ironhack-datalabs',\n",
       "   'html_url': 'https://github.com/ironhack-datalabs',\n",
       "   'followers_url': 'https://api.github.com/users/ironhack-datalabs/followers',\n",
       "   'following_url': 'https://api.github.com/users/ironhack-datalabs/following{/other_user}',\n",
       "   'gists_url': 'https://api.github.com/users/ironhack-datalabs/gists{/gist_id}',\n",
       "   'starred_url': 'https://api.github.com/users/ironhack-datalabs/starred{/owner}{/repo}',\n",
       "   'subscriptions_url': 'https://api.github.com/users/ironhack-datalabs/subscriptions',\n",
       "   'organizations_url': 'https://api.github.com/users/ironhack-datalabs/orgs',\n",
       "   'repos_url': 'https://api.github.com/users/ironhack-datalabs/repos',\n",
       "   'events_url': 'https://api.github.com/users/ironhack-datalabs/events{/privacy}',\n",
       "   'received_events_url': 'https://api.github.com/users/ironhack-datalabs/received_events',\n",
       "   'type': 'Organization',\n",
       "   'site_admin': False},\n",
       "  'html_url': 'https://github.com/ironhack-datalabs/mad-oct-2018',\n",
       "  'description': 'Student labs for Ironhack data analytics bootcamp',\n",
       "  'fork': True,\n",
       "  'url': 'https://api.github.com/repos/ironhack-datalabs/mad-oct-2018',\n",
       "  'forks_url': 'https://api.github.com/repos/ironhack-datalabs/mad-oct-2018/forks',\n",
       "  'keys_url': 'https://api.github.com/repos/ironhack-datalabs/mad-oct-2018/keys{/key_id}',\n",
       "  'collaborators_url': 'https://api.github.com/repos/ironhack-datalabs/mad-oct-2018/collaborators{/collaborator}',\n",
       "  'teams_url': 'https://api.github.com/repos/ironhack-datalabs/mad-oct-2018/teams',\n",
       "  'hooks_url': 'https://api.github.com/repos/ironhack-datalabs/mad-oct-2018/hooks',\n",
       "  'issue_events_url': 'https://api.github.com/repos/ironhack-datalabs/mad-oct-2018/issues/events{/number}',\n",
       "  'events_url': 'https://api.github.com/repos/ironhack-datalabs/mad-oct-2018/events',\n",
       "  'assignees_url': 'https://api.github.com/repos/ironhack-datalabs/mad-oct-2018/assignees{/user}',\n",
       "  'branches_url': 'https://api.github.com/repos/ironhack-datalabs/mad-oct-2018/branches{/branch}',\n",
       "  'tags_url': 'https://api.github.com/repos/ironhack-datalabs/mad-oct-2018/tags',\n",
       "  'blobs_url': 'https://api.github.com/repos/ironhack-datalabs/mad-oct-2018/git/blobs{/sha}',\n",
       "  'git_tags_url': 'https://api.github.com/repos/ironhack-datalabs/mad-oct-2018/git/tags{/sha}',\n",
       "  'git_refs_url': 'https://api.github.com/repos/ironhack-datalabs/mad-oct-2018/git/refs{/sha}',\n",
       "  'trees_url': 'https://api.github.com/repos/ironhack-datalabs/mad-oct-2018/git/trees{/sha}',\n",
       "  'statuses_url': 'https://api.github.com/repos/ironhack-datalabs/mad-oct-2018/statuses/{sha}',\n",
       "  'languages_url': 'https://api.github.com/repos/ironhack-datalabs/mad-oct-2018/languages',\n",
       "  'stargazers_url': 'https://api.github.com/repos/ironhack-datalabs/mad-oct-2018/stargazers',\n",
       "  'contributors_url': 'https://api.github.com/repos/ironhack-datalabs/mad-oct-2018/contributors',\n",
       "  'subscribers_url': 'https://api.github.com/repos/ironhack-datalabs/mad-oct-2018/subscribers',\n",
       "  'subscription_url': 'https://api.github.com/repos/ironhack-datalabs/mad-oct-2018/subscription',\n",
       "  'commits_url': 'https://api.github.com/repos/ironhack-datalabs/mad-oct-2018/commits{/sha}',\n",
       "  'git_commits_url': 'https://api.github.com/repos/ironhack-datalabs/mad-oct-2018/git/commits{/sha}',\n",
       "  'comments_url': 'https://api.github.com/repos/ironhack-datalabs/mad-oct-2018/comments{/number}',\n",
       "  'issue_comment_url': 'https://api.github.com/repos/ironhack-datalabs/mad-oct-2018/issues/comments{/number}',\n",
       "  'contents_url': 'https://api.github.com/repos/ironhack-datalabs/mad-oct-2018/contents/{+path}',\n",
       "  'compare_url': 'https://api.github.com/repos/ironhack-datalabs/mad-oct-2018/compare/{base}...{head}',\n",
       "  'merges_url': 'https://api.github.com/repos/ironhack-datalabs/mad-oct-2018/merges',\n",
       "  'archive_url': 'https://api.github.com/repos/ironhack-datalabs/mad-oct-2018/{archive_format}{/ref}',\n",
       "  'downloads_url': 'https://api.github.com/repos/ironhack-datalabs/mad-oct-2018/downloads',\n",
       "  'issues_url': 'https://api.github.com/repos/ironhack-datalabs/mad-oct-2018/issues{/number}',\n",
       "  'pulls_url': 'https://api.github.com/repos/ironhack-datalabs/mad-oct-2018/pulls{/number}',\n",
       "  'milestones_url': 'https://api.github.com/repos/ironhack-datalabs/mad-oct-2018/milestones{/number}',\n",
       "  'notifications_url': 'https://api.github.com/repos/ironhack-datalabs/mad-oct-2018/notifications{?since,all,participating}',\n",
       "  'labels_url': 'https://api.github.com/repos/ironhack-datalabs/mad-oct-2018/labels{/name}',\n",
       "  'releases_url': 'https://api.github.com/repos/ironhack-datalabs/mad-oct-2018/releases{/id}',\n",
       "  'deployments_url': 'https://api.github.com/repos/ironhack-datalabs/mad-oct-2018/deployments',\n",
       "  'created_at': '2018-10-19T03:20:32Z',\n",
       "  'updated_at': '2020-10-25T13:17:39Z',\n",
       "  'pushed_at': '2019-08-19T11:16:55Z',\n",
       "  'git_url': 'git://github.com/ironhack-datalabs/mad-oct-2018.git',\n",
       "  'ssh_url': 'git@github.com:ironhack-datalabs/mad-oct-2018.git',\n",
       "  'clone_url': 'https://github.com/ironhack-datalabs/mad-oct-2018.git',\n",
       "  'svn_url': 'https://github.com/ironhack-datalabs/mad-oct-2018',\n",
       "  'homepage': '',\n",
       "  'size': 116995,\n",
       "  'stargazers_count': 7,\n",
       "  'watchers_count': 7,\n",
       "  'language': 'Jupyter Notebook',\n",
       "  'has_issues': False,\n",
       "  'has_projects': True,\n",
       "  'has_downloads': True,\n",
       "  'has_wiki': True,\n",
       "  'has_pages': False,\n",
       "  'forks_count': 18,\n",
       "  'mirror_url': None,\n",
       "  'archived': False,\n",
       "  'disabled': False,\n",
       "  'open_issues_count': 0,\n",
       "  'license': {'key': 'unlicense',\n",
       "   'name': 'The Unlicense',\n",
       "   'spdx_id': 'Unlicense',\n",
       "   'url': 'https://api.github.com/licenses/unlicense',\n",
       "   'node_id': 'MDc6TGljZW5zZTE1'},\n",
       "  'allow_forking': True,\n",
       "  'is_template': False,\n",
       "  'topics': [],\n",
       "  'visibility': 'public',\n",
       "  'forks': 18,\n",
       "  'open_issues': 0,\n",
       "  'watchers': 7,\n",
       "  'default_branch': 'master'},\n",
       " {'id': 175643862,\n",
       "  'node_id': 'MDEwOlJlcG9zaXRvcnkxNzU2NDM4NjI=',\n",
       "  'name': 'mex-jul-2019-prework',\n",
       "  'full_name': 'ironhack-datalabs/mex-jul-2019-prework',\n",
       "  'private': False,\n",
       "  'owner': {'login': 'ironhack-datalabs',\n",
       "   'id': 44225188,\n",
       "   'node_id': 'MDEyOk9yZ2FuaXphdGlvbjQ0MjI1MTg4',\n",
       "   'avatar_url': 'https://avatars.githubusercontent.com/u/44225188?v=4',\n",
       "   'gravatar_id': '',\n",
       "   'url': 'https://api.github.com/users/ironhack-datalabs',\n",
       "   'html_url': 'https://github.com/ironhack-datalabs',\n",
       "   'followers_url': 'https://api.github.com/users/ironhack-datalabs/followers',\n",
       "   'following_url': 'https://api.github.com/users/ironhack-datalabs/following{/other_user}',\n",
       "   'gists_url': 'https://api.github.com/users/ironhack-datalabs/gists{/gist_id}',\n",
       "   'starred_url': 'https://api.github.com/users/ironhack-datalabs/starred{/owner}{/repo}',\n",
       "   'subscriptions_url': 'https://api.github.com/users/ironhack-datalabs/subscriptions',\n",
       "   'organizations_url': 'https://api.github.com/users/ironhack-datalabs/orgs',\n",
       "   'repos_url': 'https://api.github.com/users/ironhack-datalabs/repos',\n",
       "   'events_url': 'https://api.github.com/users/ironhack-datalabs/events{/privacy}',\n",
       "   'received_events_url': 'https://api.github.com/users/ironhack-datalabs/received_events',\n",
       "   'type': 'Organization',\n",
       "   'site_admin': False},\n",
       "  'html_url': 'https://github.com/ironhack-datalabs/mex-jul-2019-prework',\n",
       "  'description': None,\n",
       "  'fork': False,\n",
       "  'url': 'https://api.github.com/repos/ironhack-datalabs/mex-jul-2019-prework',\n",
       "  'forks_url': 'https://api.github.com/repos/ironhack-datalabs/mex-jul-2019-prework/forks',\n",
       "  'keys_url': 'https://api.github.com/repos/ironhack-datalabs/mex-jul-2019-prework/keys{/key_id}',\n",
       "  'collaborators_url': 'https://api.github.com/repos/ironhack-datalabs/mex-jul-2019-prework/collaborators{/collaborator}',\n",
       "  'teams_url': 'https://api.github.com/repos/ironhack-datalabs/mex-jul-2019-prework/teams',\n",
       "  'hooks_url': 'https://api.github.com/repos/ironhack-datalabs/mex-jul-2019-prework/hooks',\n",
       "  'issue_events_url': 'https://api.github.com/repos/ironhack-datalabs/mex-jul-2019-prework/issues/events{/number}',\n",
       "  'events_url': 'https://api.github.com/repos/ironhack-datalabs/mex-jul-2019-prework/events',\n",
       "  'assignees_url': 'https://api.github.com/repos/ironhack-datalabs/mex-jul-2019-prework/assignees{/user}',\n",
       "  'branches_url': 'https://api.github.com/repos/ironhack-datalabs/mex-jul-2019-prework/branches{/branch}',\n",
       "  'tags_url': 'https://api.github.com/repos/ironhack-datalabs/mex-jul-2019-prework/tags',\n",
       "  'blobs_url': 'https://api.github.com/repos/ironhack-datalabs/mex-jul-2019-prework/git/blobs{/sha}',\n",
       "  'git_tags_url': 'https://api.github.com/repos/ironhack-datalabs/mex-jul-2019-prework/git/tags{/sha}',\n",
       "  'git_refs_url': 'https://api.github.com/repos/ironhack-datalabs/mex-jul-2019-prework/git/refs{/sha}',\n",
       "  'trees_url': 'https://api.github.com/repos/ironhack-datalabs/mex-jul-2019-prework/git/trees{/sha}',\n",
       "  'statuses_url': 'https://api.github.com/repos/ironhack-datalabs/mex-jul-2019-prework/statuses/{sha}',\n",
       "  'languages_url': 'https://api.github.com/repos/ironhack-datalabs/mex-jul-2019-prework/languages',\n",
       "  'stargazers_url': 'https://api.github.com/repos/ironhack-datalabs/mex-jul-2019-prework/stargazers',\n",
       "  'contributors_url': 'https://api.github.com/repos/ironhack-datalabs/mex-jul-2019-prework/contributors',\n",
       "  'subscribers_url': 'https://api.github.com/repos/ironhack-datalabs/mex-jul-2019-prework/subscribers',\n",
       "  'subscription_url': 'https://api.github.com/repos/ironhack-datalabs/mex-jul-2019-prework/subscription',\n",
       "  'commits_url': 'https://api.github.com/repos/ironhack-datalabs/mex-jul-2019-prework/commits{/sha}',\n",
       "  'git_commits_url': 'https://api.github.com/repos/ironhack-datalabs/mex-jul-2019-prework/git/commits{/sha}',\n",
       "  'comments_url': 'https://api.github.com/repos/ironhack-datalabs/mex-jul-2019-prework/comments{/number}',\n",
       "  'issue_comment_url': 'https://api.github.com/repos/ironhack-datalabs/mex-jul-2019-prework/issues/comments{/number}',\n",
       "  'contents_url': 'https://api.github.com/repos/ironhack-datalabs/mex-jul-2019-prework/contents/{+path}',\n",
       "  'compare_url': 'https://api.github.com/repos/ironhack-datalabs/mex-jul-2019-prework/compare/{base}...{head}',\n",
       "  'merges_url': 'https://api.github.com/repos/ironhack-datalabs/mex-jul-2019-prework/merges',\n",
       "  'archive_url': 'https://api.github.com/repos/ironhack-datalabs/mex-jul-2019-prework/{archive_format}{/ref}',\n",
       "  'downloads_url': 'https://api.github.com/repos/ironhack-datalabs/mex-jul-2019-prework/downloads',\n",
       "  'issues_url': 'https://api.github.com/repos/ironhack-datalabs/mex-jul-2019-prework/issues{/number}',\n",
       "  'pulls_url': 'https://api.github.com/repos/ironhack-datalabs/mex-jul-2019-prework/pulls{/number}',\n",
       "  'milestones_url': 'https://api.github.com/repos/ironhack-datalabs/mex-jul-2019-prework/milestones{/number}',\n",
       "  'notifications_url': 'https://api.github.com/repos/ironhack-datalabs/mex-jul-2019-prework/notifications{?since,all,participating}',\n",
       "  'labels_url': 'https://api.github.com/repos/ironhack-datalabs/mex-jul-2019-prework/labels{/name}',\n",
       "  'releases_url': 'https://api.github.com/repos/ironhack-datalabs/mex-jul-2019-prework/releases{/id}',\n",
       "  'deployments_url': 'https://api.github.com/repos/ironhack-datalabs/mex-jul-2019-prework/deployments',\n",
       "  'created_at': '2019-03-14T14:57:41Z',\n",
       "  'updated_at': '2019-03-14T14:59:00Z',\n",
       "  'pushed_at': '2021-09-07T01:00:46Z',\n",
       "  'git_url': 'git://github.com/ironhack-datalabs/mex-jul-2019-prework.git',\n",
       "  'ssh_url': 'git@github.com:ironhack-datalabs/mex-jul-2019-prework.git',\n",
       "  'clone_url': 'https://github.com/ironhack-datalabs/mex-jul-2019-prework.git',\n",
       "  'svn_url': 'https://github.com/ironhack-datalabs/mex-jul-2019-prework',\n",
       "  'homepage': None,\n",
       "  'size': 283,\n",
       "  'stargazers_count': 0,\n",
       "  'watchers_count': 0,\n",
       "  'language': 'Jupyter Notebook',\n",
       "  'has_issues': True,\n",
       "  'has_projects': True,\n",
       "  'has_downloads': True,\n",
       "  'has_wiki': True,\n",
       "  'has_pages': False,\n",
       "  'forks_count': 29,\n",
       "  'mirror_url': None,\n",
       "  'archived': False,\n",
       "  'disabled': False,\n",
       "  'open_issues_count': 15,\n",
       "  'license': {'key': 'unlicense',\n",
       "   'name': 'The Unlicense',\n",
       "   'spdx_id': 'Unlicense',\n",
       "   'url': 'https://api.github.com/licenses/unlicense',\n",
       "   'node_id': 'MDc6TGljZW5zZTE1'},\n",
       "  'allow_forking': True,\n",
       "  'is_template': False,\n",
       "  'topics': [],\n",
       "  'visibility': 'public',\n",
       "  'forks': 29,\n",
       "  'open_issues': 15,\n",
       "  'watchers': 0,\n",
       "  'default_branch': 'master'},\n",
       " {'id': 175627136,\n",
       "  'node_id': 'MDEwOlJlcG9zaXRvcnkxNzU2MjcxMzY=',\n",
       "  'name': 'par-apr-2019-prework',\n",
       "  'full_name': 'ironhack-datalabs/par-apr-2019-prework',\n",
       "  'private': False,\n",
       "  'owner': {'login': 'ironhack-datalabs',\n",
       "   'id': 44225188,\n",
       "   'node_id': 'MDEyOk9yZ2FuaXphdGlvbjQ0MjI1MTg4',\n",
       "   'avatar_url': 'https://avatars.githubusercontent.com/u/44225188?v=4',\n",
       "   'gravatar_id': '',\n",
       "   'url': 'https://api.github.com/users/ironhack-datalabs',\n",
       "   'html_url': 'https://github.com/ironhack-datalabs',\n",
       "   'followers_url': 'https://api.github.com/users/ironhack-datalabs/followers',\n",
       "   'following_url': 'https://api.github.com/users/ironhack-datalabs/following{/other_user}',\n",
       "   'gists_url': 'https://api.github.com/users/ironhack-datalabs/gists{/gist_id}',\n",
       "   'starred_url': 'https://api.github.com/users/ironhack-datalabs/starred{/owner}{/repo}',\n",
       "   'subscriptions_url': 'https://api.github.com/users/ironhack-datalabs/subscriptions',\n",
       "   'organizations_url': 'https://api.github.com/users/ironhack-datalabs/orgs',\n",
       "   'repos_url': 'https://api.github.com/users/ironhack-datalabs/repos',\n",
       "   'events_url': 'https://api.github.com/users/ironhack-datalabs/events{/privacy}',\n",
       "   'received_events_url': 'https://api.github.com/users/ironhack-datalabs/received_events',\n",
       "   'type': 'Organization',\n",
       "   'site_admin': False},\n",
       "  'html_url': 'https://github.com/ironhack-datalabs/par-apr-2019-prework',\n",
       "  'description': None,\n",
       "  'fork': False,\n",
       "  'url': 'https://api.github.com/repos/ironhack-datalabs/par-apr-2019-prework',\n",
       "  'forks_url': 'https://api.github.com/repos/ironhack-datalabs/par-apr-2019-prework/forks',\n",
       "  'keys_url': 'https://api.github.com/repos/ironhack-datalabs/par-apr-2019-prework/keys{/key_id}',\n",
       "  'collaborators_url': 'https://api.github.com/repos/ironhack-datalabs/par-apr-2019-prework/collaborators{/collaborator}',\n",
       "  'teams_url': 'https://api.github.com/repos/ironhack-datalabs/par-apr-2019-prework/teams',\n",
       "  'hooks_url': 'https://api.github.com/repos/ironhack-datalabs/par-apr-2019-prework/hooks',\n",
       "  'issue_events_url': 'https://api.github.com/repos/ironhack-datalabs/par-apr-2019-prework/issues/events{/number}',\n",
       "  'events_url': 'https://api.github.com/repos/ironhack-datalabs/par-apr-2019-prework/events',\n",
       "  'assignees_url': 'https://api.github.com/repos/ironhack-datalabs/par-apr-2019-prework/assignees{/user}',\n",
       "  'branches_url': 'https://api.github.com/repos/ironhack-datalabs/par-apr-2019-prework/branches{/branch}',\n",
       "  'tags_url': 'https://api.github.com/repos/ironhack-datalabs/par-apr-2019-prework/tags',\n",
       "  'blobs_url': 'https://api.github.com/repos/ironhack-datalabs/par-apr-2019-prework/git/blobs{/sha}',\n",
       "  'git_tags_url': 'https://api.github.com/repos/ironhack-datalabs/par-apr-2019-prework/git/tags{/sha}',\n",
       "  'git_refs_url': 'https://api.github.com/repos/ironhack-datalabs/par-apr-2019-prework/git/refs{/sha}',\n",
       "  'trees_url': 'https://api.github.com/repos/ironhack-datalabs/par-apr-2019-prework/git/trees{/sha}',\n",
       "  'statuses_url': 'https://api.github.com/repos/ironhack-datalabs/par-apr-2019-prework/statuses/{sha}',\n",
       "  'languages_url': 'https://api.github.com/repos/ironhack-datalabs/par-apr-2019-prework/languages',\n",
       "  'stargazers_url': 'https://api.github.com/repos/ironhack-datalabs/par-apr-2019-prework/stargazers',\n",
       "  'contributors_url': 'https://api.github.com/repos/ironhack-datalabs/par-apr-2019-prework/contributors',\n",
       "  'subscribers_url': 'https://api.github.com/repos/ironhack-datalabs/par-apr-2019-prework/subscribers',\n",
       "  'subscription_url': 'https://api.github.com/repos/ironhack-datalabs/par-apr-2019-prework/subscription',\n",
       "  'commits_url': 'https://api.github.com/repos/ironhack-datalabs/par-apr-2019-prework/commits{/sha}',\n",
       "  'git_commits_url': 'https://api.github.com/repos/ironhack-datalabs/par-apr-2019-prework/git/commits{/sha}',\n",
       "  'comments_url': 'https://api.github.com/repos/ironhack-datalabs/par-apr-2019-prework/comments{/number}',\n",
       "  'issue_comment_url': 'https://api.github.com/repos/ironhack-datalabs/par-apr-2019-prework/issues/comments{/number}',\n",
       "  'contents_url': 'https://api.github.com/repos/ironhack-datalabs/par-apr-2019-prework/contents/{+path}',\n",
       "  'compare_url': 'https://api.github.com/repos/ironhack-datalabs/par-apr-2019-prework/compare/{base}...{head}',\n",
       "  'merges_url': 'https://api.github.com/repos/ironhack-datalabs/par-apr-2019-prework/merges',\n",
       "  'archive_url': 'https://api.github.com/repos/ironhack-datalabs/par-apr-2019-prework/{archive_format}{/ref}',\n",
       "  'downloads_url': 'https://api.github.com/repos/ironhack-datalabs/par-apr-2019-prework/downloads',\n",
       "  'issues_url': 'https://api.github.com/repos/ironhack-datalabs/par-apr-2019-prework/issues{/number}',\n",
       "  'pulls_url': 'https://api.github.com/repos/ironhack-datalabs/par-apr-2019-prework/pulls{/number}',\n",
       "  'milestones_url': 'https://api.github.com/repos/ironhack-datalabs/par-apr-2019-prework/milestones{/number}',\n",
       "  'notifications_url': 'https://api.github.com/repos/ironhack-datalabs/par-apr-2019-prework/notifications{?since,all,participating}',\n",
       "  'labels_url': 'https://api.github.com/repos/ironhack-datalabs/par-apr-2019-prework/labels{/name}',\n",
       "  'releases_url': 'https://api.github.com/repos/ironhack-datalabs/par-apr-2019-prework/releases{/id}',\n",
       "  'deployments_url': 'https://api.github.com/repos/ironhack-datalabs/par-apr-2019-prework/deployments',\n",
       "  'created_at': '2019-03-14T13:25:09Z',\n",
       "  'updated_at': '2019-10-10T20:33:12Z',\n",
       "  'pushed_at': '2021-05-26T06:45:35Z',\n",
       "  'git_url': 'git://github.com/ironhack-datalabs/par-apr-2019-prework.git',\n",
       "  'ssh_url': 'git@github.com:ironhack-datalabs/par-apr-2019-prework.git',\n",
       "  'clone_url': 'https://github.com/ironhack-datalabs/par-apr-2019-prework.git',\n",
       "  'svn_url': 'https://github.com/ironhack-datalabs/par-apr-2019-prework',\n",
       "  'homepage': None,\n",
       "  'size': 237,\n",
       "  'stargazers_count': 1,\n",
       "  'watchers_count': 1,\n",
       "  'language': 'Jupyter Notebook',\n",
       "  'has_issues': True,\n",
       "  'has_projects': True,\n",
       "  'has_downloads': True,\n",
       "  'has_wiki': True,\n",
       "  'has_pages': False,\n",
       "  'forks_count': 74,\n",
       "  'mirror_url': None,\n",
       "  'archived': False,\n",
       "  'disabled': False,\n",
       "  'open_issues_count': 41,\n",
       "  'license': {'key': 'unlicense',\n",
       "   'name': 'The Unlicense',\n",
       "   'spdx_id': 'Unlicense',\n",
       "   'url': 'https://api.github.com/licenses/unlicense',\n",
       "   'node_id': 'MDc6TGljZW5zZTE1'},\n",
       "  'allow_forking': True,\n",
       "  'is_template': False,\n",
       "  'topics': [],\n",
       "  'visibility': 'public',\n",
       "  'forks': 74,\n",
       "  'open_issues': 41,\n",
       "  'watchers': 1,\n",
       "  'default_branch': 'master'},\n",
       " {'id': 162375181,\n",
       "  'node_id': 'MDEwOlJlcG9zaXRvcnkxNjIzNzUxODE=',\n",
       "  'name': 'scavenger',\n",
       "  'full_name': 'ironhack-datalabs/scavenger',\n",
       "  'private': False,\n",
       "  'owner': {'login': 'ironhack-datalabs',\n",
       "   'id': 44225188,\n",
       "   'node_id': 'MDEyOk9yZ2FuaXphdGlvbjQ0MjI1MTg4',\n",
       "   'avatar_url': 'https://avatars.githubusercontent.com/u/44225188?v=4',\n",
       "   'gravatar_id': '',\n",
       "   'url': 'https://api.github.com/users/ironhack-datalabs',\n",
       "   'html_url': 'https://github.com/ironhack-datalabs',\n",
       "   'followers_url': 'https://api.github.com/users/ironhack-datalabs/followers',\n",
       "   'following_url': 'https://api.github.com/users/ironhack-datalabs/following{/other_user}',\n",
       "   'gists_url': 'https://api.github.com/users/ironhack-datalabs/gists{/gist_id}',\n",
       "   'starred_url': 'https://api.github.com/users/ironhack-datalabs/starred{/owner}{/repo}',\n",
       "   'subscriptions_url': 'https://api.github.com/users/ironhack-datalabs/subscriptions',\n",
       "   'organizations_url': 'https://api.github.com/users/ironhack-datalabs/orgs',\n",
       "   'repos_url': 'https://api.github.com/users/ironhack-datalabs/repos',\n",
       "   'events_url': 'https://api.github.com/users/ironhack-datalabs/events{/privacy}',\n",
       "   'received_events_url': 'https://api.github.com/users/ironhack-datalabs/received_events',\n",
       "   'type': 'Organization',\n",
       "   'site_admin': False},\n",
       "  'html_url': 'https://github.com/ironhack-datalabs/scavenger',\n",
       "  'description': None,\n",
       "  'fork': False,\n",
       "  'url': 'https://api.github.com/repos/ironhack-datalabs/scavenger',\n",
       "  'forks_url': 'https://api.github.com/repos/ironhack-datalabs/scavenger/forks',\n",
       "  'keys_url': 'https://api.github.com/repos/ironhack-datalabs/scavenger/keys{/key_id}',\n",
       "  'collaborators_url': 'https://api.github.com/repos/ironhack-datalabs/scavenger/collaborators{/collaborator}',\n",
       "  'teams_url': 'https://api.github.com/repos/ironhack-datalabs/scavenger/teams',\n",
       "  'hooks_url': 'https://api.github.com/repos/ironhack-datalabs/scavenger/hooks',\n",
       "  'issue_events_url': 'https://api.github.com/repos/ironhack-datalabs/scavenger/issues/events{/number}',\n",
       "  'events_url': 'https://api.github.com/repos/ironhack-datalabs/scavenger/events',\n",
       "  'assignees_url': 'https://api.github.com/repos/ironhack-datalabs/scavenger/assignees{/user}',\n",
       "  'branches_url': 'https://api.github.com/repos/ironhack-datalabs/scavenger/branches{/branch}',\n",
       "  'tags_url': 'https://api.github.com/repos/ironhack-datalabs/scavenger/tags',\n",
       "  'blobs_url': 'https://api.github.com/repos/ironhack-datalabs/scavenger/git/blobs{/sha}',\n",
       "  'git_tags_url': 'https://api.github.com/repos/ironhack-datalabs/scavenger/git/tags{/sha}',\n",
       "  'git_refs_url': 'https://api.github.com/repos/ironhack-datalabs/scavenger/git/refs{/sha}',\n",
       "  'trees_url': 'https://api.github.com/repos/ironhack-datalabs/scavenger/git/trees{/sha}',\n",
       "  'statuses_url': 'https://api.github.com/repos/ironhack-datalabs/scavenger/statuses/{sha}',\n",
       "  'languages_url': 'https://api.github.com/repos/ironhack-datalabs/scavenger/languages',\n",
       "  'stargazers_url': 'https://api.github.com/repos/ironhack-datalabs/scavenger/stargazers',\n",
       "  'contributors_url': 'https://api.github.com/repos/ironhack-datalabs/scavenger/contributors',\n",
       "  'subscribers_url': 'https://api.github.com/repos/ironhack-datalabs/scavenger/subscribers',\n",
       "  'subscription_url': 'https://api.github.com/repos/ironhack-datalabs/scavenger/subscription',\n",
       "  'commits_url': 'https://api.github.com/repos/ironhack-datalabs/scavenger/commits{/sha}',\n",
       "  'git_commits_url': 'https://api.github.com/repos/ironhack-datalabs/scavenger/git/commits{/sha}',\n",
       "  'comments_url': 'https://api.github.com/repos/ironhack-datalabs/scavenger/comments{/number}',\n",
       "  'issue_comment_url': 'https://api.github.com/repos/ironhack-datalabs/scavenger/issues/comments{/number}',\n",
       "  'contents_url': 'https://api.github.com/repos/ironhack-datalabs/scavenger/contents/{+path}',\n",
       "  'compare_url': 'https://api.github.com/repos/ironhack-datalabs/scavenger/compare/{base}...{head}',\n",
       "  'merges_url': 'https://api.github.com/repos/ironhack-datalabs/scavenger/merges',\n",
       "  'archive_url': 'https://api.github.com/repos/ironhack-datalabs/scavenger/{archive_format}{/ref}',\n",
       "  'downloads_url': 'https://api.github.com/repos/ironhack-datalabs/scavenger/downloads',\n",
       "  'issues_url': 'https://api.github.com/repos/ironhack-datalabs/scavenger/issues{/number}',\n",
       "  'pulls_url': 'https://api.github.com/repos/ironhack-datalabs/scavenger/pulls{/number}',\n",
       "  'milestones_url': 'https://api.github.com/repos/ironhack-datalabs/scavenger/milestones{/number}',\n",
       "  'notifications_url': 'https://api.github.com/repos/ironhack-datalabs/scavenger/notifications{?since,all,participating}',\n",
       "  'labels_url': 'https://api.github.com/repos/ironhack-datalabs/scavenger/labels{/name}',\n",
       "  'releases_url': 'https://api.github.com/repos/ironhack-datalabs/scavenger/releases{/id}',\n",
       "  'deployments_url': 'https://api.github.com/repos/ironhack-datalabs/scavenger/deployments',\n",
       "  'created_at': '2018-12-19T03:01:30Z',\n",
       "  'updated_at': '2018-12-19T03:05:09Z',\n",
       "  'pushed_at': '2018-12-19T03:05:07Z',\n",
       "  'git_url': 'git://github.com/ironhack-datalabs/scavenger.git',\n",
       "  'ssh_url': 'git@github.com:ironhack-datalabs/scavenger.git',\n",
       "  'clone_url': 'https://github.com/ironhack-datalabs/scavenger.git',\n",
       "  'svn_url': 'https://github.com/ironhack-datalabs/scavenger',\n",
       "  'homepage': None,\n",
       "  'size': 3,\n",
       "  'stargazers_count': 0,\n",
       "  'watchers_count': 0,\n",
       "  'language': None,\n",
       "  'has_issues': True,\n",
       "  'has_projects': True,\n",
       "  'has_downloads': True,\n",
       "  'has_wiki': True,\n",
       "  'has_pages': False,\n",
       "  'forks_count': 10,\n",
       "  'mirror_url': None,\n",
       "  'archived': False,\n",
       "  'disabled': False,\n",
       "  'open_issues_count': 0,\n",
       "  'license': None,\n",
       "  'allow_forking': True,\n",
       "  'is_template': False,\n",
       "  'topics': [],\n",
       "  'visibility': 'public',\n",
       "  'forks': 10,\n",
       "  'open_issues': 0,\n",
       "  'watchers': 0,\n",
       "  'default_branch': 'master'}]"
      ]
     },
     "execution_count": 77,
     "metadata": {},
     "output_type": "execute_result"
    }
   ],
   "source": [
    "joke"
   ]
  },
  {
   "cell_type": "code",
   "execution_count": 78,
   "id": "8c142ff1",
   "metadata": {
    "ExecuteTime": {
     "end_time": "2021-11-09T12:11:07.949563Z",
     "start_time": "2021-11-09T12:11:07.940401Z"
    }
   },
   "outputs": [],
   "source": [
    "#creo el df\n",
    "joke1=pd.DataFrame(joke)"
   ]
  },
  {
   "cell_type": "code",
   "execution_count": 391,
   "id": "e0f943b1",
   "metadata": {
    "ExecuteTime": {
     "end_time": "2021-11-07T11:07:21.096866Z",
     "start_time": "2021-11-07T11:07:21.060541Z"
    }
   },
   "outputs": [
    {
     "data": {
      "text/html": [
       "<div>\n",
       "<style scoped>\n",
       "    .dataframe tbody tr th:only-of-type {\n",
       "        vertical-align: middle;\n",
       "    }\n",
       "\n",
       "    .dataframe tbody tr th {\n",
       "        vertical-align: top;\n",
       "    }\n",
       "\n",
       "    .dataframe thead th {\n",
       "        text-align: right;\n",
       "    }\n",
       "</style>\n",
       "<table border=\"1\" class=\"dataframe\">\n",
       "  <thead>\n",
       "    <tr style=\"text-align: right;\">\n",
       "      <th></th>\n",
       "      <th>id</th>\n",
       "      <th>node_id</th>\n",
       "      <th>name</th>\n",
       "      <th>full_name</th>\n",
       "      <th>private</th>\n",
       "      <th>owner</th>\n",
       "      <th>html_url</th>\n",
       "      <th>description</th>\n",
       "      <th>fork</th>\n",
       "      <th>url</th>\n",
       "      <th>...</th>\n",
       "      <th>open_issues_count</th>\n",
       "      <th>license</th>\n",
       "      <th>allow_forking</th>\n",
       "      <th>is_template</th>\n",
       "      <th>topics</th>\n",
       "      <th>visibility</th>\n",
       "      <th>forks</th>\n",
       "      <th>open_issues</th>\n",
       "      <th>watchers</th>\n",
       "      <th>default_branch</th>\n",
       "    </tr>\n",
       "  </thead>\n",
       "  <tbody>\n",
       "    <tr>\n",
       "      <th>0</th>\n",
       "      <td>213641170</td>\n",
       "      <td>MDEwOlJlcG9zaXRvcnkyMTM2NDExNzA=</td>\n",
       "      <td>dataV2-labs</td>\n",
       "      <td>ironhack-datalabs/dataV2-labs</td>\n",
       "      <td>False</td>\n",
       "      <td>{'login': 'ironhack-datalabs', 'id': 44225188,...</td>\n",
       "      <td>https://github.com/ironhack-datalabs/dataV2-labs</td>\n",
       "      <td>None</td>\n",
       "      <td>False</td>\n",
       "      <td>https://api.github.com/repos/ironhack-datalabs...</td>\n",
       "      <td>...</td>\n",
       "      <td>41</td>\n",
       "      <td>None</td>\n",
       "      <td>True</td>\n",
       "      <td>False</td>\n",
       "      <td>[]</td>\n",
       "      <td>public</td>\n",
       "      <td>215</td>\n",
       "      <td>41</td>\n",
       "      <td>5</td>\n",
       "      <td>master</td>\n",
       "    </tr>\n",
       "    <tr>\n",
       "      <th>1</th>\n",
       "      <td>221513875</td>\n",
       "      <td>MDEwOlJlcG9zaXRvcnkyMjE1MTM4NzU=</td>\n",
       "      <td>lab-advance-querying-mongo</td>\n",
       "      <td>ironhack-datalabs/lab-advance-querying-mongo</td>\n",
       "      <td>False</td>\n",
       "      <td>{'login': 'ironhack-datalabs', 'id': 44225188,...</td>\n",
       "      <td>https://github.com/ironhack-datalabs/lab-advan...</td>\n",
       "      <td>None</td>\n",
       "      <td>True</td>\n",
       "      <td>https://api.github.com/repos/ironhack-datalabs...</td>\n",
       "      <td>...</td>\n",
       "      <td>0</td>\n",
       "      <td>None</td>\n",
       "      <td>True</td>\n",
       "      <td>False</td>\n",
       "      <td>[]</td>\n",
       "      <td>public</td>\n",
       "      <td>28</td>\n",
       "      <td>0</td>\n",
       "      <td>0</td>\n",
       "      <td>master</td>\n",
       "    </tr>\n",
       "    <tr>\n",
       "      <th>2</th>\n",
       "      <td>168491511</td>\n",
       "      <td>MDEwOlJlcG9zaXRvcnkxNjg0OTE1MTE=</td>\n",
       "      <td>lab-data-vikings</td>\n",
       "      <td>ironhack-datalabs/lab-data-vikings</td>\n",
       "      <td>False</td>\n",
       "      <td>{'login': 'ironhack-datalabs', 'id': 44225188,...</td>\n",
       "      <td>https://github.com/ironhack-datalabs/lab-data-...</td>\n",
       "      <td>Vikings are ported to python. YAY!!</td>\n",
       "      <td>False</td>\n",
       "      <td>https://api.github.com/repos/ironhack-datalabs...</td>\n",
       "      <td>...</td>\n",
       "      <td>17</td>\n",
       "      <td>None</td>\n",
       "      <td>True</td>\n",
       "      <td>False</td>\n",
       "      <td>[]</td>\n",
       "      <td>public</td>\n",
       "      <td>138</td>\n",
       "      <td>17</td>\n",
       "      <td>4</td>\n",
       "      <td>master</td>\n",
       "    </tr>\n",
       "    <tr>\n",
       "      <th>3</th>\n",
       "      <td>153418878</td>\n",
       "      <td>MDEwOlJlcG9zaXRvcnkxNTM0MTg4Nzg=</td>\n",
       "      <td>lab-erd</td>\n",
       "      <td>ironhack-datalabs/lab-erd</td>\n",
       "      <td>False</td>\n",
       "      <td>{'login': 'ironhack-datalabs', 'id': 44225188,...</td>\n",
       "      <td>https://github.com/ironhack-datalabs/lab-erd</td>\n",
       "      <td>None</td>\n",
       "      <td>False</td>\n",
       "      <td>https://api.github.com/repos/ironhack-datalabs...</td>\n",
       "      <td>...</td>\n",
       "      <td>0</td>\n",
       "      <td>None</td>\n",
       "      <td>True</td>\n",
       "      <td>False</td>\n",
       "      <td>[]</td>\n",
       "      <td>public</td>\n",
       "      <td>11</td>\n",
       "      <td>0</td>\n",
       "      <td>0</td>\n",
       "      <td>master</td>\n",
       "    </tr>\n",
       "    <tr>\n",
       "      <th>4</th>\n",
       "      <td>153646057</td>\n",
       "      <td>MDEwOlJlcG9zaXRvcnkxNTM2NDYwNTc=</td>\n",
       "      <td>lab-mysql</td>\n",
       "      <td>ironhack-datalabs/lab-mysql</td>\n",
       "      <td>False</td>\n",
       "      <td>{'login': 'ironhack-datalabs', 'id': 44225188,...</td>\n",
       "      <td>https://github.com/ironhack-datalabs/lab-mysql</td>\n",
       "      <td>None</td>\n",
       "      <td>False</td>\n",
       "      <td>https://api.github.com/repos/ironhack-datalabs...</td>\n",
       "      <td>...</td>\n",
       "      <td>0</td>\n",
       "      <td>None</td>\n",
       "      <td>True</td>\n",
       "      <td>False</td>\n",
       "      <td>[]</td>\n",
       "      <td>public</td>\n",
       "      <td>7</td>\n",
       "      <td>0</td>\n",
       "      <td>0</td>\n",
       "      <td>master</td>\n",
       "    </tr>\n",
       "    <tr>\n",
       "      <th>5</th>\n",
       "      <td>153720804</td>\n",
       "      <td>MDEwOlJlcG9zaXRvcnkxNTM3MjA4MDQ=</td>\n",
       "      <td>mad-oct-2018</td>\n",
       "      <td>ironhack-datalabs/mad-oct-2018</td>\n",
       "      <td>False</td>\n",
       "      <td>{'login': 'ironhack-datalabs', 'id': 44225188,...</td>\n",
       "      <td>https://github.com/ironhack-datalabs/mad-oct-2018</td>\n",
       "      <td>Student labs for Ironhack data analytics bootcamp</td>\n",
       "      <td>True</td>\n",
       "      <td>https://api.github.com/repos/ironhack-datalabs...</td>\n",
       "      <td>...</td>\n",
       "      <td>0</td>\n",
       "      <td>{'key': 'unlicense', 'name': 'The Unlicense', ...</td>\n",
       "      <td>True</td>\n",
       "      <td>False</td>\n",
       "      <td>[]</td>\n",
       "      <td>public</td>\n",
       "      <td>18</td>\n",
       "      <td>0</td>\n",
       "      <td>7</td>\n",
       "      <td>master</td>\n",
       "    </tr>\n",
       "    <tr>\n",
       "      <th>6</th>\n",
       "      <td>175643862</td>\n",
       "      <td>MDEwOlJlcG9zaXRvcnkxNzU2NDM4NjI=</td>\n",
       "      <td>mex-jul-2019-prework</td>\n",
       "      <td>ironhack-datalabs/mex-jul-2019-prework</td>\n",
       "      <td>False</td>\n",
       "      <td>{'login': 'ironhack-datalabs', 'id': 44225188,...</td>\n",
       "      <td>https://github.com/ironhack-datalabs/mex-jul-2...</td>\n",
       "      <td>None</td>\n",
       "      <td>False</td>\n",
       "      <td>https://api.github.com/repos/ironhack-datalabs...</td>\n",
       "      <td>...</td>\n",
       "      <td>15</td>\n",
       "      <td>{'key': 'unlicense', 'name': 'The Unlicense', ...</td>\n",
       "      <td>True</td>\n",
       "      <td>False</td>\n",
       "      <td>[]</td>\n",
       "      <td>public</td>\n",
       "      <td>29</td>\n",
       "      <td>15</td>\n",
       "      <td>0</td>\n",
       "      <td>master</td>\n",
       "    </tr>\n",
       "    <tr>\n",
       "      <th>7</th>\n",
       "      <td>175627136</td>\n",
       "      <td>MDEwOlJlcG9zaXRvcnkxNzU2MjcxMzY=</td>\n",
       "      <td>par-apr-2019-prework</td>\n",
       "      <td>ironhack-datalabs/par-apr-2019-prework</td>\n",
       "      <td>False</td>\n",
       "      <td>{'login': 'ironhack-datalabs', 'id': 44225188,...</td>\n",
       "      <td>https://github.com/ironhack-datalabs/par-apr-2...</td>\n",
       "      <td>None</td>\n",
       "      <td>False</td>\n",
       "      <td>https://api.github.com/repos/ironhack-datalabs...</td>\n",
       "      <td>...</td>\n",
       "      <td>41</td>\n",
       "      <td>{'key': 'unlicense', 'name': 'The Unlicense', ...</td>\n",
       "      <td>True</td>\n",
       "      <td>False</td>\n",
       "      <td>[]</td>\n",
       "      <td>public</td>\n",
       "      <td>74</td>\n",
       "      <td>41</td>\n",
       "      <td>1</td>\n",
       "      <td>master</td>\n",
       "    </tr>\n",
       "    <tr>\n",
       "      <th>8</th>\n",
       "      <td>162375181</td>\n",
       "      <td>MDEwOlJlcG9zaXRvcnkxNjIzNzUxODE=</td>\n",
       "      <td>scavenger</td>\n",
       "      <td>ironhack-datalabs/scavenger</td>\n",
       "      <td>False</td>\n",
       "      <td>{'login': 'ironhack-datalabs', 'id': 44225188,...</td>\n",
       "      <td>https://github.com/ironhack-datalabs/scavenger</td>\n",
       "      <td>None</td>\n",
       "      <td>False</td>\n",
       "      <td>https://api.github.com/repos/ironhack-datalabs...</td>\n",
       "      <td>...</td>\n",
       "      <td>0</td>\n",
       "      <td>None</td>\n",
       "      <td>True</td>\n",
       "      <td>False</td>\n",
       "      <td>[]</td>\n",
       "      <td>public</td>\n",
       "      <td>10</td>\n",
       "      <td>0</td>\n",
       "      <td>0</td>\n",
       "      <td>master</td>\n",
       "    </tr>\n",
       "  </tbody>\n",
       "</table>\n",
       "<p>9 rows × 77 columns</p>\n",
       "</div>"
      ],
      "text/plain": [
       "          id                           node_id                        name  \\\n",
       "0  213641170  MDEwOlJlcG9zaXRvcnkyMTM2NDExNzA=                 dataV2-labs   \n",
       "1  221513875  MDEwOlJlcG9zaXRvcnkyMjE1MTM4NzU=  lab-advance-querying-mongo   \n",
       "2  168491511  MDEwOlJlcG9zaXRvcnkxNjg0OTE1MTE=            lab-data-vikings   \n",
       "3  153418878  MDEwOlJlcG9zaXRvcnkxNTM0MTg4Nzg=                     lab-erd   \n",
       "4  153646057  MDEwOlJlcG9zaXRvcnkxNTM2NDYwNTc=                   lab-mysql   \n",
       "5  153720804  MDEwOlJlcG9zaXRvcnkxNTM3MjA4MDQ=                mad-oct-2018   \n",
       "6  175643862  MDEwOlJlcG9zaXRvcnkxNzU2NDM4NjI=        mex-jul-2019-prework   \n",
       "7  175627136  MDEwOlJlcG9zaXRvcnkxNzU2MjcxMzY=        par-apr-2019-prework   \n",
       "8  162375181  MDEwOlJlcG9zaXRvcnkxNjIzNzUxODE=                   scavenger   \n",
       "\n",
       "                                      full_name  private  \\\n",
       "0                 ironhack-datalabs/dataV2-labs    False   \n",
       "1  ironhack-datalabs/lab-advance-querying-mongo    False   \n",
       "2            ironhack-datalabs/lab-data-vikings    False   \n",
       "3                     ironhack-datalabs/lab-erd    False   \n",
       "4                   ironhack-datalabs/lab-mysql    False   \n",
       "5                ironhack-datalabs/mad-oct-2018    False   \n",
       "6        ironhack-datalabs/mex-jul-2019-prework    False   \n",
       "7        ironhack-datalabs/par-apr-2019-prework    False   \n",
       "8                   ironhack-datalabs/scavenger    False   \n",
       "\n",
       "                                               owner  \\\n",
       "0  {'login': 'ironhack-datalabs', 'id': 44225188,...   \n",
       "1  {'login': 'ironhack-datalabs', 'id': 44225188,...   \n",
       "2  {'login': 'ironhack-datalabs', 'id': 44225188,...   \n",
       "3  {'login': 'ironhack-datalabs', 'id': 44225188,...   \n",
       "4  {'login': 'ironhack-datalabs', 'id': 44225188,...   \n",
       "5  {'login': 'ironhack-datalabs', 'id': 44225188,...   \n",
       "6  {'login': 'ironhack-datalabs', 'id': 44225188,...   \n",
       "7  {'login': 'ironhack-datalabs', 'id': 44225188,...   \n",
       "8  {'login': 'ironhack-datalabs', 'id': 44225188,...   \n",
       "\n",
       "                                            html_url  \\\n",
       "0   https://github.com/ironhack-datalabs/dataV2-labs   \n",
       "1  https://github.com/ironhack-datalabs/lab-advan...   \n",
       "2  https://github.com/ironhack-datalabs/lab-data-...   \n",
       "3       https://github.com/ironhack-datalabs/lab-erd   \n",
       "4     https://github.com/ironhack-datalabs/lab-mysql   \n",
       "5  https://github.com/ironhack-datalabs/mad-oct-2018   \n",
       "6  https://github.com/ironhack-datalabs/mex-jul-2...   \n",
       "7  https://github.com/ironhack-datalabs/par-apr-2...   \n",
       "8     https://github.com/ironhack-datalabs/scavenger   \n",
       "\n",
       "                                         description   fork  \\\n",
       "0                                               None  False   \n",
       "1                                               None   True   \n",
       "2                Vikings are ported to python. YAY!!  False   \n",
       "3                                               None  False   \n",
       "4                                               None  False   \n",
       "5  Student labs for Ironhack data analytics bootcamp   True   \n",
       "6                                               None  False   \n",
       "7                                               None  False   \n",
       "8                                               None  False   \n",
       "\n",
       "                                                 url  ... open_issues_count  \\\n",
       "0  https://api.github.com/repos/ironhack-datalabs...  ...                41   \n",
       "1  https://api.github.com/repos/ironhack-datalabs...  ...                 0   \n",
       "2  https://api.github.com/repos/ironhack-datalabs...  ...                17   \n",
       "3  https://api.github.com/repos/ironhack-datalabs...  ...                 0   \n",
       "4  https://api.github.com/repos/ironhack-datalabs...  ...                 0   \n",
       "5  https://api.github.com/repos/ironhack-datalabs...  ...                 0   \n",
       "6  https://api.github.com/repos/ironhack-datalabs...  ...                15   \n",
       "7  https://api.github.com/repos/ironhack-datalabs...  ...                41   \n",
       "8  https://api.github.com/repos/ironhack-datalabs...  ...                 0   \n",
       "\n",
       "                                             license allow_forking  \\\n",
       "0                                               None          True   \n",
       "1                                               None          True   \n",
       "2                                               None          True   \n",
       "3                                               None          True   \n",
       "4                                               None          True   \n",
       "5  {'key': 'unlicense', 'name': 'The Unlicense', ...          True   \n",
       "6  {'key': 'unlicense', 'name': 'The Unlicense', ...          True   \n",
       "7  {'key': 'unlicense', 'name': 'The Unlicense', ...          True   \n",
       "8                                               None          True   \n",
       "\n",
       "  is_template topics visibility forks open_issues watchers default_branch  \n",
       "0       False     []     public   215          41        5         master  \n",
       "1       False     []     public    28           0        0         master  \n",
       "2       False     []     public   138          17        4         master  \n",
       "3       False     []     public    11           0        0         master  \n",
       "4       False     []     public     7           0        0         master  \n",
       "5       False     []     public    18           0        7         master  \n",
       "6       False     []     public    29          15        0         master  \n",
       "7       False     []     public    74          41        1         master  \n",
       "8       False     []     public    10           0        0         master  \n",
       "\n",
       "[9 rows x 77 columns]"
      ]
     },
     "execution_count": 391,
     "metadata": {},
     "output_type": "execute_result"
    }
   ],
   "source": [
    "joke1"
   ]
  },
  {
   "cell_type": "code",
   "execution_count": 13,
   "id": "b4a75a8d",
   "metadata": {
    "ExecuteTime": {
     "end_time": "2021-11-11T14:22:09.659101Z",
     "start_time": "2021-11-11T14:22:09.329082Z"
    }
   },
   "outputs": [],
   "source": [
    "#Creo que he dado muchas vueltas pero he conseguido llegar al enlace de los contenidos!\n",
    "joke_url=\"https://api.github.com/repos/ironhack-datalabs/scavenger/contents/\"\n",
    "joke_resp=requests.get(joke_url,headers).json()"
   ]
  },
  {
   "cell_type": "code",
   "execution_count": 15,
   "id": "41815f15",
   "metadata": {
    "ExecuteTime": {
     "end_time": "2021-11-11T14:22:25.479201Z",
     "start_time": "2021-11-11T14:22:25.448043Z"
    }
   },
   "outputs": [],
   "source": [
    "joke_df=pd.DataFrame(joke_resp)"
   ]
  },
  {
   "cell_type": "code",
   "execution_count": 16,
   "id": "619c8028",
   "metadata": {
    "ExecuteTime": {
     "end_time": "2021-11-11T14:22:26.059018Z",
     "start_time": "2021-11-11T14:22:26.048870Z"
    }
   },
   "outputs": [],
   "source": [
    "lista_carpetas=list(joke_df[\"name\"])"
   ]
  },
  {
   "cell_type": "code",
   "execution_count": 17,
   "id": "12f46702",
   "metadata": {
    "ExecuteTime": {
     "end_time": "2021-11-11T14:22:27.135415Z",
     "start_time": "2021-11-11T14:22:27.127384Z"
    }
   },
   "outputs": [
    {
     "data": {
      "text/plain": [
       "['.gitignore',\n",
       " '15024',\n",
       " '15534',\n",
       " '17020',\n",
       " '30351',\n",
       " '40303',\n",
       " '44639',\n",
       " '45525',\n",
       " '47222',\n",
       " '47830',\n",
       " '49418',\n",
       " '50896',\n",
       " '55417',\n",
       " '55685',\n",
       " '60224',\n",
       " '64880',\n",
       " '66032',\n",
       " '68848',\n",
       " '70751',\n",
       " '70985',\n",
       " '88596',\n",
       " '89046',\n",
       " '89338',\n",
       " '91701',\n",
       " '97881',\n",
       " '98750']"
      ]
     },
     "execution_count": 17,
     "metadata": {},
     "output_type": "execute_result"
    }
   ],
   "source": [
    "lista_carpetas"
   ]
  },
  {
   "cell_type": "code",
   "execution_count": 18,
   "id": "38eebbc6",
   "metadata": {
    "ExecuteTime": {
     "end_time": "2021-11-11T14:22:29.689164Z",
     "start_time": "2021-11-11T14:22:29.667493Z"
    }
   },
   "outputs": [],
   "source": [
    "#creo una funcion que busque en cada una de las carpetas\n",
    "def hide(numerolista):\n",
    "    lista=[]\n",
    "    hide_url=(f'https://api.github.com/repos/ironhack-datalabs/scavenger/contents/{numerolista}')\n",
    "    r=requests.get(hide_url,headers).json()\n",
    "    df=pd.DataFrame(r)\n",
    "    for i in range(len(df)):\n",
    "        if re.findall(\"scavengerhunt\",df.name[i]):\n",
    "            lista.append(f'{df.name[i]}, esta en la carpeta: {numerolista}' )\n",
    "    return lista"
   ]
  },
  {
   "cell_type": "code",
   "execution_count": 19,
   "id": "7d697398",
   "metadata": {
    "ExecuteTime": {
     "end_time": "2021-11-11T14:22:30.935187Z",
     "start_time": "2021-11-11T14:22:30.640613Z"
    }
   },
   "outputs": [],
   "source": [
    "hide_url=(f'https://api.github.com/repos/ironhack-datalabs/scavenger/contents/70985')\n",
    "r=requests.get(hide_url,headers).json()\n",
    "df=pd.DataFrame(r)"
   ]
  },
  {
   "cell_type": "code",
   "execution_count": 45,
   "id": "e3ece362",
   "metadata": {
    "ExecuteTime": {
     "end_time": "2021-11-11T14:30:04.177274Z",
     "start_time": "2021-11-11T14:29:56.477340Z"
    },
    "scrolled": true
   },
   "outputs": [],
   "source": [
    "#i\n",
    "scaven=[]\n",
    "for i in lista_carpetas:\n",
    "    scaven.append(hide(i))"
   ]
  },
  {
   "cell_type": "code",
   "execution_count": 46,
   "id": "e4ec1193",
   "metadata": {
    "ExecuteTime": {
     "end_time": "2021-11-11T14:30:07.658219Z",
     "start_time": "2021-11-11T14:30:07.628743Z"
    }
   },
   "outputs": [
    {
     "data": {
      "text/plain": [
       "[[],\n",
       " ['.0006.scavengerhunt, esta en la carpeta: 15024'],\n",
       " ['.0008.scavengerhunt, esta en la carpeta: 15534',\n",
       "  '.0012.scavengerhunt, esta en la carpeta: 15534'],\n",
       " ['.0007.scavengerhunt, esta en la carpeta: 17020'],\n",
       " ['.0021.scavengerhunt, esta en la carpeta: 30351'],\n",
       " ['.0022.scavengerhunt, esta en la carpeta: 40303'],\n",
       " ['.0005.scavengerhunt, esta en la carpeta: 44639'],\n",
       " ['.0018.scavengerhunt, esta en la carpeta: 45525'],\n",
       " ['.0016.scavengerhunt, esta en la carpeta: 47222',\n",
       "  '.0024.scavengerhunt, esta en la carpeta: 47222'],\n",
       " ['.0010.scavengerhunt, esta en la carpeta: 47830'],\n",
       " ['.0014.scavengerhunt, esta en la carpeta: 49418'],\n",
       " ['.0011.scavengerhunt, esta en la carpeta: 50896'],\n",
       " ['.0023.scavengerhunt, esta en la carpeta: 55417'],\n",
       " ['.0020.scavengerhunt, esta en la carpeta: 55685'],\n",
       " ['.0003.scavengerhunt, esta en la carpeta: 60224'],\n",
       " [],\n",
       " [],\n",
       " ['.0004.scavengerhunt, esta en la carpeta: 68848'],\n",
       " ['.0019.scavengerhunt, esta en la carpeta: 70751'],\n",
       " ['.0017.scavengerhunt, esta en la carpeta: 70985'],\n",
       " ['.0002.scavengerhunt, esta en la carpeta: 88596'],\n",
       " [],\n",
       " ['.0013.scavengerhunt, esta en la carpeta: 89338'],\n",
       " ['.0015.scavengerhunt, esta en la carpeta: 91701'],\n",
       " ['.0009.scavengerhunt, esta en la carpeta: 97881'],\n",
       " ['.0001.scavengerhunt, esta en la carpeta: 98750']]"
      ]
     },
     "execution_count": 46,
     "metadata": {},
     "output_type": "execute_result"
    }
   ],
   "source": [
    "scaven"
   ]
  },
  {
   "cell_type": "code",
   "execution_count": 27,
   "id": "b11d8fed",
   "metadata": {
    "ExecuteTime": {
     "end_time": "2021-11-11T14:25:53.029181Z",
     "start_time": "2021-11-11T14:25:53.007747Z"
    }
   },
   "outputs": [
    {
     "data": {
      "text/plain": [
       "'.0008.scavengerhunt, esta en la carpeta: 15534'"
      ]
     },
     "execution_count": 27,
     "metadata": {},
     "output_type": "execute_result"
    }
   ],
   "source": [
    "scaven[2][0]"
   ]
  },
  {
   "cell_type": "code",
   "execution_count": 50,
   "id": "c34b00d3",
   "metadata": {
    "ExecuteTime": {
     "end_time": "2021-11-11T14:30:54.993216Z",
     "start_time": "2021-11-11T14:30:54.977215Z"
    }
   },
   "outputs": [
    {
     "data": {
      "text/plain": [
       "23"
      ]
     },
     "execution_count": 50,
     "metadata": {},
     "output_type": "execute_result"
    }
   ],
   "source": [
    "len(scaven)\n",
    "    "
   ]
  },
  {
   "cell_type": "code",
   "execution_count": 53,
   "id": "5e01e9b0",
   "metadata": {
    "ExecuteTime": {
     "end_time": "2021-11-11T14:31:35.944293Z",
     "start_time": "2021-11-11T14:31:35.939191Z"
    }
   },
   "outputs": [],
   "source": [
    "for i in scaven:\n",
    "    if len(scaven)==0:\n",
    "        print(i)"
   ]
  },
  {
   "cell_type": "code",
   "execution_count": 41,
   "id": "a8ff0671",
   "metadata": {
    "ExecuteTime": {
     "end_time": "2021-11-11T14:29:11.106278Z",
     "start_time": "2021-11-11T14:29:11.098272Z"
    }
   },
   "outputs": [],
   "source": [
    "for i in scaven:\n",
    "    scav.append(i)"
   ]
  },
  {
   "cell_type": "code",
   "execution_count": 55,
   "id": "59cfe6ec",
   "metadata": {
    "ExecuteTime": {
     "end_time": "2021-11-11T14:32:12.243428Z",
     "start_time": "2021-11-11T14:32:12.235429Z"
    }
   },
   "outputs": [],
   "source": [
    "df2=pd.DataFrame(scaven)"
   ]
  },
  {
   "cell_type": "code",
   "execution_count": 85,
   "id": "09a80267",
   "metadata": {
    "ExecuteTime": {
     "end_time": "2021-11-11T14:38:11.107108Z",
     "start_time": "2021-11-11T14:38:11.087502Z"
    }
   },
   "outputs": [],
   "source": [
    "lista=[df2[1].loc[1],df2[1].loc[7]]"
   ]
  },
  {
   "cell_type": "code",
   "execution_count": 93,
   "id": "ccc8f277",
   "metadata": {
    "ExecuteTime": {
     "end_time": "2021-11-11T14:39:37.005596Z",
     "start_time": "2021-11-11T14:39:36.997596Z"
    }
   },
   "outputs": [],
   "source": [
    "l2=[]\n",
    "for i in df2[0]:\n",
    "    l2.append(i)"
   ]
  },
  {
   "cell_type": "code",
   "execution_count": 95,
   "id": "643d2385",
   "metadata": {
    "ExecuteTime": {
     "end_time": "2021-11-11T14:39:53.757694Z",
     "start_time": "2021-11-11T14:39:53.738104Z"
    }
   },
   "outputs": [],
   "source": [
    "l3=lista+l2"
   ]
  },
  {
   "cell_type": "code",
   "execution_count": 101,
   "id": "f7671e35",
   "metadata": {
    "ExecuteTime": {
     "end_time": "2021-11-11T14:40:53.538310Z",
     "start_time": "2021-11-11T14:40:53.517651Z"
    }
   },
   "outputs": [],
   "source": [
    "for i in l3:\n",
    "    if i==None:\n",
    "        l3.remove(i)"
   ]
  },
  {
   "cell_type": "code",
   "execution_count": 103,
   "id": "3241593c",
   "metadata": {
    "ExecuteTime": {
     "end_time": "2021-11-11T14:41:10.625112Z",
     "start_time": "2021-11-11T14:41:10.609108Z"
    }
   },
   "outputs": [],
   "source": [
    "#Lo ponemos en orden\n",
    "l3.sort()"
   ]
  },
  {
   "cell_type": "code",
   "execution_count": 104,
   "id": "bbdf1363",
   "metadata": {
    "ExecuteTime": {
     "end_time": "2021-11-11T14:41:14.177772Z",
     "start_time": "2021-11-11T14:41:14.150062Z"
    }
   },
   "outputs": [
    {
     "data": {
      "text/plain": [
       "['.0001.scavengerhunt, esta en la carpeta: 98750',\n",
       " '.0002.scavengerhunt, esta en la carpeta: 88596',\n",
       " '.0003.scavengerhunt, esta en la carpeta: 60224',\n",
       " '.0004.scavengerhunt, esta en la carpeta: 68848',\n",
       " '.0005.scavengerhunt, esta en la carpeta: 44639',\n",
       " '.0006.scavengerhunt, esta en la carpeta: 15024',\n",
       " '.0007.scavengerhunt, esta en la carpeta: 17020',\n",
       " '.0008.scavengerhunt, esta en la carpeta: 15534',\n",
       " '.0009.scavengerhunt, esta en la carpeta: 97881',\n",
       " '.0010.scavengerhunt, esta en la carpeta: 47830',\n",
       " '.0011.scavengerhunt, esta en la carpeta: 50896',\n",
       " '.0012.scavengerhunt, esta en la carpeta: 15534',\n",
       " '.0013.scavengerhunt, esta en la carpeta: 89338',\n",
       " '.0014.scavengerhunt, esta en la carpeta: 49418',\n",
       " '.0015.scavengerhunt, esta en la carpeta: 91701',\n",
       " '.0016.scavengerhunt, esta en la carpeta: 47222',\n",
       " '.0017.scavengerhunt, esta en la carpeta: 70985',\n",
       " '.0018.scavengerhunt, esta en la carpeta: 45525',\n",
       " '.0019.scavengerhunt, esta en la carpeta: 70751',\n",
       " '.0020.scavengerhunt, esta en la carpeta: 55685',\n",
       " '.0021.scavengerhunt, esta en la carpeta: 30351',\n",
       " '.0022.scavengerhunt, esta en la carpeta: 40303',\n",
       " '.0023.scavengerhunt, esta en la carpeta: 55417',\n",
       " '.0024.scavengerhunt, esta en la carpeta: 47222']"
      ]
     },
     "execution_count": 104,
     "metadata": {},
     "output_type": "execute_result"
    }
   ],
   "source": [
    "l3"
   ]
  },
  {
   "cell_type": "code",
   "execution_count": 134,
   "id": "8fe69b39",
   "metadata": {
    "ExecuteTime": {
     "end_time": "2021-11-11T14:59:25.294875Z",
     "start_time": "2021-11-11T14:59:25.287821Z"
    }
   },
   "outputs": [],
   "source": [
    "#Creo una lista con el archivo y otra con la carpeta en la que esta\n",
    "archivo=[]\n",
    "carpeta=[]\n",
    "for i in range(len(l3)):\n",
    "    archivo.append(l3[i][:19])\n",
    "for i in range(len(l3)):\n",
    "    carpeta.append(l3[i][-6:])"
   ]
  },
  {
   "cell_type": "code",
   "execution_count": 109,
   "id": "c393b18a",
   "metadata": {
    "ExecuteTime": {
     "end_time": "2021-11-11T14:48:51.425473Z",
     "start_time": "2021-11-11T14:48:51.038803Z"
    }
   },
   "outputs": [],
   "source": [
    "url2='https://api.github.com/repos/ironhack-datalabs/scavenger/contents/88596/.0002.scavengerhunt'\n",
    "resp2=requests.get(url2,headers).json()"
   ]
  },
  {
   "cell_type": "code",
   "execution_count": 122,
   "id": "cc2d6d0f",
   "metadata": {
    "ExecuteTime": {
     "end_time": "2021-11-11T14:52:10.259260Z",
     "start_time": "2021-11-11T14:52:10.240187Z"
    }
   },
   "outputs": [
    {
     "data": {
      "text/plain": [
       "{'name': '.0002.scavengerhunt',\n",
       " 'path': '88596/.0002.scavengerhunt',\n",
       " 'sha': '1269488f7fb1f4b56a8c0e5eb48cecbfadfa9219',\n",
       " 'size': 5,\n",
       " 'url': 'https://api.github.com/repos/ironhack-datalabs/scavenger/contents/88596/.0002.scavengerhunt?ref=master',\n",
       " 'html_url': 'https://github.com/ironhack-datalabs/scavenger/blob/master/88596/.0002.scavengerhunt',\n",
       " 'git_url': 'https://api.github.com/repos/ironhack-datalabs/scavenger/git/blobs/1269488f7fb1f4b56a8c0e5eb48cecbfadfa9219',\n",
       " 'download_url': 'https://raw.githubusercontent.com/ironhack-datalabs/scavenger/master/88596/.0002.scavengerhunt',\n",
       " 'type': 'file',\n",
       " 'content': 'ZGF0YQo=\\n',\n",
       " 'encoding': 'base64',\n",
       " '_links': {'self': 'https://api.github.com/repos/ironhack-datalabs/scavenger/contents/88596/.0002.scavengerhunt?ref=master',\n",
       "  'git': 'https://api.github.com/repos/ironhack-datalabs/scavenger/git/blobs/1269488f7fb1f4b56a8c0e5eb48cecbfadfa9219',\n",
       "  'html': 'https://github.com/ironhack-datalabs/scavenger/blob/master/88596/.0002.scavengerhunt'}}"
      ]
     },
     "execution_count": 122,
     "metadata": {},
     "output_type": "execute_result"
    }
   ],
   "source": [
    "#me interesa el content pero esta encodign base24\n",
    "resp2"
   ]
  },
  {
   "cell_type": "code",
   "execution_count": 141,
   "id": "26668d14",
   "metadata": {
    "ExecuteTime": {
     "end_time": "2021-11-11T15:02:02.981922Z",
     "start_time": "2021-11-11T15:02:02.970799Z"
    },
    "scrolled": true
   },
   "outputs": [
    {
     "data": {
      "text/plain": [
       "'ZGF0YQo=\\n'"
      ]
     },
     "execution_count": 141,
     "metadata": {},
     "output_type": "execute_result"
    }
   ],
   "source": [
    "(resp2[\"content\"])"
   ]
  },
  {
   "cell_type": "code",
   "execution_count": 150,
   "id": "687f6f13",
   "metadata": {
    "ExecuteTime": {
     "end_time": "2021-11-11T15:04:03.013170Z",
     "start_time": "2021-11-11T15:04:03.000412Z"
    }
   },
   "outputs": [],
   "source": [
    "#Creo una funcion para sacar el contenido\n",
    "def joke(carpeta,archivo):\n",
    "    url2=f'https://api.github.com/repos/ironhack-datalabs/scavenger/contents/{carpeta}/{archivo}'\n",
    "    resp2=requests.get(url2,headers).json()\n",
    "    return(resp2)\n",
    "    "
   ]
  },
  {
   "cell_type": "code",
   "execution_count": 151,
   "id": "d28da1c8",
   "metadata": {
    "ExecuteTime": {
     "end_time": "2021-11-11T15:04:03.710341Z",
     "start_time": "2021-11-11T15:04:03.564630Z"
    }
   },
   "outputs": [
    {
     "data": {
      "text/plain": [
       "{'message': \"API rate limit exceeded for 79.145.195.47. (But here's the good news: Authenticated requests get a higher rate limit. Check out the documentation for more details.)\",\n",
       " 'documentation_url': 'https://docs.github.com/rest/overview/resources-in-the-rest-api#rate-limiting'}"
      ]
     },
     "execution_count": 151,
     "metadata": {},
     "output_type": "execute_result"
    }
   ],
   "source": [
    "joke(\"88596\",\"0002.scavengerhunt\")"
   ]
  },
  {
   "cell_type": "code",
   "execution_count": 156,
   "id": "b1a9ed98",
   "metadata": {
    "ExecuteTime": {
     "end_time": "2021-11-11T17:45:04.476001Z",
     "start_time": "2021-11-11T17:45:04.456986Z"
    }
   },
   "outputs": [
    {
     "ename": "SyntaxError",
     "evalue": "invalid syntax (<ipython-input-156-d3f30655ce6f>, line 1)",
     "output_type": "error",
     "traceback": [
      "\u001b[1;36m  File \u001b[1;32m\"<ipython-input-156-d3f30655ce6f>\"\u001b[1;36m, line \u001b[1;32m1\u001b[0m\n\u001b[1;33m    headers2= 'Accept': 'application/vnd.github.v3.raw'\u001b[0m\n\u001b[1;37m                      ^\u001b[0m\n\u001b[1;31mSyntaxError\u001b[0m\u001b[1;31m:\u001b[0m invalid syntax\n"
     ]
    }
   ],
   "source": [
    "headers2= 'Accept': 'application/vnd.github.v3.raw'\n",
    "url2=f'https://api.github.com/repos/ironhack-datalabs/scavenger/contents/{carpeta}/{archivo}'\n",
    "resp2=requests.get(url2,headers,headers2).json()"
   ]
  },
  {
   "cell_type": "code",
   "execution_count": 152,
   "id": "af9afe78",
   "metadata": {
    "ExecuteTime": {
     "end_time": "2021-11-11T17:43:22.490917Z",
     "start_time": "2021-11-11T17:43:15.975317Z"
    },
    "code_folding": []
   },
   "outputs": [],
   "source": [
    "texto=[]\n",
    "for i in range(len(carpeta)):\n",
    "    texto.append(joke(carpeta[i],archivo[i]))"
   ]
  },
  {
   "cell_type": "code",
   "execution_count": null,
   "id": "cac9215c",
   "metadata": {},
   "outputs": [],
   "source": [
    "#probar con esto headers = {'Accept': 'application/vnd.github.v3.raw', "
   ]
  },
  {
   "cell_type": "code",
   "execution_count": 153,
   "id": "4a2e9a1f",
   "metadata": {
    "ExecuteTime": {
     "end_time": "2021-11-11T17:43:31.766698Z",
     "start_time": "2021-11-11T17:43:31.752695Z"
    }
   },
   "outputs": [
    {
     "data": {
      "text/plain": [
       "[{'message': 'Not Found',\n",
       "  'documentation_url': 'https://docs.github.com/rest/reference/repos#get-repository-content'},\n",
       " {'message': 'Not Found',\n",
       "  'documentation_url': 'https://docs.github.com/rest/reference/repos#get-repository-content'},\n",
       " {'message': 'Not Found',\n",
       "  'documentation_url': 'https://docs.github.com/rest/reference/repos#get-repository-content'},\n",
       " {'message': 'Not Found',\n",
       "  'documentation_url': 'https://docs.github.com/rest/reference/repos#get-repository-content'},\n",
       " {'message': 'Not Found',\n",
       "  'documentation_url': 'https://docs.github.com/rest/reference/repos#get-repository-content'},\n",
       " {'message': 'Not Found',\n",
       "  'documentation_url': 'https://docs.github.com/rest/reference/repos#get-repository-content'},\n",
       " {'message': 'Not Found',\n",
       "  'documentation_url': 'https://docs.github.com/rest/reference/repos#get-repository-content'},\n",
       " {'message': 'Not Found',\n",
       "  'documentation_url': 'https://docs.github.com/rest/reference/repos#get-repository-content'},\n",
       " {'message': 'Not Found',\n",
       "  'documentation_url': 'https://docs.github.com/rest/reference/repos#get-repository-content'},\n",
       " {'message': 'Not Found',\n",
       "  'documentation_url': 'https://docs.github.com/rest/reference/repos#get-repository-content'},\n",
       " {'message': 'Not Found',\n",
       "  'documentation_url': 'https://docs.github.com/rest/reference/repos#get-repository-content'},\n",
       " {'message': 'Not Found',\n",
       "  'documentation_url': 'https://docs.github.com/rest/reference/repos#get-repository-content'},\n",
       " {'message': 'Not Found',\n",
       "  'documentation_url': 'https://docs.github.com/rest/reference/repos#get-repository-content'},\n",
       " {'message': 'Not Found',\n",
       "  'documentation_url': 'https://docs.github.com/rest/reference/repos#get-repository-content'},\n",
       " {'message': 'Not Found',\n",
       "  'documentation_url': 'https://docs.github.com/rest/reference/repos#get-repository-content'},\n",
       " {'message': 'Not Found',\n",
       "  'documentation_url': 'https://docs.github.com/rest/reference/repos#get-repository-content'},\n",
       " {'message': 'Not Found',\n",
       "  'documentation_url': 'https://docs.github.com/rest/reference/repos#get-repository-content'},\n",
       " {'message': 'Not Found',\n",
       "  'documentation_url': 'https://docs.github.com/rest/reference/repos#get-repository-content'},\n",
       " {'message': 'Not Found',\n",
       "  'documentation_url': 'https://docs.github.com/rest/reference/repos#get-repository-content'},\n",
       " {'message': 'Not Found',\n",
       "  'documentation_url': 'https://docs.github.com/rest/reference/repos#get-repository-content'},\n",
       " {'message': 'Not Found',\n",
       "  'documentation_url': 'https://docs.github.com/rest/reference/repos#get-repository-content'},\n",
       " {'message': 'Not Found',\n",
       "  'documentation_url': 'https://docs.github.com/rest/reference/repos#get-repository-content'},\n",
       " {'message': 'Not Found',\n",
       "  'documentation_url': 'https://docs.github.com/rest/reference/repos#get-repository-content'},\n",
       " {'message': 'Not Found',\n",
       "  'documentation_url': 'https://docs.github.com/rest/reference/repos#get-repository-content'}]"
      ]
     },
     "execution_count": 153,
     "metadata": {},
     "output_type": "execute_result"
    }
   ],
   "source": [
    "texto"
   ]
  },
  {
   "cell_type": "code",
   "execution_count": null,
   "id": "5cde78a2",
   "metadata": {},
   "outputs": [],
   "source": []
  }
 ],
 "metadata": {
  "kernelspec": {
   "display_name": "Python 3",
   "language": "python",
   "name": "python3"
  },
  "language_info": {
   "codemirror_mode": {
    "name": "ipython",
    "version": 3
   },
   "file_extension": ".py",
   "mimetype": "text/x-python",
   "name": "python",
   "nbconvert_exporter": "python",
   "pygments_lexer": "ipython3",
   "version": "3.8.8"
  },
  "toc": {
   "base_numbering": 1,
   "nav_menu": {},
   "number_sections": true,
   "sideBar": true,
   "skip_h1_title": false,
   "title_cell": "Table of Contents",
   "title_sidebar": "Contents",
   "toc_cell": false,
   "toc_position": {},
   "toc_section_display": true,
   "toc_window_display": false
  },
  "varInspector": {
   "cols": {
    "lenName": 16,
    "lenType": 16,
    "lenVar": 40
   },
   "kernels_config": {
    "python": {
     "delete_cmd_postfix": "",
     "delete_cmd_prefix": "del ",
     "library": "var_list.py",
     "varRefreshCmd": "print(var_dic_list())"
    },
    "r": {
     "delete_cmd_postfix": ") ",
     "delete_cmd_prefix": "rm(",
     "library": "var_list.r",
     "varRefreshCmd": "cat(var_dic_list()) "
    }
   },
   "types_to_exclude": [
    "module",
    "function",
    "builtin_function_or_method",
    "instance",
    "_Feature"
   ],
   "window_display": false
  }
 },
 "nbformat": 4,
 "nbformat_minor": 5
}
